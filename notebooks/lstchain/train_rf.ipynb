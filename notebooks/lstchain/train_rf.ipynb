{
 "cells": [
  {
   "cell_type": "markdown",
   "metadata": {},
   "source": [
    "# Notebook for LST1 training and storage of Random Forests "
   ]
  },
  {
   "cell_type": "markdown",
   "metadata": {},
   "source": [
    "\n",
    "## Some imports"
   ]
  },
  {
   "cell_type": "code",
   "execution_count": null,
   "metadata": {},
   "outputs": [],
   "source": [
    "import numpy as np                                                                                            \n",
    "import pandas as pd                                                                                                                                                                                      \n",
    "import matplotlib.pyplot as plt                                                                               \n",
    "import joblib  \n",
    "\n",
    "from lstchain.reco.dl1_to_dl2 import train_energy, train_disp_vector, train_sep, apply_models  \n",
    "from lstchain.visualization import plot_dl2     \n",
    "from lstchain.reco import utils, disp\n",
    "\n",
    "from sklearn.model_selection import train_test_split\n",
    "from lstchain.tests.test_lstchain import dl1_params_lstcam_key\n",
    "from lstchain.io.config import get_standard_config\n",
    "\n",
    "%matplotlib inline\n",
    "plt.rcParams['figure.figsize'] = (20, 15)\n",
    "plt.rcParams['font.size'] = 14"
   ]
  },
  {
   "cell_type": "markdown",
   "metadata": {},
   "source": [
    "## Get event DL1 files for training\n",
    "\n",
    "    \n",
    "We need two files, for **gammas** and for **protons**. These gammas are pointlike."
   ]
  },
  {
   "cell_type": "code",
   "execution_count": null,
   "metadata": {},
   "outputs": [],
   "source": [
    "gammafile = \"../data/mc/dl1/gamma-diffuse/dl1_gamma_20deg_180deg_run99___cta-prod5-lapalma_4LSTs_MAGIC_desert-2158m_mono_cone6.h5\"\n",
    "protonfile = \"../data/mc/dl1/proton/dl1_proton_20deg_180deg_run99___cta-prod5-lapalma_4LSTs_MAGIC_desert-2158m_mono.h5\""
   ]
  },
  {
   "cell_type": "markdown",
   "metadata": {},
   "source": [
    "<font size=\"4\">\n",
    "We read the files as pandas dataframes:"
   ]
  },
  {
   "cell_type": "code",
   "execution_count": null,
   "metadata": {},
   "outputs": [],
   "source": [
    "# reading events\n",
    "\n",
    "df_gammas = pd.read_hdf(gammafile, key=dl1_params_lstcam_key)                                                               \n",
    "df_proton = pd.read_hdf(protonfile, key=dl1_params_lstcam_key)\n",
    "\n",
    "# Filtering events\n",
    "\n",
    "config = get_standard_config()\n",
    "events_filters = config[\"events_filters\"]\n",
    "df_gammas = utils.filter_events(df_gammas, filters=events_filters, \n",
    "                                finite_params=config['regression_features'] + config['classification_features'])\n",
    "df_proton = utils.filter_events(df_proton, filters=events_filters,\n",
    "                               finite_params=config['regression_features'] + config['classification_features'])\n",
    "\n",
    "    \n",
    "df_gammas.keys()"
   ]
  },
  {
   "cell_type": "markdown",
   "metadata": {},
   "source": [
    "<font size=\"4\">\n",
    "From all the previous information, we choose certain features to train the Random Forests. We choose the standard ones."
   ]
  },
  {
   "cell_type": "code",
   "execution_count": null,
   "metadata": {},
   "outputs": [],
   "source": [
    "features = config['regression_features']\n",
    "features "
   ]
  },
  {
   "cell_type": "markdown",
   "metadata": {},
   "source": [
    "<font size=\"4\">\n",
    "Now we must split the data into train and test sets. \n",
    "Gamma events will train energy and direction reconstruction, and gamma/hadron separation, but protons are only used for separation."
   ]
  },
  {
   "cell_type": "markdown",
   "metadata": {},
   "source": [
    "\n",
    "## Train the Reconstruction\n",
    "\n",
    "\n",
    "We train two Random Forest Regressors, from scikit-learn, to reconstruct \"energy\" and \"disp\" of the **test** set."
   ]
  },
  {
   "cell_type": "code",
   "execution_count": null,
   "metadata": {},
   "outputs": [],
   "source": [
    "#Train regressors for energy and disp_norm reconstruction, ONLY with gammas\n",
    "\n",
    "RFreg_Energy = train_energy(df_gammas)\n",
    "\n",
    "RFreg_Disp = train_disp_vector(df_gammas)\n",
    "\n",
    "\n",
    "#Train classifier for gamma/hadron separation.\n",
    "traing, testg = train_test_split(df_gammas, test_size=0.2)\n",
    "\n",
    "temp_reg_energy = train_energy(traing)\n",
    "temp_reg_disp_vector = train_disp_vector(traing)"
   ]
  },
  {
   "cell_type": "markdown",
   "metadata": {},
   "source": [
    "\n",
    "We can now predict the **energy** and **disp** of the test events, and from **disp**, calculate the reconstructed direction."
   ]
  },
  {
   "cell_type": "code",
   "execution_count": null,
   "metadata": {},
   "outputs": [],
   "source": [
    "\n",
    "test = testg.append(df_proton,ignore_index=True)            #Protons are only for testing when trainin Energy/Direction reco.\n",
    "\n",
    "\n",
    "#Apply the regressors to the test set\n",
    "\n",
    "test['log_reco_energy'] = temp_reg_energy.predict(test[features])  \n",
    "test['reco_energy'] = np.power(10,test['log_reco_energy']) \n",
    "\n",
    "disp_vector = temp_reg_disp_vector.predict(test[features])                                                  \n",
    "test['reco_disp_dx'] = pd.DataFrame(disp_vector[:,0])\n",
    "test['reco_disp_dy'] = pd.DataFrame(disp_vector[:,1])\n"
   ]
  },
  {
   "cell_type": "code",
   "execution_count": null,
   "metadata": {},
   "outputs": [],
   "source": [
    "test['reco_src_x'],test['reco_src_y'] = disp.disp_to_pos(test.reco_disp_dx,\n",
    "                                                            test.reco_disp_dy,\n",
    "                                                            test.x,\n",
    "                                                            test.y,\n",
    "                                                            )"
   ]
  },
  {
   "cell_type": "markdown",
   "metadata": {},
   "source": [
    "We use these test events with reconstructed energy and direction to \n",
    "    **train the gamma/hadron separation.**\n",
    "<br>\n",
    "We add these two features to the list of features for training:"
   ]
  },
  {
   "cell_type": "code",
   "execution_count": null,
   "metadata": {},
   "outputs": [],
   "source": [
    "features_sep = list(features)                                                                             \n",
    "features_sep.append('log_reco_energy') \n",
    "features_sep.append('reco_disp_dx')\n",
    "features_sep.append('reco_disp_dy')\n",
    "features_sep"
   ]
  },
  {
   "cell_type": "code",
   "execution_count": null,
   "metadata": {},
   "outputs": [],
   "source": [
    "test.keys()"
   ]
  },
  {
   "cell_type": "markdown",
   "metadata": {},
   "source": [
    "\n",
    "**Train the gamma/hadron classifier:**\n",
    "<br>\n",
    "Now we train a scikit-learn **RandomForestClassifier** which will separate events in two classes: 0 for **gammas** and 1 for **protons**. We call this parameter **hadroness**.\n"
   ]
  },
  {
   "cell_type": "code",
   "execution_count": null,
   "metadata": {},
   "outputs": [],
   "source": [
    "#Train the Classifier\n",
    "RFcls_GH = train_sep(test)\n"
   ]
  },
  {
   "cell_type": "markdown",
   "metadata": {},
   "source": [
    "<font size=\"4\">\n",
    "Predict the hadroness of the test events:"
   ]
  },
  {
   "cell_type": "code",
   "execution_count": null,
   "metadata": {},
   "outputs": [],
   "source": [
    "test['reco_type'] = RFcls_GH.predict(test[features_sep])"
   ]
  },
  {
   "cell_type": "code",
   "execution_count": null,
   "metadata": {},
   "outputs": [],
   "source": [
    "test['gammaness'] = 1 - test['reco_type'] "
   ]
  },
  {
   "cell_type": "markdown",
   "metadata": {},
   "source": [
    "## Save the Random Forests:\n",
    "<br>\n",
    "We can save these trained RF into files to apply them later on any set of data:"
   ]
  },
  {
   "cell_type": "code",
   "execution_count": null,
   "metadata": {},
   "outputs": [],
   "source": [
    "fileE = \"RFreg_Energy.sav\"                                                           \n",
    "fileD = \"RFreg_Disp.sav\"                                                             \n",
    "fileH = \"RFcls_GH.sav\"                                                               \n",
    "joblib.dump(RFreg_Energy, fileE)                                                                      \n",
    "joblib.dump(RFreg_Disp, fileD)                                                                        \n",
    "joblib.dump(RFcls_GH, fileH)"
   ]
  },
  {
   "cell_type": "markdown",
   "metadata": {},
   "source": [
    "\n",
    "# Now we can plot some results\n",
    "<br>\n",
    "We can take in input the corresponding testing sample from the same RF folder. \n",
    "If we apply the RF, we can get the test_dl2 file"
   ]
  },
  {
   "cell_type": "code",
   "execution_count": null,
   "metadata": {},
   "outputs": [],
   "source": [
    "\n",
    "gammafile_test = \"../data/mc/dl1/gamma/dl1_gamma_south_pointing_20201017_v0.6.3_prod5_LST1_local_off0.0deg_DL1_testing.h5\"\n",
    "df_gammas_test = pd.read_hdf(gammafile_test, key=dl1_params_lstcam_key)                                                               \n",
    "df_gammas_test = utils.filter_events(df_gammas_test, filters=events_filters,\n",
    "                                    finite_params=config['regression_features'] + config['classification_features'])\n",
    "\n",
    "test_dl2 = apply_models(df_gammas_test, RFcls_GH, RFreg_Energy, RFreg_Disp)\n"
   ]
  },
  {
   "cell_type": "markdown",
   "metadata": {},
   "source": [
    "### Distribution of features"
   ]
  },
  {
   "cell_type": "code",
   "execution_count": null,
   "metadata": {},
   "outputs": [],
   "source": [
    "plot_dl2.plot_features(test_dl2)"
   ]
  },
  {
   "cell_type": "markdown",
   "metadata": {},
   "source": [
    "## Energy reconstruction"
   ]
  },
  {
   "cell_type": "code",
   "execution_count": null,
   "metadata": {},
   "outputs": [],
   "source": [
    "plot_dl2.plot_energy_resolution(test_dl2)"
   ]
  },
  {
   "cell_type": "markdown",
   "metadata": {},
   "source": [
    "## Disp reconstruction"
   ]
  },
  {
   "cell_type": "code",
   "execution_count": null,
   "metadata": {},
   "outputs": [],
   "source": [
    "plt.rcParams['agg.path.chunksize'] = 10000   # sometimes complains and it needs this\n",
    "plot_dl2.plot_disp(test_dl2)"
   ]
  },
  {
   "cell_type": "markdown",
   "metadata": {},
   "source": [
    "## Source position in camera coordinates"
   ]
  },
  {
   "cell_type": "code",
   "execution_count": null,
   "metadata": {},
   "outputs": [],
   "source": [
    "plot_dl2.plot_pos(test_dl2)"
   ]
  },
  {
   "cell_type": "markdown",
   "metadata": {},
   "source": [
    "## Importance of features for Gamma/Hadron separation"
   ]
  },
  {
   "cell_type": "code",
   "execution_count": null,
   "metadata": {},
   "outputs": [],
   "source": [
    "plot_dl2.plot_importances(RFcls_GH,features_sep)"
   ]
  },
  {
   "cell_type": "markdown",
   "metadata": {},
   "source": [
    "## ROC curve"
   ]
  },
  {
   "cell_type": "code",
   "execution_count": null,
   "metadata": {},
   "outputs": [],
   "source": [
    "plot_dl2.plot_roc_gamma(test)\n"
   ]
  },
  {
   "cell_type": "markdown",
   "metadata": {},
   "source": [
    "# Note on mono analysis\n",
    "\n",
    "Mono analysis is very limited, specially at low energies, where it's much more difficult to separate gammas from hadrons without stereo information. If we discard low energy events, we can see that the performance improves.\n",
    "<br>\n",
    "<br>\n",
    "For example, we can cut at **500 GeV:**"
   ]
  },
  {
   "cell_type": "code",
   "execution_count": null,
   "metadata": {},
   "outputs": [],
   "source": [
    "cut = 0.5 # TeV\n",
    "\n",
    "e_cut = np.log10(cut) \n",
    "test_dl2_cut = test_dl2[test_dl2['log_reco_energy'] > e_cut]"
   ]
  },
  {
   "cell_type": "code",
   "execution_count": null,
   "metadata": {},
   "outputs": [],
   "source": [
    "plot_dl2.plot_energy_resolution(test_dl2_cut)"
   ]
  },
  {
   "cell_type": "code",
   "execution_count": null,
   "metadata": {},
   "outputs": [],
   "source": [
    "plot_dl2.plot_disp(test_dl2_cut)"
   ]
  },
  {
   "cell_type": "code",
   "execution_count": null,
   "metadata": {},
   "outputs": [],
   "source": [
    "plot_dl2.plot_pos(test_dl2_cut)"
   ]
  }
 ],
 "metadata": {
  "kernelspec": {
   "display_name": "Python 3",
   "language": "python",
   "name": "python3"
  },
  "language_info": {
   "codemirror_mode": {
    "name": "ipython",
    "version": 3
   },
   "file_extension": ".py",
   "mimetype": "text/x-python",
   "name": "python",
   "nbconvert_exporter": "python",
   "pygments_lexer": "ipython3",
   "version": "3.7.8"
  }
 },
 "nbformat": 4,
 "nbformat_minor": 2
}
