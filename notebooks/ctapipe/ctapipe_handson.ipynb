{
 "cells": [
  {
   "cell_type": "markdown",
   "metadata": {},
   "source": [
    "# Getting Started with ctapipe\n",
    "\n",
    "This notebook is a mixture of a hands-on that was originally presented at the Paris CTA Consoritum meeting by K. Kosack (@kosack) and another one presented by M. Noethe (@maxnoe)\n",
    "\n",
    "Modified version by R. Lopez-Coto (@rlopezcoto) (16/02/21)"
   ]
  },
  {
   "cell_type": "markdown",
   "metadata": {},
   "source": [
    "## 1. Load and loop over data"
   ]
  },
  {
   "cell_type": "code",
   "execution_count": null,
   "metadata": {},
   "outputs": [],
   "source": [
    "from ctapipe.io import event_source\n",
    "from ctapipe import utils\n",
    "from matplotlib import pyplot as plt\n",
    "import numpy as np\n",
    "%matplotlib inline"
   ]
  },
  {
   "cell_type": "markdown",
   "metadata": {},
   "source": [
    "Config to get nicer plots for demonstrations"
   ]
  },
  {
   "cell_type": "code",
   "execution_count": null,
   "metadata": {},
   "outputs": [],
   "source": [
    "plt.rcParams['figure.figsize'] = (10, 8)\n",
    "plt.rcParams['font.size'] = 20\n",
    "plt.rcParams['figure.figsize']"
   ]
  },
  {
   "cell_type": "code",
   "execution_count": null,
   "metadata": {},
   "outputs": [],
   "source": [
    "path = utils.get_dataset_path(\"gamma_test_large.simtel.gz\")\n",
    "source = event_source(path, max_events=4)"
   ]
  },
  {
   "cell_type": "code",
   "execution_count": null,
   "metadata": {},
   "outputs": [],
   "source": [
    "for event in source:\n",
    "    print(event.count, event.index.event_id, event.mc.energy)"
   ]
  },
  {
   "cell_type": "code",
   "execution_count": null,
   "metadata": {},
   "outputs": [],
   "source": [
    "event"
   ]
  },
  {
   "cell_type": "code",
   "execution_count": null,
   "metadata": {},
   "outputs": [],
   "source": [
    "event.r0"
   ]
  },
  {
   "cell_type": "code",
   "execution_count": null,
   "metadata": {},
   "outputs": [],
   "source": [
    "for event in event_source(path, max_events=4):\n",
    "    print(event.count, event.r0.tels_with_data)"
   ]
  },
  {
   "cell_type": "code",
   "execution_count": null,
   "metadata": {},
   "outputs": [],
   "source": [
    "event.r0.tel[2]"
   ]
  },
  {
   "cell_type": "code",
   "execution_count": null,
   "metadata": {},
   "outputs": [],
   "source": [
    "r0tel = event.r0.tel[2]"
   ]
  },
  {
   "cell_type": "code",
   "execution_count": null,
   "metadata": {},
   "outputs": [],
   "source": [
    "r0tel.waveform"
   ]
  },
  {
   "cell_type": "code",
   "execution_count": null,
   "metadata": {},
   "outputs": [],
   "source": [
    "r0tel.waveform.shape"
   ]
  },
  {
   "cell_type": "markdown",
   "metadata": {},
   "source": [
    "note that this is ($N_{channels}$, $N_{pixels}$, $N_{samples}$)"
   ]
  },
  {
   "cell_type": "code",
   "execution_count": null,
   "metadata": {},
   "outputs": [],
   "source": [
    "plt.pcolormesh(r0tel.waveform[0])"
   ]
  },
  {
   "cell_type": "code",
   "execution_count": null,
   "metadata": {},
   "outputs": [],
   "source": [
    "plt.plot(r0tel.waveform[0,10])"
   ]
  },
  {
   "cell_type": "code",
   "execution_count": null,
   "metadata": {},
   "outputs": [],
   "source": [
    "len(r0tel.waveform[0,10])"
   ]
  },
  {
   "cell_type": "code",
   "execution_count": null,
   "metadata": {},
   "outputs": [],
   "source": [
    "from ipywidgets import interact\n",
    "\n",
    "@interact\n",
    "def view_waveform(chan=0, pix_id=200):\n",
    "    plt.plot(r0tel.waveform[chan, pix_id])"
   ]
  },
  {
   "cell_type": "markdown",
   "metadata": {},
   "source": [
    "try making this compare 2 waveforms"
   ]
  },
  {
   "cell_type": "markdown",
   "metadata": {},
   "source": [
    "## 2. Explore the instrument description\n",
    "This is all well and good, but we don't really know what camera or telescope this is... how do we get instrumental description info?\n",
    "\n",
    "Currently this is returned *inside* the event (it will soon change to be separate in next version or so)"
   ]
  },
  {
   "cell_type": "code",
   "execution_count": null,
   "metadata": {},
   "outputs": [],
   "source": [
    "subarray = source.subarray"
   ]
  },
  {
   "cell_type": "code",
   "execution_count": null,
   "metadata": {},
   "outputs": [],
   "source": [
    "subarray.info()"
   ]
  },
  {
   "cell_type": "code",
   "execution_count": null,
   "metadata": {},
   "outputs": [],
   "source": [
    "subarray.peek()"
   ]
  },
  {
   "cell_type": "code",
   "execution_count": null,
   "metadata": {},
   "outputs": [],
   "source": [
    "subarray.to_table()"
   ]
  },
  {
   "cell_type": "code",
   "execution_count": null,
   "metadata": {},
   "outputs": [],
   "source": [
    "subarray.tel[2]"
   ]
  },
  {
   "cell_type": "code",
   "execution_count": null,
   "metadata": {},
   "outputs": [],
   "source": [
    "subarray.tel[2].camera"
   ]
  },
  {
   "cell_type": "code",
   "execution_count": null,
   "metadata": {},
   "outputs": [],
   "source": [
    "subarray.tel[2].optics"
   ]
  },
  {
   "cell_type": "code",
   "execution_count": null,
   "metadata": {},
   "outputs": [],
   "source": [
    "tel = subarray.tel[2]"
   ]
  },
  {
   "cell_type": "code",
   "execution_count": null,
   "metadata": {},
   "outputs": [],
   "source": [
    "tel.camera"
   ]
  },
  {
   "cell_type": "code",
   "execution_count": null,
   "metadata": {},
   "outputs": [],
   "source": [
    "tel.optics"
   ]
  },
  {
   "cell_type": "code",
   "execution_count": null,
   "metadata": {},
   "outputs": [],
   "source": [
    "tel.camera.geometry.pix_x"
   ]
  },
  {
   "cell_type": "code",
   "execution_count": null,
   "metadata": {},
   "outputs": [],
   "source": [
    "tel.camera.geometry.to_table()"
   ]
  },
  {
   "cell_type": "code",
   "execution_count": null,
   "metadata": {},
   "outputs": [],
   "source": [
    "tel.optics.mirror_area"
   ]
  },
  {
   "cell_type": "code",
   "execution_count": null,
   "metadata": {},
   "outputs": [],
   "source": [
    "from ctapipe.visualization import CameraDisplay"
   ]
  },
  {
   "cell_type": "code",
   "execution_count": null,
   "metadata": {},
   "outputs": [],
   "source": [
    "disp = CameraDisplay(tel.camera.geometry)"
   ]
  },
  {
   "cell_type": "code",
   "execution_count": null,
   "metadata": {},
   "outputs": [],
   "source": [
    "disp = CameraDisplay(tel.camera.geometry)\n",
    "disp.image = r0tel.waveform[0,:,10]  # display gain 0, sample 0 (try others like 10)\n",
    "disp.add_colorbar()"
   ]
  },
  {
   "cell_type": "markdown",
   "metadata": {},
   "source": [
    "## 3. Apply some calibration and trace integration"
   ]
  },
  {
   "cell_type": "code",
   "execution_count": null,
   "metadata": {},
   "outputs": [],
   "source": [
    "from ctapipe.calib import CameraCalibrator"
   ]
  },
  {
   "cell_type": "code",
   "execution_count": null,
   "metadata": {},
   "outputs": [],
   "source": [
    "calib = CameraCalibrator(subarray)"
   ]
  },
  {
   "cell_type": "code",
   "execution_count": null,
   "metadata": {},
   "outputs": [],
   "source": [
    "for event in event_source(path, max_events=4):\n",
    "    calib(event) # fills in r1, dl0, and dl1\n",
    "    print(event.dl1.tel.keys())"
   ]
  },
  {
   "cell_type": "code",
   "execution_count": null,
   "metadata": {},
   "outputs": [],
   "source": [
    "event.dl1.tel[2]"
   ]
  },
  {
   "cell_type": "code",
   "execution_count": null,
   "metadata": {},
   "outputs": [],
   "source": [
    "dl1tel = event.dl1.tel[2]"
   ]
  },
  {
   "cell_type": "code",
   "execution_count": null,
   "metadata": {},
   "outputs": [],
   "source": [
    "dl1tel.image.shape # note this will be gain-selected in next version, so will be just 1D array of 1855"
   ]
  },
  {
   "cell_type": "code",
   "execution_count": null,
   "metadata": {},
   "outputs": [],
   "source": [
    "dl1tel.peak_time"
   ]
  },
  {
   "cell_type": "code",
   "execution_count": null,
   "metadata": {},
   "outputs": [],
   "source": [
    "CameraDisplay(tel.camera.geometry, image=dl1tel.image)"
   ]
  },
  {
   "cell_type": "code",
   "execution_count": null,
   "metadata": {},
   "outputs": [],
   "source": [
    "CameraDisplay(tel.camera.geometry, image=dl1tel.peak_time)"
   ]
  },
  {
   "cell_type": "code",
   "execution_count": null,
   "metadata": {},
   "outputs": [],
   "source": [
    "disp = CameraDisplay(cam_geom)\n",
    "disp.image = image\n",
    "disp.highlight_pixels(cam_geom.get_border_pixel_mask(1), linewidth=2, color='xkcd:red')"
   ]
  },
  {
   "cell_type": "markdown",
   "metadata": {},
   "source": [
    "# 4. Image Cleaning and Parameters"
   ]
  },
  {
   "cell_type": "code",
   "execution_count": null,
   "metadata": {},
   "outputs": [],
   "source": [
    "from ctapipe.image import tailcuts_clean"
   ]
  },
  {
   "cell_type": "code",
   "execution_count": null,
   "metadata": {},
   "outputs": [],
   "source": [
    "cleaning_level = {\n",
    "    'ASTRICam': (5, 7, 2),  # (5, 10)?\n",
    "    'LSTCam': (3, 6, 2),  # ?? (3, 6) for Abelardo...\n",
    "    'FlashCam': (4, 8, 2),  # there is some scaling missing?\n",
    "}"
   ]
  },
  {
   "cell_type": "code",
   "execution_count": null,
   "metadata": {},
   "outputs": [],
   "source": [
    "image = dl1tel.image\n",
    "peak_time = dl1tel.peak_time\n",
    "cam_geom = tel.camera.geometry\n",
    "\n",
    "boundary, picture, min_neighbors = cleaning_level[subarray.camera_types[0].camera_name]\n",
    "\n",
    "clean_mask = tailcuts_clean(\n",
    "    cam_geom, \n",
    "    image,\n",
    "    boundary_thresh=boundary,\n",
    "    picture_thresh=picture,\n",
    "    min_number_picture_neighbors=min_neighbors\n",
    ")\n",
    "clean_mask"
   ]
  },
  {
   "cell_type": "code",
   "execution_count": null,
   "metadata": {},
   "outputs": [],
   "source": [
    "CameraDisplay(cam_geom, image=clean_mask)"
   ]
  },
  {
   "cell_type": "code",
   "execution_count": null,
   "metadata": {},
   "outputs": [],
   "source": [
    "image_cleaned = image.copy()\n",
    "image_cleaned[~clean_mask] = 0.0\n",
    "\n",
    "peak_time_cleaned = peak_time.copy()\n",
    "peak_time_cleaned[~clean_mask] = 0.0"
   ]
  },
  {
   "cell_type": "code",
   "execution_count": null,
   "metadata": {},
   "outputs": [],
   "source": [
    "disp = CameraDisplay(tel.camera.geometry, image=peak_time_cleaned)\n",
    "disp.add_colorbar()"
   ]
  },
  {
   "cell_type": "code",
   "execution_count": null,
   "metadata": {},
   "outputs": [],
   "source": [
    "disp = CameraDisplay(cam_geom, image=image_cleaned)\n",
    "disp.cmap = plt.cm.coolwarm\n",
    "disp.add_colorbar()\n",
    "plt.xlim(-1.0,0)\n",
    "plt.ylim(0,1.0)"
   ]
  },
  {
   "cell_type": "markdown",
   "metadata": {},
   "source": [
    "### Image parameters"
   ]
  },
  {
   "cell_type": "code",
   "execution_count": null,
   "metadata": {},
   "outputs": [],
   "source": [
    "hillas_params = hillas_parameters(cam_geom, image_cleaned)\n",
    "print(hillas_params)"
   ]
  },
  {
   "cell_type": "code",
   "execution_count": null,
   "metadata": {},
   "outputs": [],
   "source": [
    "disp = CameraDisplay(cam_geom, image=image_cleaned)\n",
    "disp.cmap = plt.cm.coolwarm\n",
    "disp.add_colorbar()\n",
    "plt.xlim(-1.0,0)\n",
    "plt.ylim(0,1.0)\n",
    "disp.overlay_moments(params, color='white', lw=2)"
   ]
  },
  {
   "cell_type": "code",
   "execution_count": null,
   "metadata": {},
   "outputs": [],
   "source": [
    "from ctapipe.image import hillas_parameters, leakage, concentration\n",
    "from ctapipe.image.timing import timing_parameters\n",
    "from ctapipe.image.morphology import number_of_islands\n",
    "from ctapipe.image.hillas import camera_to_shower_coordinates"
   ]
  },
  {
   "cell_type": "code",
   "execution_count": null,
   "metadata": {},
   "outputs": [],
   "source": [
    "timing = timing_parameters(\n",
    "    cam_geom,\n",
    "    image_cleaned,\n",
    "    peak_time_cleaned,\n",
    "    hillas_params,\n",
    "    clean_mask\n",
    ")\n",
    "\n",
    "print(timing)"
   ]
  },
  {
   "cell_type": "code",
   "execution_count": null,
   "metadata": {},
   "outputs": [],
   "source": [
    "long, trans = camera_to_shower_coordinates(\n",
    "    cam_geom.pix_x, cam_geom.pix_y,\n",
    "    hillas_params.x, hillas_params.y, hillas_params.psi\n",
    ")\n",
    "\n",
    "plt.plot(long[clean_mask], peak_time[clean_mask], 'o')\n",
    "plt.plot(long[clean_mask], timing.slope * long[clean_mask] + timing.intercept)"
   ]
  },
  {
   "cell_type": "code",
   "execution_count": null,
   "metadata": {},
   "outputs": [],
   "source": [
    "l = leakage(cam_geom, image, clean_mask)\n",
    "print(l)"
   ]
  },
  {
   "cell_type": "code",
   "execution_count": null,
   "metadata": {},
   "outputs": [],
   "source": [
    "disp = CameraDisplay(cam_geom)\n",
    "disp.image = image\n",
    "disp.highlight_pixels(clean_mask, linewidth=2, color='xkcd:red')"
   ]
  },
  {
   "cell_type": "code",
   "execution_count": null,
   "metadata": {},
   "outputs": [],
   "source": [
    "n_islands, island_id = number_of_islands(cam_geom, clean_mask)\n",
    "\n",
    "print(n_islands)"
   ]
  },
  {
   "cell_type": "code",
   "execution_count": null,
   "metadata": {},
   "outputs": [],
   "source": [
    "conc = concentration(cam_geom, image, hillas_params)\n",
    "print(conc)"
   ]
  },
  {
   "cell_type": "markdown",
   "metadata": {},
   "source": [
    "## 5.  Let's put it all together: \n",
    "- loop over events, selecting only telescopes of the same type (e.g. LST:LSTCam)\n",
    "- for each event, apply calibration/trace integration\n",
    "- calculate Hillas parameters \n",
    "- write out all hillas paremeters to a file that can be loaded with Pandas"
   ]
  },
  {
   "cell_type": "markdown",
   "metadata": {},
   "source": [
    "first let's select only those telescopes with LST:LSTCam"
   ]
  },
  {
   "cell_type": "code",
   "execution_count": null,
   "metadata": {},
   "outputs": [],
   "source": [
    "subarray.telescope_types"
   ]
  },
  {
   "cell_type": "code",
   "execution_count": null,
   "metadata": {},
   "outputs": [],
   "source": [
    "subarray.get_tel_ids_for_type(\"LST_LST_LSTCam\")"
   ]
  },
  {
   "cell_type": "markdown",
   "metadata": {},
   "source": [
    "Now let's write out a program"
   ]
  },
  {
   "cell_type": "code",
   "execution_count": null,
   "metadata": {},
   "outputs": [],
   "source": [
    "data = utils.get_dataset_path(\"gamma_test_large.simtel.gz\") \n",
    "source = event_source(data, allowed_tels=[1,2,3,4],  max_events=10) # remove the max_events limit to get more stats\n",
    "for event in source:\n",
    "    calib(event)\n",
    "    \n",
    "    for tel_id, tel_data in event.dl1.tel.items():\n",
    "        tel = subarray.tel[tel_id]\n",
    "        mask = tailcuts_clean(tel.camera.geometry, tel_data.image)\n",
    "        params = hillas_parameters(tel.camera.geometry[mask], tel_data.image[mask])"
   ]
  },
  {
   "cell_type": "code",
   "execution_count": null,
   "metadata": {},
   "outputs": [],
   "source": [
    "from ctapipe.io import HDF5TableWriter\n"
   ]
  },
  {
   "cell_type": "code",
   "execution_count": null,
   "metadata": {},
   "outputs": [],
   "source": [
    "with HDF5TableWriter(filename='hillas.h5', group_name='dl1', overwrite=True) as writer:\n",
    "    \n",
    "    for event in event_source(data, allowed_tels=[1,2,3,4],  max_events=10):\n",
    "        calib(event)\n",
    "    \n",
    "        for tel_id, tel_data in event.dl1.tel.items():\n",
    "            tel = subarray.tel[tel_id]\n",
    "            mask = tailcuts_clean(tel.camera.geometry, tel_data.image)\n",
    "            params = hillas_parameters(tel.camera.geometry[mask], tel_data.image[mask])\n",
    "            writer.write(\"hillas\", params)"
   ]
  },
  {
   "cell_type": "markdown",
   "metadata": {},
   "source": [
    "### We can now load in the file we created and plot it"
   ]
  },
  {
   "cell_type": "code",
   "execution_count": null,
   "metadata": {},
   "outputs": [],
   "source": [
    "!ls *.h5"
   ]
  },
  {
   "cell_type": "code",
   "execution_count": null,
   "metadata": {},
   "outputs": [],
   "source": [
    "import pandas as pd\n",
    "\n",
    "hillas = pd.read_hdf(\"hillas.h5\", key='/dl1/hillas')\n",
    "hillas"
   ]
  },
  {
   "cell_type": "markdown",
   "metadata": {},
   "source": [
    "If you do this yourself, loop over more events to get better statistics"
   ]
  },
  {
   "cell_type": "markdown",
   "metadata": {},
   "source": [
    "# Exercises"
   ]
  },
  {
   "cell_type": "markdown",
   "metadata": {},
   "source": [
    "1. Plot together several waveforms of an LST\n",
    "2. Display in a camera the DL1 information of all LST events in a file\n",
    "3. Plot a histogram of all hillas parameters of a telescope type"
   ]
  },
  {
   "cell_type": "code",
   "execution_count": null,
   "metadata": {},
   "outputs": [],
   "source": []
  }
 ],
 "metadata": {
  "kernelspec": {
   "display_name": "Python 3",
   "language": "python",
   "name": "python3"
  },
  "language_info": {
   "codemirror_mode": {
    "name": "ipython",
    "version": 3
   },
   "file_extension": ".py",
   "mimetype": "text/x-python",
   "name": "python",
   "nbconvert_exporter": "python",
   "pygments_lexer": "ipython3",
   "version": "3.7.8"
  }
 },
 "nbformat": 4,
 "nbformat_minor": 2
}
