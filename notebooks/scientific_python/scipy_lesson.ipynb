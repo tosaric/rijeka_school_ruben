{
 "cells": [
  {
   "cell_type": "markdown",
   "metadata": {},
   "source": [
    "## Fitting Data with SciPy\n",
    "\n",
    "### Simple Least Squares Fit\n",
    "First lets try a simple least squares example using noisy data"
   ]
  },
  {
   "cell_type": "code",
   "execution_count": null,
   "metadata": {},
   "outputs": [],
   "source": [
    "# Global imports and settings\n",
    "\n",
    "# Matplotlib\n",
    "%matplotlib inline\n",
    "from matplotlib import pyplot as plt\n",
    "\n",
    "# Print options\n",
    "import numpy as np"
   ]
  },
  {
   "cell_type": "code",
   "execution_count": null,
   "metadata": {},
   "outputs": [],
   "source": [
    "from scipy import optimize"
   ]
  },
  {
   "cell_type": "code",
   "execution_count": null,
   "metadata": {},
   "outputs": [],
   "source": [
    "# Generate data points with noise\n",
    "num_points = 150\n",
    "Tx = np.linspace(5., 8., num_points)\n",
    "tX = 11.86*np.cos(2*np.pi/0.81*Tx-1.32) + 0.64*Tx+4*((0.5-np.random.rand(num_points))*np.exp(2*np.random.rand(num_points)**2))\n",
    "\n",
    "plt.plot(Tx,tX,\"ro\")"
   ]
  },
  {
   "cell_type": "code",
   "execution_count": null,
   "metadata": {},
   "outputs": [],
   "source": [
    "# Fit the first set\n",
    "fitfunc = lambda p, x: p[0]*np.cos(2*np.pi/p[1]*x+p[2]) + p[3]*x # Target function\n",
    "errfunc = lambda p, x, y: fitfunc(p, x) - y # Distance to the target function\n",
    "\n"
   ]
  },
  {
   "cell_type": "code",
   "execution_count": null,
   "metadata": {},
   "outputs": [],
   "source": [
    "p0 = [-15., 0.8, 0., -1.] # Initial guess for the parameters\n",
    "p1, success = optimize.leastsq(errfunc, p0[:], args=(Tx, tX))\n",
    "print(p1)\n",
    "time = np.linspace(Tx.min(), Tx.max(), 100)\n",
    "\n",
    "plt.plot(Tx, tX, \"ro\", time, fitfunc(p1, time), \"r-\") # Plot of the data and the fit"
   ]
  },
  {
   "cell_type": "markdown",
   "metadata": {},
   "source": [
    "### Power Law Fit to error bars"
   ]
  },
  {
   "cell_type": "code",
   "execution_count": null,
   "metadata": {},
   "outputs": [],
   "source": [
    "# Define function for calculating a power law\n",
    "powerlaw = lambda x, amp, index: amp * (x**index)\n",
    "\n",
    "##########\n",
    "# Generate data points with noise\n",
    "##########\n",
    "num_points = 20\n",
    "\n",
    "# Note: all positive, non-zero data\n",
    "xdata = np.linspace(1.1, 10.1, num_points)\n",
    "ydata = powerlaw(xdata, 10.0, -2.0)     # simulated perfect data\n",
    "yerr = 0.2 * ydata                      # simulated errors (10%)\n",
    "\n",
    "ydata += np.random.randn(num_points) * yerr       # simulated noisy data\n"
   ]
  },
  {
   "cell_type": "code",
   "execution_count": null,
   "metadata": {},
   "outputs": [],
   "source": [
    "logx = np.log10(xdata)\n",
    "logy = np.log10(ydata)\n",
    "logyerr = yerr / ydata\n",
    "\n",
    "plt.errorbar(logx, logy, yerr=logyerr, fmt='k.')  # Data"
   ]
  },
  {
   "cell_type": "code",
   "execution_count": null,
   "metadata": {},
   "outputs": [],
   "source": [
    "# define our (line) fitting function\n",
    "fitfunc = lambda p, x: p[0] + p[1] * x\n",
    "errfunc = lambda p, x, y, err: np.power(y - fitfunc(p, x),2) / err"
   ]
  },
  {
   "cell_type": "code",
   "execution_count": null,
   "metadata": {},
   "outputs": [],
   "source": [
    "pinit = [1.0, -1.0]\n",
    "out = optimize.leastsq(errfunc, pinit,\n",
    "                       args=(logx, logy, logyerr), full_output=1)\n",
    "pfinal = out[0]\n",
    "covar = out[1]\n",
    "print (pfinal)\n",
    "print (covar)\n",
    "    \n",
    "index = pfinal[1]\n",
    "amp = 10.0**pfinal[0]"
   ]
  },
  {
   "cell_type": "code",
   "execution_count": null,
   "metadata": {},
   "outputs": [],
   "source": [
    "plt.plot(logx, fitfunc(pfinal, logx), color=\"red\")     # Fit\n",
    "plt.errorbar(logx, logy, yerr=logyerr, fmt='k.')  # Data"
   ]
  },
  {
   "cell_type": "markdown",
   "metadata": {},
   "source": [
    "## Interpolation"
   ]
  },
  {
   "cell_type": "code",
   "execution_count": null,
   "metadata": {},
   "outputs": [],
   "source": [
    "from scipy import interpolate"
   ]
  },
  {
   "cell_type": "code",
   "execution_count": null,
   "metadata": {},
   "outputs": [],
   "source": [
    "num_points = 30\n",
    "Tx = np.linspace(5., 8., num_points)\n",
    "tX = 11.86*np.cos(2*np.pi/0.81*Tx-1.32) + 0.64*Tx+4*((0.5))\n",
    "plt.plot(Tx,tX,\"ro\")"
   ]
  },
  {
   "cell_type": "code",
   "execution_count": null,
   "metadata": {},
   "outputs": [],
   "source": [
    "# We can use these points as an interpolation grid\n",
    "interp_grid_lin = interpolate.interp1d(Tx,tX, kind=\"linear\")\n",
    "interp_grid_cub = interpolate.interp1d(Tx,tX, kind=\"cubic\")\n",
    "\n",
    "#lets use this to draw the results\n",
    "px = np.linspace(5., 8., 1000)\n",
    "interp_points_lin = interp_grid_lin(px)\n",
    "interp_points_cub = interp_grid_cub(px)\n",
    "\n",
    "\n",
    "plt.plot(Tx,tX,\"ro\")\n",
    "plt.plot(px,interp_points_lin,\"r-\")\n",
    "plt.plot(px,interp_points_cub,\"b-\")"
   ]
  },
  {
   "cell_type": "markdown",
   "metadata": {},
   "source": [
    "##  Interpolation in more dimensions\n",
    "\n",
    "So far so uninteresting, but we can interpolate in more diminsions"
   ]
  },
  {
   "cell_type": "code",
   "execution_count": null,
   "metadata": {},
   "outputs": [],
   "source": [
    "from scipy import stats, random"
   ]
  },
  {
   "cell_type": "code",
   "execution_count": null,
   "metadata": {},
   "outputs": [],
   "source": [
    "num_points=10\n",
    "x = np.linspace(-1,1, num_points)\n",
    "y = np.linspace(-1,1, num_points)\n",
    "\n",
    "X,Y = np.meshgrid(x,y)\n",
    "r = np.sqrt(X.ravel() * X.ravel() + Y.ravel() * Y.ravel())\n",
    "weight = stats.norm.pdf(r)\n",
    "weight = weight.reshape(num_points, num_points)\n",
    "print(weight.shape)"
   ]
  },
  {
   "cell_type": "code",
   "execution_count": null,
   "metadata": {},
   "outputs": [],
   "source": [
    "plt.imshow(weight, interpolation=\"None\")"
   ]
  },
  {
   "cell_type": "code",
   "execution_count": null,
   "metadata": {},
   "outputs": [],
   "source": [
    "# Lets try creating a grid interpolator\n",
    "grid_interp = interpolate.RegularGridInterpolator((x,y), weight)\n",
    "\n",
    "xi = np.linspace(-1,1, num_points*10)\n",
    "yi = np.linspace(-1,1, num_points*10)\n",
    "\n",
    "Xi, Yi = np.meshgrid(xi, yi)\n",
    "interp_w = grid_interp((Xi.ravel(), Yi.ravel()))\n",
    "interp_w = interp_w.reshape(num_points*10, num_points*10)\n",
    "plt.imshow(interp_w, interpolation=\"None\")"
   ]
  },
  {
   "cell_type": "code",
   "execution_count": null,
   "metadata": {},
   "outputs": [],
   "source": [
    "# Data need not be on a grid though\n",
    "x = (random.rand(num_points*num_points) * 2) - 1\n",
    "y = (random.rand(num_points*num_points) * 2) - 1\n",
    "\n",
    "r = np.sqrt(x*x +y*y)\n",
    "weight = stats.norm.pdf(r)\n",
    "\n",
    "lin_ND_interp = interpolate.LinearNDInterpolator((x,y), weight)\n",
    "interp_ND_w = lin_ND_interp((Xi.ravel(), Yi.ravel()))\n",
    "interp_ND_w = interp_ND_w.reshape(num_points*10, num_points*10)\n",
    "plt.imshow(interp_ND_w, interpolation=\"None\")"
   ]
  },
  {
   "cell_type": "markdown",
   "metadata": {},
   "source": [
    "## Integration"
   ]
  },
  {
   "cell_type": "code",
   "execution_count": null,
   "metadata": {},
   "outputs": [],
   "source": [
    "from scipy import integrate"
   ]
  },
  {
   "cell_type": "code",
   "execution_count": null,
   "metadata": {},
   "outputs": [],
   "source": [
    "# Lets just try integrating a gaussian\n",
    "gaus = lambda x: stats.norm.pdf(x)\n",
    "integral = integrate.quad(gaus, -2, 2)\n",
    "print(integral)"
   ]
  },
  {
   "cell_type": "markdown",
   "metadata": {
    "collapsed": true
   },
   "source": [
    "## Exercises\n",
    "\n",
    "Define the power-law spectrum of the Crab Nebula and integrate it in the energy range between 100 GeV and 100 TeV"
   ]
  }
 ],
 "metadata": {
  "anaconda-cloud": {},
  "kernelspec": {
   "display_name": "Python 3",
   "language": "python",
   "name": "python3"
  },
  "language_info": {
   "codemirror_mode": {
    "name": "ipython",
    "version": 3
   },
   "file_extension": ".py",
   "mimetype": "text/x-python",
   "name": "python",
   "nbconvert_exporter": "python",
   "pygments_lexer": "ipython3",
   "version": "3.7.8"
  }
 },
 "nbformat": 4,
 "nbformat_minor": 1
}
