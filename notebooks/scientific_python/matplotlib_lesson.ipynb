{
 "cells": [
  {
   "cell_type": "markdown",
   "metadata": {},
   "source": [
    "# Imports"
   ]
  },
  {
   "cell_type": "code",
   "execution_count": null,
   "metadata": {},
   "outputs": [],
   "source": [
    "import matplotlib.pyplot as plt\n",
    "import numpy as np\n",
    "\n",
    "# Small trick to get a larger display\n",
    "from IPython.core.display import display, HTML\n",
    "display(HTML(\"<style>.container { width:80% !important; }</style>\"))"
   ]
  },
  {
   "cell_type": "markdown",
   "metadata": {},
   "source": [
    "**Pyplot is the Matplotlib plotting backend and the inline magic to see the graph directly in the notebook**"
   ]
  },
  {
   "cell_type": "code",
   "execution_count": null,
   "metadata": {},
   "outputs": [],
   "source": [
    "import matplotlib.pyplot as plt\n",
    "%matplotlib inline"
   ]
  },
  {
   "cell_type": "markdown",
   "metadata": {},
   "source": [
    "# Introduction to plotting with matplotlib"
   ]
  },
  {
   "cell_type": "markdown",
   "metadata": {},
   "source": [
    "![](figures/matplotlib.png)\n",
    "\n",
    "\n",
    "* **2D plotting library which produces high quality figures**\n",
    "\n",
    "\n",
    "* **Full integration in jupyter**\n",
    "\n",
    "\n",
    "* **Can generate plots, histograms, power spectra, bar charts, errorcharts, scatterplots, ... with just a few lines of code**\n",
    "\n",
    "\n",
    "* **For the power user, you have full control of line styles, font properties, axes properties, ...**\n",
    "\n",
    "\n",
    "* **See many examples of plot in [pyplot gallery](http://matplotlib.org/gallery.html)**\n",
    "\n",
    "\n",
    "* **The [documentation of pyplot](http://matplotlib.org/api/pyplot_summary.html) is extensive but a little hard to understand**\n",
    "\n",
    "Notebook reproduced from a series of tutorials here:\n",
    "http://www.ebi.ac.uk/~marco/2016_python_course/\n",
    "\n",
    "![](figures/matplotlib_examples.png)\n"
   ]
  },
  {
   "cell_type": "markdown",
   "metadata": {},
   "source": [
    "* **Many [named colors](http://matplotlib.org/examples/color/named_colors.html) are available** (keyword: color)\n",
    "\n",
    "![](figures/matplotlib_colors.png)\n",
    "\n",
    "* **As well as [color palettes](http://matplotlib.org/examples/color/colormaps_reference.html)** (keyword: colormap)\n",
    "\n",
    "![](figures/plot_colormaps_1.png)\n",
    "\n",
    "* **There are 4 different [styles for lines](http://matplotlib.org/examples/lines_bars_and_markers/line_styles_reference.html)** (keyword: linestyle)\n",
    "\n",
    "![](figures/line_styles_reference.png)\n",
    "\n",
    "* **And many different [marker types](http://matplotlib.org/examples/lines_bars_and_markers/marker_reference.html) for plot points** (keyword: marker)\n",
    "\n",
    "![](figures/marker_reference_01.png)\n",
    "\n",
    "* **pyplot also provides [stylesheet]() to yield high quality rendering effortlessly**\n",
    "\n",
    "![](figures/plot_ggplot.png)"
   ]
  },
  {
   "cell_type": "markdown",
   "metadata": {},
   "source": [
    "## Available styles\n",
    "\n",
    "There are several pre-defined styles, if you do not specify any, you will be using the default one. Specially important to produce colourblind-friendly plots are 'tableau-colorblind10' and 'seaborn-colorblind', see the CTA Document [Best Practices for Colour Blind Friendly Publications and Descriptions](https://www.cta-observatory.org/wp-content/uploads/2020/10/CTA_ColourBlindness_BestPractices2.pdf)"
   ]
  },
  {
   "cell_type": "code",
   "execution_count": null,
   "metadata": {},
   "outputs": [],
   "source": [
    "import matplotlib.style as style \n",
    "style.available"
   ]
  },
  {
   "cell_type": "markdown",
   "metadata": {},
   "source": [
    "## Let's change some of the default parameters"
   ]
  },
  {
   "cell_type": "code",
   "execution_count": null,
   "metadata": {},
   "outputs": [],
   "source": [
    "plt.rcParams['font.size'] = 20\n",
    "plt.rcParams['figure.figsize'] = (12,10)"
   ]
  },
  {
   "cell_type": "markdown",
   "metadata": {},
   "source": [
    "# Line plot\n",
    "\n",
    "**Plot lines and/or markers to the Axes**\n",
    "\n",
    "**Requires 2 lists of coordinates for the x and the y axis (OR only 1 list for the Y axis and X will be automatically created)**"
   ]
  },
  {
   "cell_type": "code",
   "execution_count": null,
   "metadata": {},
   "outputs": [],
   "source": [
    "# Create random datasets with numpy random module\n",
    "x = np.arange(50)\n",
    "y = np.random.rand(50)\n",
    "\n",
    "#Plot y using default line style and color x is automatically inferred\n",
    "plt.plot(y)\n",
    "\n",
    "# Plot x and y without line and purple diamon markers\n",
    "plt.plot(x, y+1, marker ='d', linewidth=0, color=\"purple\")\n",
    "\n",
    "# Plot x and y using dotted line and \n",
    "plt.plot(x, y+2, color = 'dodgerblue', linestyle='--')\n",
    "\n",
    "# Plot x and y using blue circle markers\n",
    "plt.plot(x, y+3, color='green', linewidth=2, marker='>', linestyle=\"-.\")\n",
    "\n",
    "# Plot x and y using blue circle markers\n",
    "plt.plot(x, y+4, color='green', linewidth=4, marker='o', linestyle=\"-\")\n",
    "# Create random datasets with numpy random module\n",
    "x = np.arange(50)\n",
    "y = np.random.rand(50)\n",
    "\n",
    "#Plot y using default line style and color x is automatically inferred\n",
    "plt.plot(y)\n",
    "\n",
    "# Plot x and y without line and purple diamon markers\n",
    "plt.plot(x, y+1, marker ='d', linewidth=0, color=\"purple\")\n",
    "\n",
    "# Plot x and y using dotted line and \n",
    "plt.plot(x, y+2, color = 'dodgerblue', linestyle='--')\n",
    "\n",
    "# Plot x and y using blue circle markers\n",
    "plt.plot(x, y+3, color='green', linewidth=2, marker='>', linestyle=\"-.\")\n",
    "\n",
    "# Plot x and y using blue circle markers\n",
    "plt.plot(x, y+4, color='green', linewidth=4, marker='o', linestyle=\"-\")\n"
   ]
  },
  {
   "cell_type": "markdown",
   "metadata": {},
   "source": [
    "# Scatter plot\n",
    "\n",
    "**Make a scatter plot of x vs y, where x and y are sequence like objects of the same length.**\n",
    "\n",
    "**Requires 2 lists of coordinates for the x and the y axis**"
   ]
  },
  {
   "cell_type": "code",
   "execution_count": null,
   "metadata": {},
   "outputs": [],
   "source": [
    "plt.scatter (np.random.randn(200),np.random.randn(200), color=\"coral\")\n",
    "plt.scatter (np.random.randn(100)+2,np.random.randn(100)+3, color=\"lightgreen\")\n",
    "plt.scatter (np.random.randn(100)-2,np.random.randn(100)*4, color=\"dodgerblue\")"
   ]
  },
  {
   "cell_type": "markdown",
   "metadata": {},
   "source": [
    "# Bar plot\n",
    "\n",
    "**Make a bar plot with rectangles**\n",
    "\n",
    "**Required a list of coordinates for the left side of the bars, a list of height, and the width of the bars** \n",
    "\n",
    "**Now plot the data as a bar plot**"
   ]
  },
  {
   "cell_type": "code",
   "execution_count": null,
   "metadata": {},
   "outputs": [],
   "source": [
    "# Create random datasets with numpy random module\n",
    "x = np.arange(10)\n",
    "\n",
    "# If the x coordinates are similar the bar are merged at the same position\n",
    "h1 = np.random.rand(10)\n",
    "plt.bar(x, height=h1, width=0.2, color=\"dodgerblue\")\n",
    "\n",
    "# To create a stacked graph, the bottom position of the series need to correspond to the previous series\n",
    "h2 = np.random.rand(10)\n",
    "plt.bar(x, height=h2, bottom= h1, width=0.2, color=\"lightblue\")\n",
    "\n",
    "# Offset the x coordinate to add a new series and customize color and aspect\n",
    "h3 = np.random.rand(10)\n",
    "plt.bar(x+0.2, height=h3, width=0.2, color ='salmon', linewidth=2, edgecolor=\"red\")\n",
    "\n",
    "# Add yerr bars\n",
    "h4 = np.random.rand(10)\n",
    "plt.bar(x+0.4, height=h4, width=0.2, color ='green', yerr=np.random.randn(10)/10, ecolor=\"black\")\n"
   ]
  },
  {
   "cell_type": "markdown",
   "metadata": {},
   "source": [
    "# Histogram\n",
    "\n",
    "**Compute and draw the histogram of x**\n",
    "\n",
    "**Requires a list of values and a number of bins to split the data**\n",
    "\n",
    "**possible type of histogram to draw (histtype)**\n",
    "\n",
    "* ‘bar’ is a traditional bar-type histogram. If multiple data are given the bars are aranged side by side.\n",
    "* ‘barstacked’ is a bar-type histogram where multiple data are stacked on top of each other.\n",
    "* ‘step’ generates a lineplot that is by default unfilled.\n",
    "* ‘stepfilled’ generates a lineplot that is by default filled.\n",
    "\n",
    "**The return value is a tuple:**\n",
    "* n = The values of the histogram bins after eventual normalisation\n",
    "* bins = The edges of the bins\n",
    "* patches = List of individual patches used to create the histogram"
   ]
  },
  {
   "cell_type": "code",
   "execution_count": null,
   "metadata": {},
   "outputs": [],
   "source": [
    "# Generate a list of 2* 1000 values following a normal distibution and computing of the distribution\n",
    "# The \n",
    "\n",
    "x = np.random.randn(1000, 2)\n",
    "n, bins, patches = plt.hist(x=x, bins=30, histtype='bar')\n",
    "\n",
    "print (n)\n",
    "print (bins)"
   ]
  },
  {
   "cell_type": "code",
   "execution_count": null,
   "metadata": {},
   "outputs": [],
   "source": [
    "# Generate a list of 2* 1000 values following a normal distibution and computing of the distribution\n",
    "# Contrary to the first plot, this time, series are stacked\n",
    "\n",
    "x = np.random.randn(1000, 2)\n",
    "n, bins, patches = plt.hist(x=x, bins=30, histtype='barstacked')"
   ]
  },
  {
   "cell_type": "code",
   "execution_count": null,
   "metadata": {},
   "outputs": [],
   "source": [
    "# Generate a list of 1000 values following a normal distibution and computing of the distribution\n",
    "# The plot is cummulative and step style\n",
    "\n",
    "x = np.random.randn(1000)\n",
    "n, bins, patches = plt.hist(x=x, bins=30, histtype='step', cumulative=True)"
   ]
  },
  {
   "cell_type": "code",
   "execution_count": null,
   "metadata": {},
   "outputs": [],
   "source": [
    "# Generate a list of 2* 1000 values following a normal distibution and computing of the distribution\n",
    "# The plot is ratated in horizontal orientation and represented in stepfilled style\n",
    "\n",
    "x = np.random.randn(1000)\n",
    "n, bins, patches = plt.hist(x=x, bins=30, histtype='stepfilled', orientation=\"horizontal\")"
   ]
  },
  {
   "cell_type": "markdown",
   "metadata": {},
   "source": [
    "# Pie plot"
   ]
  },
  {
   "cell_type": "code",
   "execution_count": null,
   "metadata": {},
   "outputs": [],
   "source": [
    "hatches = ['-', 'o', 'x', '*', '']\n",
    "\n",
    "fig, ax = plt.subplots(figsize=(12,10))\n",
    "names=['','','','','']\n",
    "entries = [23,17,35,29,12]\n",
    "patches = ax.pie(entries, labels = names,autopct='%1.0f%%', pctdistance = 1.2)\n",
    "for i in range(0, len(hatches)):\n",
    "    patches[0][i].set_hatch(hatches[i])"
   ]
  },
  {
   "cell_type": "markdown",
   "metadata": {},
   "source": [
    "## Customize the plotting area\n",
    "\n",
    "**The plotting area can be customized easily as shown below**"
   ]
  },
  {
   "cell_type": "code",
   "execution_count": null,
   "metadata": {},
   "outputs": [],
   "source": [
    "# Size of the ploting area\n",
    "plt.figure(figsize=(15,10))\n",
    "\n",
    "# Customize X and Y limits\n",
    "plt.xlim(-1,10)\n",
    "plt.ylim(-0.5,1.5)\n",
    "\n",
    "# Add X label, y label and a title\n",
    "plt.xlabel(\"this is my x label\", fontsize=15)\n",
    "plt.ylabel(\"this is my Y label\", fontsize=15)\n",
    "plt.title(\"this is my title\", fontsize=20)\n",
    "\n",
    "# Add a grid\n",
    "plt.grid(True, color=\"grey\", linewidth=0.5, linestyle=\"--\")\n",
    "\n",
    "# finally plot the graphs\n",
    "plt.plot(np.arange(10), np.random.rand(10), color=\"coral\", marker=\">\", label = \"series1\")\n",
    "plt.plot(np.arange(10), np.random.rand(10), color=\"dodgerblue\", marker=\"<\", label = \"series2\")\n",
    "\n",
    "#Add the legend outside of the plotting area\n",
    "plt.legend(bbox_to_anchor=(1, 1), loc=2, frameon=False, fontsize=15)"
   ]
  },
  {
   "cell_type": "code",
   "execution_count": null,
   "metadata": {},
   "outputs": [],
   "source": [
    "plt.figure()\n",
    "\n",
    "# First plot in the left half\n",
    "plt.subplot(121)\n",
    "plt.plot(np.arange(10), np.random.rand(10), label=\"1\")\n",
    "plt.plot(np.arange(10), np.random.rand(10), label=\"2\")\n",
    "plt.title(\"Series1\")\n",
    "plt.legend()\n",
    "\n",
    "# First plot in the right half\n",
    "plt.subplot(122)\n",
    "plt.plot(np.arange(10), np.random.rand(10), label=\"3\")\n",
    "plt.plot(np.arange(10), np.random.rand(10), label=\"4\")\n",
    "plt.title(\"Series2\")\n",
    "plt.legend()"
   ]
  },
  {
   "cell_type": "code",
   "execution_count": null,
   "metadata": {},
   "outputs": [],
   "source": [
    "plt.figure(figsize=(15,15))\n",
    "\n",
    "# First plot in the top left corner\n",
    "plt.subplot(221)\n",
    "plt.plot(np.arange(10), np.random.rand(10))\n",
    "\n",
    "# First plot in the top right corner\n",
    "plt.subplot(222)\n",
    "plt.plot(np.arange(10), np.random.rand(10))\n",
    "\n",
    "# First plot in the bottom left corner\n",
    "plt.subplot(223)\n",
    "plt.plot(np.arange(10), np.random.rand(10))\n",
    "\n",
    "# First plot in the bottom right corner\n",
    "plt.subplot(224)\n",
    "plt.plot(np.arange(10), np.random.rand(10))"
   ]
  },
  {
   "cell_type": "markdown",
   "metadata": {},
   "source": [
    "# Further reading on Matplotlib"
   ]
  },
  {
   "cell_type": "markdown",
   "metadata": {},
   "source": [
    "* [The MASSIVE pyplot documentation](http://matplotlib.org/api/pyplot_summary.html) \n",
    "\n",
    "\n",
    "* [Very good Matplotlib tutorial by Nicolas P. Rougier](http://www.labri.fr/perso/nrougier/teaching/matplotlib/)\n",
    "\n",
    "\n",
    "* [Matplotlib tutorial: Plotting tweets mentioning Trump, Clinton & Sanders](https://www.dataquest.io/blog/matplotlib-tutorial/)"
   ]
  },
  {
   "cell_type": "markdown",
   "metadata": {},
   "source": [
    "# Python plotting beyond Matplotlib"
   ]
  },
  {
   "cell_type": "markdown",
   "metadata": {},
   "source": [
    "* [Seaborn](http://seaborn.pydata.org/examples/index.html) is a Python visualization library based on matplotlib. It provides a high-level interface for drawing attractive statistical graphics.\n",
    "\n",
    "\n",
    "* [Plotly](https://plot.ly/feed) is a collaborative browser-based plotting and analytics platform. You can generate graphs and analyze data from the in-browser\n",
    "\n",
    "\n",
    "* [ggplot](http://ggplot.yhathq.com/) is a plotting system for Python based on R's ggplot2 and the Grammar of Graphics. It is built for making profressional looking, plots quickly with minimal code. "
   ]
  },
  {
   "cell_type": "markdown",
   "metadata": {},
   "source": [
    "# Exercises"
   ]
  },
  {
   "cell_type": "markdown",
   "metadata": {},
   "source": [
    "Plot a 2D histogram of random events gaussianly distributed.\n",
    "\n",
    "Do you dare to plot something like:\n",
    "![](figures/2dhist.jpg)"
   ]
  },
  {
   "cell_type": "code",
   "execution_count": null,
   "metadata": {},
   "outputs": [],
   "source": []
  }
 ],
 "metadata": {
  "kernelspec": {
   "display_name": "Python 3",
   "language": "python",
   "name": "python3"
  },
  "language_info": {
   "codemirror_mode": {
    "name": "ipython",
    "version": 3
   },
   "file_extension": ".py",
   "mimetype": "text/x-python",
   "name": "python",
   "nbconvert_exporter": "python",
   "pygments_lexer": "ipython3",
   "version": "3.7.8"
  }
 },
 "nbformat": 4,
 "nbformat_minor": 2
}
