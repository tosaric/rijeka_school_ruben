{
 "cells": [
  {
   "cell_type": "markdown",
   "metadata": {},
   "source": [
    "# Hands On Astropy Tutorial \n",
    "Original notebook shown at the [3rd Asterics-Obelics school](https://github.com/Asterics2020-Obelics/School2019/) by: **Axel Donath and Christoph Deil**. \n",
    "This is a shorter version focused on the points needed for CTA analysis. Notebook modified for this workshop by **Ruben Lopez-Coto**\n",
    "\n",
    "This hands-on tutorial gives an introduction and overview of the [Astropy](http://www.astropy.org/) Python package for Astronomy."
   ]
  },
  {
   "cell_type": "markdown",
   "metadata": {},
   "source": [
    "## Preface\n",
    "We recommend to follow this tutorial by **executing the code cells on your local machine**, along with the tutor. Every sub-topic we will cover in this tutorial will be concluded by a few exercises with different levels of difficulty (easy, advanced and hard). "
   ]
  },
  {
   "cell_type": "markdown",
   "metadata": {},
   "source": [
    "## What is Astropy?\n",
    "\n",
    "![](astropy_banner_96.png)\n",
    "\n",
    "    \"The Astropy Project is a community effort to develop a single core package for Astronomy in Python and foster interoperability between Python astronomy packages.\"\n",
    "\n",
    "\n",
    "The concept and structure of the package is decribed in more detail in the first [Astropy paper 2013](http://adsabs.harvard.edu/abs/2013A%26A...558A..33A). The development infrastructure\n",
    "and status of the v2.0 core package is described in the second [Astropy paper 2018](http://adsabs.harvard.edu/abs/2018AJ....156..123A).\n",
    "\n",
    "The **Astropy package is structured into several submodules** and we will cover (what we consider) the most important of them in the following order:\n",
    "\n",
    "1. [astropy.units](http://docs.astropy.org/en/stable/units/index.html) and in particular [astropy.units.Quantity](http://docs.astropy.org/en/stable/api/astropy.units.Quantity.html) to do astronomical calculations with units.\n",
    "\n",
    "2. [astropy.coordinates](http://docs.astropy.org/en/stable/coordinates/) and in particular the classes [SkyCoord](http://docs.astropy.org/en/stable/api/astropy.coordinates.SkyCoord.html) and [Angle](http://docs.astropy.org/en/stable/coordinates/angles.html) to handle astronomical sky positions, coordinate systems and coordinate transformations.\n",
    "\n",
    "3. [astropy.tables](http://docs.astropy.org/en/stable/table/index.html) and the [Table](http://docs.astropy.org/en/stable/api/astropy.table.Table.html) class to handle astronomical data tables.\n",
    "\n",
    "4. [astropy.io.fits](http://docs.astropy.org/en/stable/io/fits/index.html) to open and write data files in [FITS format](https://fits.gsfc.nasa.gov/fits_documentation.html).\n",
    "\n",
    "5. (optional) Plotting of astronomical sky images with [astropy.visualization.wcsaxes](http://docs.astropy.org/en/stable/visualization/wcsaxes/)\n",
    "\n",
    "In addition to the Astropy core package there is an infrastructure of  [Astropy affiliated packages](http://www.astropy.org/affiliated/) dedicated to specific fields of Astronomy or analysis tasks, such as:\n",
    "\n",
    "- [Astroplan](https://astroplan.readthedocs.io/en/latest/): observation planning\n",
    "- [Reproject](http://reproject.readthedocs.io/en/stable/): reprojection of sky images\n",
    "- [Regions](http://astropy-regions.readthedocs.io/en/latest/): handling of sky regions \n",
    "- [Photutils](https://photutils.readthedocs.io/en/stable/): source detection and photometry\n",
    "- [Gammapy](docs.gammapy.org): gamma-ray Astronomy data analysis\n",
    "- ...and many others, or maybe your package?\n",
    "\n",
    "\n",
    "## Other Ressources\n",
    "\n",
    "There are other ressources with Astropy tutorials, we can recommend:\n",
    "\n",
    "- [Learn.Astropy](http://learn.astropy.org) webpage with a lot of tutorial material.\n",
    "- [Astropy documentation](http://docs.astropy.org) webpage, with lots of small usage examples.\n",
    "- [Astropy Tutorials](https://github.com/astropy/astropy-tutorials) repository (same as linked on Learn.Astropy)\n",
    "- [Astropy workshop](https://github.com/astropy/astropy-workshop) held the AAS meeting 2019. \n",
    "- [STAK project](https://stak-notebooks.readthedocs.io/en/latest/) provided by STSci, with tutorial notebooks for typical IRAF analysis tasks. \n",
    "- [Webinar on Youtube](https://www.youtube.com/watch?v=YP42k3J08_o&list=PL7kL5D8ITGyV7zeT-oADweFKHsZNh3tKV) provided by Astronomy Data and Computing Services (ADACS). \n",
    "\n",
    "As the content that can be covered in this ~3 hour tutorial is very limited, we recommend to also **check-out the ressources** listed above after the school.\n",
    "\n",
    "See https://www.astropy.org/help.html for list of references how to **get help on Astropy**.\n",
    "\n",
    "If you would like to contribute to Astropy, please start by reading the [contribute page](http://www.astropy.org/contribute.html)\n",
    "on the website.\n",
    "\n",
    "Let's start with the setup and check of the notebook:"
   ]
  },
  {
   "cell_type": "markdown",
   "metadata": {},
   "source": [
    "## 0. Setup\n",
    "\n",
    "Check package versions. All examples should work with Astropy > 2.0 and Numpy > 1.11"
   ]
  },
  {
   "cell_type": "code",
   "execution_count": 1,
   "metadata": {
    "ExecuteTime": {
     "end_time": "2021-02-17T13:33:10.786844Z",
     "start_time": "2021-02-17T13:33:09.218501Z"
    }
   },
   "outputs": [],
   "source": [
    "%matplotlib inline \n",
    "import matplotlib.pyplot as plt"
   ]
  },
  {
   "cell_type": "code",
   "execution_count": 2,
   "metadata": {
    "ExecuteTime": {
     "end_time": "2021-02-17T13:33:11.079342Z",
     "start_time": "2021-02-17T13:33:10.789693Z"
    }
   },
   "outputs": [
    {
     "name": "stdout",
     "output_type": "stream",
     "text": [
      "numpy: 1.20.1\n",
      "astropy: 4.2\n"
     ]
    }
   ],
   "source": [
    "import numpy as np\n",
    "import astropy\n",
    "print('numpy:', np.__version__)\n",
    "print('astropy:', astropy.__version__)"
   ]
  },
  {
   "cell_type": "code",
   "execution_count": 75,
   "metadata": {
    "ExecuteTime": {
     "end_time": "2021-02-17T14:31:14.624867Z",
     "start_time": "2021-02-17T14:31:14.619873Z"
    }
   },
   "outputs": [],
   "source": [
    "from astropy.coordinates import SkyCoord\n",
    "from astropy import units as u\n",
    "import astropy.coordinates as coord\n",
    "from astropy.table import Table"
   ]
  },
  {
   "cell_type": "markdown",
   "metadata": {},
   "source": [
    "## 1. Units and Quantities\n",
    "\n",
    "The [astropy.units]() subpackage provides functions and classes to handle physical quantities with units. \n",
    "\n",
    "### 1.1. Basics\n",
    "The recommended way to import the `astropy.units` submodule is: "
   ]
  },
  {
   "cell_type": "code",
   "execution_count": 3,
   "metadata": {
    "ExecuteTime": {
     "end_time": "2021-02-17T13:33:12.991605Z",
     "start_time": "2021-02-17T13:33:12.794127Z"
    }
   },
   "outputs": [],
   "source": [
    "from astropy import units as u"
   ]
  },
  {
   "cell_type": "markdown",
   "metadata": {},
   "source": [
    "`Quantities` are created by multiplying any number with a unit object:"
   ]
  },
  {
   "cell_type": "code",
   "execution_count": 4,
   "metadata": {
    "ExecuteTime": {
     "end_time": "2021-02-16T09:05:31.987298Z",
     "start_time": "2021-02-16T09:05:31.982714Z"
    }
   },
   "outputs": [
    {
     "name": "stdout",
     "output_type": "stream",
     "text": [
      "1.0 lyr\n"
     ]
    }
   ],
   "source": [
    "distance = 1. * u.lightyear\n",
    "print(distance)"
   ]
  },
  {
   "cell_type": "markdown",
   "metadata": {},
   "source": [
    "Or by passing a string to the general `Quantity` object:"
   ]
  },
  {
   "cell_type": "code",
   "execution_count": 5,
   "metadata": {
    "ExecuteTime": {
     "end_time": "2021-02-16T09:05:37.164188Z",
     "start_time": "2021-02-16T09:05:37.158908Z"
    }
   },
   "outputs": [],
   "source": [
    "distance = u.Quantity('1 lyr')"
   ]
  },
  {
   "cell_type": "markdown",
   "metadata": {},
   "source": [
    "Check the availabe units with tab completion on the units module, `u.<TAB>`.\n",
    "\n",
    "Quantities can be also created using lists and arrays:"
   ]
  },
  {
   "cell_type": "code",
   "execution_count": 8,
   "metadata": {},
   "outputs": [
    {
     "name": "stdout",
     "output_type": "stream",
     "text": [
      "[ 1.  3. 10.] lyr\n",
      "[ 1.  3. 10.] lyr\n"
     ]
    }
   ],
   "source": [
    "distances = [1, 3, 10] * u.lightyear\n",
    "print(distances)\n",
    "\n",
    "distances = np.array([1, 3, 10]) * u.lightyear\n",
    "print(distances)"
   ]
  },
  {
   "cell_type": "code",
   "execution_count": 9,
   "metadata": {},
   "outputs": [
    {
     "data": {
      "text/plain": [
       "array([ 1.,  3., 10.])"
      ]
     },
     "execution_count": 9,
     "metadata": {},
     "output_type": "execute_result"
    }
   ],
   "source": [
    "distances.value"
   ]
  },
  {
   "cell_type": "markdown",
   "metadata": {},
   "source": [
    "The quantity object has a value attribute, which is a plain `numpy.ndarray`:"
   ]
  },
  {
   "cell_type": "code",
   "execution_count": 10,
   "metadata": {},
   "outputs": [
    {
     "data": {
      "text/plain": [
       "numpy.ndarray"
      ]
     },
     "execution_count": 10,
     "metadata": {},
     "output_type": "execute_result"
    }
   ],
   "source": [
    "type(distances.value)"
   ]
  },
  {
   "cell_type": "markdown",
   "metadata": {},
   "source": [
    "And a unit, which is represented by a `astropy.units.core.Unit` object:"
   ]
  },
  {
   "cell_type": "code",
   "execution_count": 11,
   "metadata": {},
   "outputs": [
    {
     "data": {
      "text/latex": [
       "$\\mathrm{lyr}$"
      ],
      "text/plain": [
       "Unit(\"lyr\")"
      ]
     },
     "execution_count": 11,
     "metadata": {},
     "output_type": "execute_result"
    }
   ],
   "source": [
    "distances.unit"
   ]
  },
  {
   "cell_type": "code",
   "execution_count": 12,
   "metadata": {},
   "outputs": [
    {
     "data": {
      "text/plain": [
       "astropy.units.core.Unit"
      ]
     },
     "execution_count": 12,
     "metadata": {},
     "output_type": "execute_result"
    }
   ],
   "source": [
    "type(distances.unit)"
   ]
  },
  {
   "cell_type": "markdown",
   "metadata": {},
   "source": [
    "A quantity behaves in many ways just like a `numpy.ndarray` with an attached unit."
   ]
  },
  {
   "cell_type": "code",
   "execution_count": 13,
   "metadata": {},
   "outputs": [
    {
     "data": {
      "text/latex": [
       "$[10,~30,~100] \\; \\mathrm{lyr}$"
      ],
      "text/plain": [
       "<Quantity [ 10.,  30., 100.] lyr>"
      ]
     },
     "execution_count": 13,
     "metadata": {},
     "output_type": "execute_result"
    }
   ],
   "source": [
    "distances * 10"
   ]
  },
  {
   "cell_type": "markdown",
   "metadata": {},
   "source": [
    "Many numpy functions will work as expected and return again a `Quantity` object:"
   ]
  },
  {
   "cell_type": "code",
   "execution_count": 14,
   "metadata": {},
   "outputs": [
    {
     "data": {
      "text/latex": [
       "$10 \\; \\mathrm{lyr}$"
      ],
      "text/plain": [
       "<Quantity 10. lyr>"
      ]
     },
     "execution_count": 14,
     "metadata": {},
     "output_type": "execute_result"
    }
   ],
   "source": [
    "np.max(distances)"
   ]
  },
  {
   "cell_type": "code",
   "execution_count": 15,
   "metadata": {},
   "outputs": [
    {
     "data": {
      "text/latex": [
       "$4.6666667 \\; \\mathrm{lyr}$"
      ],
      "text/plain": [
       "<Quantity 4.66666667 lyr>"
      ]
     },
     "execution_count": 15,
     "metadata": {},
     "output_type": "execute_result"
    }
   ],
   "source": [
    "np.mean(distances)"
   ]
  },
  {
   "cell_type": "markdown",
   "metadata": {},
   "source": [
    "But there are exceptions, where the unit handling is not well defined, e.g. in `np.log` arguments have to be dimensionless, such as:"
   ]
  },
  {
   "cell_type": "code",
   "execution_count": 16,
   "metadata": {},
   "outputs": [
    {
     "data": {
      "text/latex": [
       "$1.0986123 \\; \\mathrm{}$"
      ],
      "text/plain": [
       "<Quantity 1.09861229>"
      ]
     },
     "execution_count": 16,
     "metadata": {},
     "output_type": "execute_result"
    }
   ],
   "source": [
    "#np.log(30 * u.MeV) # Will raise an UnitConversionError\n",
    "np.log(30 * u.MeV / (10 * u.MeV))"
   ]
  },
  {
   "cell_type": "markdown",
   "metadata": {},
   "source": [
    "Probably the most useful method on the `Quantity` object is the `.to()` method which allows to convert a quantity to different units:"
   ]
  },
  {
   "cell_type": "code",
   "execution_count": 17,
   "metadata": {},
   "outputs": [
    {
     "data": {
      "text/latex": [
       "$9.4607305 \\times 10^{15} \\; \\mathrm{m}$"
      ],
      "text/plain": [
       "<Quantity 9.46073047e+15 m>"
      ]
     },
     "execution_count": 17,
     "metadata": {},
     "output_type": "execute_result"
    }
   ],
   "source": [
    "distance.to('meter')"
   ]
  },
  {
   "cell_type": "code",
   "execution_count": 18,
   "metadata": {},
   "outputs": [
    {
     "data": {
      "text/latex": [
       "$0.30660139 \\; \\mathrm{pc}$"
      ],
      "text/plain": [
       "<Quantity 0.30660139 pc>"
      ]
     },
     "execution_count": 18,
     "metadata": {},
     "output_type": "execute_result"
    }
   ],
   "source": [
    "distance.to(u.parsec)"
   ]
  },
  {
   "cell_type": "markdown",
   "metadata": {},
   "source": [
    "Quantities can be combined with any arithmetical expression to derive other quantities, `astropy.units` will propagate\n",
    "the units correctly:"
   ]
  },
  {
   "cell_type": "code",
   "execution_count": 19,
   "metadata": {},
   "outputs": [
    {
     "name": "stdout",
     "output_type": "stream",
     "text": [
      "299792.458 km / s\n"
     ]
    }
   ],
   "source": [
    "speed_of_light = distance / u.year\n",
    "print(speed_of_light.to('km/s'))"
   ]
  },
  {
   "cell_type": "code",
   "execution_count": 20,
   "metadata": {},
   "outputs": [
    {
     "name": "stdout",
     "output_type": "stream",
     "text": [
      "2.5902068371199996e+23 Angstrom / d\n"
     ]
    }
   ],
   "source": [
    "print(speed_of_light.to('angstrom/day'))"
   ]
  },
  {
   "cell_type": "markdown",
   "metadata": {},
   "source": [
    "For standardized unit systems such as `'si'` or `'cgs'` there are convenience attributes on the quantity object:"
   ]
  },
  {
   "cell_type": "code",
   "execution_count": 21,
   "metadata": {},
   "outputs": [
    {
     "data": {
      "text/latex": [
       "$2.9979246 \\times 10^{8} \\; \\mathrm{\\frac{m}{s}}$"
      ],
      "text/plain": [
       "<Quantity 2.99792458e+08 m / s>"
      ]
     },
     "execution_count": 21,
     "metadata": {},
     "output_type": "execute_result"
    }
   ],
   "source": [
    "speed_of_light.si"
   ]
  },
  {
   "cell_type": "code",
   "execution_count": 22,
   "metadata": {},
   "outputs": [
    {
     "data": {
      "text/latex": [
       "$2.9979246 \\times 10^{10} \\; \\mathrm{\\frac{cm}{s}}$"
      ],
      "text/plain": [
       "<Quantity 2.99792458e+10 cm / s>"
      ]
     },
     "execution_count": 22,
     "metadata": {},
     "output_type": "execute_result"
    }
   ],
   "source": [
    "speed_of_light.cgs"
   ]
  },
  {
   "cell_type": "markdown",
   "metadata": {
    "collapsed": true
   },
   "source": [
    "### 1.2. Equivalencies\n",
    "\n",
    "In Astronomy and other fields of physics quantities are often measured in more practical units, which are equivalent to the actual physical unit. In `astropy.units` this is handled with the concept of \"equivalencies\".  \n",
    "\n",
    "For example consider units to measure spectral quantities such as wavelength, frequency and energy:"
   ]
  },
  {
   "cell_type": "code",
   "execution_count": 23,
   "metadata": {},
   "outputs": [
    {
     "data": {
      "text/latex": [
       "$1.2407003 \\; \\mathrm{MeV}$"
      ],
      "text/plain": [
       "<Quantity 1.24070031 MeV>"
      ]
     },
     "execution_count": 23,
     "metadata": {},
     "output_type": "execute_result"
    }
   ],
   "source": [
    "frequency = 3e20 * u.hertz\n",
    "frequency.to('MeV', equivalencies=u.spectral())"
   ]
  },
  {
   "cell_type": "code",
   "execution_count": 24,
   "metadata": {},
   "outputs": [
    {
     "data": {
      "text/latex": [
       "$0.99930819 \\; \\mathrm{pm}$"
      ],
      "text/plain": [
       "<Quantity 0.99930819 pm>"
      ]
     },
     "execution_count": 24,
     "metadata": {},
     "output_type": "execute_result"
    }
   ],
   "source": [
    "frequency.to('picometer', equivalencies=u.spectral())"
   ]
  },
  {
   "cell_type": "markdown",
   "metadata": {},
   "source": [
    "Or for converting temperatures:"
   ]
  },
  {
   "cell_type": "code",
   "execution_count": 25,
   "metadata": {},
   "outputs": [],
   "source": [
    "temperature = 25 * u.Celsius"
   ]
  },
  {
   "cell_type": "code",
   "execution_count": 26,
   "metadata": {},
   "outputs": [
    {
     "data": {
      "text/latex": [
       "$298.15 \\; \\mathrm{K}$"
      ],
      "text/plain": [
       "<Quantity 298.15 K>"
      ]
     },
     "execution_count": 26,
     "metadata": {},
     "output_type": "execute_result"
    }
   ],
   "source": [
    "temperature.to(\"Kelvin\", equivalencies=u.temperature())"
   ]
  },
  {
   "cell_type": "code",
   "execution_count": 27,
   "metadata": {},
   "outputs": [
    {
     "name": "stdout",
     "output_type": "stream",
     "text": [
      "77.0 deg_F\n"
     ]
    }
   ],
   "source": [
    "with u.imperial.enable():\n",
    "    print(temperature.to(\"deg_F\", equivalencies=u.temperature()))"
   ]
  },
  {
   "cell_type": "markdown",
   "metadata": {},
   "source": [
    "### 1.3 Miscellaneous\n",
    "\n",
    "Astropy provides a lot of builtin physical and astronomical constants quantitites in the [astropy.constants]() submodule:"
   ]
  },
  {
   "cell_type": "code",
   "execution_count": 28,
   "metadata": {},
   "outputs": [
    {
     "name": "stdout",
     "output_type": "stream",
     "text": [
      "299792.458 km / s\n"
     ]
    }
   ],
   "source": [
    "from astropy import constants as const\n",
    "\n",
    "print(const.c.to('km / s'))"
   ]
  },
  {
   "cell_type": "markdown",
   "metadata": {},
   "source": [
    "Here is a [list of available constants](http://docs.astropy.org/en/stable/constants/#module-astropy.constants).\n",
    "\n",
    "If you write a function you can make sure the input is given in the right units using the [astropy.units.quantity_input](http://docs.astropy.org/en/stable/api/astropy.units.quantity_input.html#astropy.units.quantity_input) decorator: "
   ]
  },
  {
   "cell_type": "code",
   "execution_count": 100,
   "metadata": {
    "ExecuteTime": {
     "end_time": "2021-02-16T16:54:41.055009Z",
     "start_time": "2021-02-16T16:54:41.048800Z"
    }
   },
   "outputs": [],
   "source": [
    "# @u.quantity_input(frequency=u.hertz, temperature=u.K)\n",
    "def blackbody(frequency, temperature): \n",
    "    pre_factor = 2 * (const.h * frequency ** 3) / const.c ** 2\n",
    "    exponential_factor = 1. / (np.exp((const.h * frequency) / (const.k_B * temperature)) - 1)\n",
    "    print(pre_factor, \"\\n\",exponential_factor)\n",
    "    return pre_factor * exponential_factor"
   ]
  },
  {
   "cell_type": "code",
   "execution_count": 103,
   "metadata": {
    "ExecuteTime": {
     "end_time": "2021-02-16T16:55:40.798904Z",
     "start_time": "2021-02-16T16:55:40.788417Z"
    }
   },
   "outputs": [
    {
     "name": "stdout",
     "output_type": "stream",
     "text": [
      "3.981148554858862e-43 Hz3 J s3 / m2 \n",
      " 34727756354.884575\n"
     ]
    },
    {
     "data": {
      "text/latex": [
       "$1.3825636 \\times 10^{-32} \\; \\mathrm{\\frac{Hz^{3}\\,s^{3}\\,J}{m^{2}}}$"
      ],
      "text/plain": [
       "<Quantity 1.38256357e-32 Hz3 J s3 / m2>"
      ]
     },
     "execution_count": 103,
     "metadata": {},
     "output_type": "execute_result"
    }
   ],
   "source": [
    "blackbody(300 * u.Hz, 500 * u.K)"
   ]
  },
  {
   "cell_type": "markdown",
   "metadata": {},
   "source": [
    "### 1.4 Interfacing quantities with third-party code (optional) \n",
    "\n",
    "When writing code that uses quantities we are typically bound to use it everywhere in the code. But often we'd like to interface with functions (e.g. from [SciPy](https://www.scipy.org/) or [Matplotlib](https://matplotlib.org/)) or other third-party code that doesn't know how to handle quantities.\n",
    "\n",
    "For Matplotlib, Astropy has a builtin support using the [quantity_support()](http://docs.astropy.org/en/stable/api/astropy.visualization.quantity_support.html) context manager:"
   ]
  },
  {
   "cell_type": "code",
   "execution_count": 31,
   "metadata": {},
   "outputs": [
    {
     "name": "stderr",
     "output_type": "stream",
     "text": [
      "/Users/rlopezcoto/opt/anaconda3/envs/lst/lib/python3.7/site-packages/astropy/units/quantity.py:477: RuntimeWarning: divide by zero encountered in true_divide\n",
      "  result = super().__array_ufunc__(function, method, *arrays, **kwargs)\n"
     ]
    },
    {
     "data": {
      "image/png": "[encoded data removed]",
      "text/plain": [
       "<Figure size 576x360 with 1 Axes>"
      ]
     },
     "metadata": {
      "needs_background": "light"
     },
     "output_type": "display_data"
    }
   ],
   "source": [
    "from astropy.visualization import quantity_support\n",
    "\n",
    "plt.figure(figsize=(8, 5))\n",
    "\n",
    "temperature = 1000 * u.K\n",
    "frequencies = np.linspace(1E-5, 0.5e15, 1000) * u.hertz\n",
    "\n",
    "radiance = blackbody(frequency=frequencies, temperature=temperature)\n",
    "\n",
    "with quantity_support():   \n",
    "    plt.plot(frequencies, radiance)"
   ]
  },
  {
   "cell_type": "markdown",
   "metadata": {},
   "source": [
    "But in other cases there is only the option to convert the quantity to well defined units, strip off the unit and re-attach it after the computation:"
   ]
  },
  {
   "cell_type": "code",
   "execution_count": 32,
   "metadata": {},
   "outputs": [
    {
     "name": "stdout",
     "output_type": "stream",
     "text": [
      "[ 1.          1.29154967  1.66810054  2.15443469  2.7825594   3.59381366\n",
      "  4.64158883  5.9948425   7.74263683 10.        ] TeV\n"
     ]
    }
   ],
   "source": [
    "emin, emax = [1, 10] * u.TeV\n",
    "energies = np.logspace(np.log10(emin.value), np.log10(emax.value), 10) * emin.unit\n",
    "print(energies)"
   ]
  },
  {
   "cell_type": "markdown",
   "metadata": {},
   "source": [
    "### 1.5 Performance Tips (optional)\n",
    "\n",
    "As the main data structure of the Quantity is a standard numpy array, they are suitable for computations with large arrays. Still you have to take care of a few pitfalls.\n",
    "\n",
    "When creating a Quantity with `data * u.km` or `data * u.Unit()` by default a copy of the data is made:"
   ]
  },
  {
   "cell_type": "code",
   "execution_count": 33,
   "metadata": {},
   "outputs": [],
   "source": [
    "values = np.ones((500, 500, 500))"
   ]
  },
  {
   "cell_type": "code",
   "execution_count": 34,
   "metadata": {},
   "outputs": [
    {
     "name": "stdout",
     "output_type": "stream",
     "text": [
      "505 ms ± 7.87 ms per loop (mean ± std. dev. of 7 runs, 1 loop each)\n"
     ]
    }
   ],
   "source": [
    "%%timeit\n",
    "quantity = values * u.kpc"
   ]
  },
  {
   "cell_type": "markdown",
   "metadata": {},
   "source": [
    "If you would like to avoid the copy you can use:"
   ]
  },
  {
   "cell_type": "code",
   "execution_count": 35,
   "metadata": {},
   "outputs": [
    {
     "name": "stdout",
     "output_type": "stream",
     "text": [
      "6.57 µs ± 226 ns per loop (mean ± std. dev. of 7 runs, 100000 loops each)\n"
     ]
    }
   ],
   "source": [
    "%%timeit\n",
    "quantity = u.Quantity(values, unit=\"kpc\", copy=False)"
   ]
  },
  {
   "cell_type": "markdown",
   "metadata": {},
   "source": [
    "In Astropy > 3.1 a new operator was introduced to achieve the same behaviour:"
   ]
  },
  {
   "cell_type": "code",
   "execution_count": 36,
   "metadata": {},
   "outputs": [
    {
     "name": "stdout",
     "output_type": "stream",
     "text": [
      "10 µs ± 491 ns per loop (mean ± std. dev. of 7 runs, 100000 loops each)\n"
     ]
    }
   ],
   "source": [
    "%%timeit\n",
    "quantity = values << u.Unit(\"kpc\")"
   ]
  },
  {
   "cell_type": "markdown",
   "metadata": {},
   "source": [
    "To avoid copies when converting to different units and getting the values, you can use: "
   ]
  },
  {
   "cell_type": "code",
   "execution_count": 37,
   "metadata": {},
   "outputs": [],
   "source": [
    "quantity = u.Quantity(values, unit=\"kpc\", copy=False)\n",
    "values = quantity.to_value(\"m\")"
   ]
  },
  {
   "cell_type": "markdown",
   "metadata": {},
   "source": [
    "Instead of using`quantity.to(\"m\").value`.  More details can be found on http://docs.astropy.org/en/stable/units/index.html#performance-tips."
   ]
  },
  {
   "cell_type": "markdown",
   "metadata": {},
   "source": [
    "### 1.6 Exercises\n",
    "\n",
    "- (*easy*) How long does the light travel from the sun to the earth in minutes? How long does the light travel from the Galactic center (assume a distance of 8 kpc) in years? \n",
    "- (*advanced*) Define a new unit called `\"baro-meter\"`, which is eqivalent to 25 cm and use it to measure the height of the empire state building (assume a height of 381 meters). Please read the [Astropy documentation on combining and defining units](http://docs.astropy.org/en/stable/units/combining_and_defining.html) for an example how to do this (For other ways to measure the height of a building using a barometer see [barometer question on Wikipedia](https://en.wikipedia.org/wiki/Barometer_question)...)\n",
    "- (*expert*) Find the frequency with the maximum photon rate of the black body spectrum $\\mathcal{B}(\\nu, T)$ with temperature $T=5000~\\mathrm{K}$. For this you can use a numerical optimization routine such as [scipy.optimize.minimize](https://docs.scipy.org/doc/scipy/reference/generated/scipy.optimize.minimize.html).\n",
    "As the frequency as well as the radiance can cover many orders of magnitude, the stability of the algorithm can be much improved by minimizing the (negative) logarithm of the radiance $-\\log{\\mathcal{B}}$ as well as minimizing with respect to the logarithm of the frequency by introducing the variable $x = \\log{\\nu}$. Finally compare the result against the analytical solution from [Wien's displacement law](https://en.wikipedia.org/wiki/Wien%27s_displacement_law). "
   ]
  },
  {
   "cell_type": "code",
   "execution_count": 4,
   "metadata": {
    "ExecuteTime": {
     "end_time": "2021-02-17T13:33:20.493933Z",
     "start_time": "2021-02-17T13:33:20.489527Z"
    }
   },
   "outputs": [],
   "source": [
    "from astropy import constants as const"
   ]
  },
  {
   "cell_type": "markdown",
   "metadata": {},
   "source": [
    "### Solutions"
   ]
  },
  {
   "cell_type": "markdown",
   "metadata": {},
   "source": [
    "#### EASY"
   ]
  },
  {
   "cell_type": "code",
   "execution_count": 38,
   "metadata": {
    "ExecuteTime": {
     "end_time": "2021-02-16T15:51:07.623538Z",
     "start_time": "2021-02-16T15:51:07.617648Z"
    }
   },
   "outputs": [
    {
     "name": "stdout",
     "output_type": "stream",
     "text": [
      "Length of light travel from Sun in minutes: 8.316746397269274 min\n"
     ]
    }
   ],
   "source": [
    "# From the sun\n",
    "print(\"Length of light travel from Sun in minutes:\",(const.au / const.c).to(u.minute))"
   ]
  },
  {
   "cell_type": "code",
   "execution_count": 37,
   "metadata": {
    "ExecuteTime": {
     "end_time": "2021-02-16T15:50:19.347680Z",
     "start_time": "2021-02-16T15:50:19.325005Z"
    }
   },
   "outputs": [
    {
     "name": "stdout",
     "output_type": "stream",
     "text": [
      "Length of light travel from GC in years: 26092.510217339463 yr\n"
     ]
    }
   ],
   "source": [
    "# From the galactic center\n",
    "distance = u.Quantity(\"8 kpc\").to(u.meter)\n",
    "print(\"Length of light travel from GC in years:\", (distance / const.c).to(u.year))"
   ]
  },
  {
   "cell_type": "markdown",
   "metadata": {},
   "source": [
    "#### ADVANCED  \n",
    "Define a new unit called \"baro-meter\", which is eqivalent to 25 cm and use it to measure the height of the empire state building (assume a height of 381 meters). Please read the Astropy documentation on combining and defining units for an example how to do this (For other ways to measure the height of a building using a barometer see barometer question on Wikipedia...)"
   ]
  },
  {
   "cell_type": "code",
   "execution_count": 29,
   "metadata": {
    "ExecuteTime": {
     "end_time": "2021-02-16T15:44:42.255809Z",
     "start_time": "2021-02-16T15:44:42.251042Z"
    }
   },
   "outputs": [],
   "source": [
    "baro_meter = u.def_unit(\"baro-meter\", 25 * u.centimeter)\n",
    "height = 381 * u.meter"
   ]
  },
  {
   "cell_type": "code",
   "execution_count": 36,
   "metadata": {
    "ExecuteTime": {
     "end_time": "2021-02-16T15:49:15.704794Z",
     "start_time": "2021-02-16T15:49:15.699929Z"
    }
   },
   "outputs": [
    {
     "name": "stdout",
     "output_type": "stream",
     "text": [
      "Height of Empire S.B. in barometer: 1524.0 baro-meter\n"
     ]
    }
   ],
   "source": [
    "print(\"Height of Empire S.B. in barometer:\",height.to(baro_meter))"
   ]
  },
  {
   "cell_type": "markdown",
   "metadata": {},
   "source": [
    "#### EXPERT\n",
    "- Find the frequency with the maximum photon rate of the black body spectrum $\\mathcal{B}(\\nu, T)$ with temperature $T=5000~\\mathrm{K}$. For this you can use a numerical optimization routine such as [scipy.optimize.minimize](https://docs.scipy.org/doc/scipy/reference/generated/scipy.optimize.minimize.html).\n",
    "As the frequency as well as the radiance can cover many orders of magnitude, the stability of the algorithm can be much improved by minimizing the (negative) logarithm of the radiance $-\\log{\\mathcal{B}}$ as well as minimizing with respect to the logarithm of the frequency by introducing the variable $x = \\log{\\nu}$. Finally compare the result against the analytical solution from [Wien's displacement law](https://en.wikipedia.org/wiki/Wien%27s_displacement_law). "
   ]
  },
  {
   "cell_type": "markdown",
   "metadata": {},
   "source": [
    "B je spektralna gustoća zračenja frekvencije \\nu po jedinici frekvencije"
   ]
  },
  {
   "cell_type": "code",
   "execution_count": 43,
   "metadata": {
    "ExecuteTime": {
     "end_time": "2021-02-16T16:13:31.351030Z",
     "start_time": "2021-02-16T16:13:31.348030Z"
    }
   },
   "outputs": [],
   "source": [
    "from scipy.optimize import minimize"
   ]
  },
  {
   "cell_type": "code",
   "execution_count": 196,
   "metadata": {
    "ExecuteTime": {
     "end_time": "2021-02-16T17:46:30.033380Z",
     "start_time": "2021-02-16T17:46:30.026346Z"
    }
   },
   "outputs": [],
   "source": [
    "# @u.quantity_input(frequency=u.hertz, temperature=u.K)\n",
    "def blackbody(frequency, temperature):\n",
    "#     x = np.log10(frequency)\n",
    "    x = frequency\n",
    "    pre_factor = 2 * (const.h.value * x[0] ** 3) / const.c.value ** 2\n",
    "#     print(pre_factor)\n",
    "#     print(const.h * frequency[0].value, const.k_B * temperature)\n",
    "    exponential_factor = 1. / (np.exp((const.h.value * x[0]) / (const.k_B.value * temperature.value)) - 1)\n",
    "    rez = pre_factor * exponential_factor\n",
    "    return -1*np.log10(rez)"
   ]
  },
  {
   "cell_type": "code",
   "execution_count": 201,
   "metadata": {
    "ExecuteTime": {
     "end_time": "2021-02-16T17:48:52.437746Z",
     "start_time": "2021-02-16T17:48:52.418729Z"
    }
   },
   "outputs": [
    {
     "name": "stdout",
     "output_type": "stream",
     "text": [
      " final_simplex: (array([[2.93946286e+14],\n",
      "       [2.93946286e+14]]), array([7.62523646, 7.62523646]))\n",
      "           fun: 7.625236458701543\n",
      "       message: 'Optimization terminated successfully.'\n",
      "          nfev: 136\n",
      "           nit: 57\n",
      "        status: 0\n",
      "       success: True\n",
      "             x: array([2.93946286e+14])\n"
     ]
    }
   ],
   "source": [
    "x0 = 1e14 * u.Hz\n",
    "temperature = 5000 * u.K\n",
    "result = minimize(blackbody,x0, args = temperature, method='Nelder-Mead', bounds=(1e13,1e15))\n",
    "# print(result.x)\n",
    "print(result)"
   ]
  },
  {
   "cell_type": "code",
   "execution_count": 205,
   "metadata": {
    "ExecuteTime": {
     "end_time": "2021-02-16T17:50:33.055913Z",
     "start_time": "2021-02-16T17:50:33.046173Z"
    }
   },
   "outputs": [
    {
     "name": "stdout",
     "output_type": "stream",
     "text": [
      "5.795543910370346e-07 m\n"
     ]
    },
    {
     "data": {
      "text/latex": [
       "$5.1728097 \\times 10^{14} \\; \\mathrm{Hz}$"
      ],
      "text/plain": [
       "<Quantity 5.17280971e+14 Hz>"
      ]
     },
     "execution_count": 205,
     "metadata": {},
     "output_type": "execute_result"
    }
   ],
   "source": [
    "temp = 5000 * u.Kelvin\n",
    "lambda_w = const.b_wien / temp\n",
    "print(lambda_w)\n",
    "lambda_w.to(\"Hz\", equivalencies=u.spectral())"
   ]
  },
  {
   "cell_type": "markdown",
   "metadata": {},
   "source": [
    "## 2. Coordinates\n",
    "\n",
    "With the submodule [astropy.coordinates](http://docs.astropy.org/en/stable/coordinates/) Astropy provides a framework to handle sky positions in various coordinate systems and transformations between them.\n",
    "\n",
    "\n",
    "### 2.1 Basics\n",
    "The basic class to handle sky coordinates is [SkyCoord](http://docs.astropy.org/en/stable/api/astropy.coordinates.SkyCoord.html):"
   ]
  },
  {
   "cell_type": "code",
   "execution_count": 8,
   "metadata": {
    "ExecuteTime": {
     "end_time": "2021-02-17T13:35:22.044034Z",
     "start_time": "2021-02-17T13:35:22.039922Z"
    }
   },
   "outputs": [],
   "source": [
    "from astropy.coordinates import SkyCoord"
   ]
  },
  {
   "cell_type": "markdown",
   "metadata": {},
   "source": [
    "It can be created by passing a position angle for longitude and latitude and a keyword specifying a coordinate frame:"
   ]
  },
  {
   "cell_type": "code",
   "execution_count": 39,
   "metadata": {},
   "outputs": [
    {
     "name": "stdout",
     "output_type": "stream",
     "text": [
      "<SkyCoord (ICRS): (ra, dec) in deg\n",
      "    (83.63, 22.01)>\n"
     ]
    }
   ],
   "source": [
    "position_crab = SkyCoord(83.63 * u.deg,  22.01 * u.deg, frame='icrs')\n",
    "print(position_crab)"
   ]
  },
  {
   "cell_type": "markdown",
   "metadata": {},
   "source": [
    "As for `Quantities` the instanciation with `lists`, `arrays` or even `Quantities` also works:"
   ]
  },
  {
   "cell_type": "code",
   "execution_count": 40,
   "metadata": {},
   "outputs": [],
   "source": [
    "positions = SkyCoord([345., 234.3] * u.deg,  [-0.1, 0.2] * u.deg, frame='galactic')"
   ]
  },
  {
   "cell_type": "markdown",
   "metadata": {},
   "source": [
    "Alternatively the angles can be specified as string:"
   ]
  },
  {
   "cell_type": "code",
   "execution_count": 41,
   "metadata": {},
   "outputs": [],
   "source": [
    "position_crab = SkyCoord('5h34m31.97s', '22d0m52.10s', frame='icrs')\n",
    "\n",
    "# or\n",
    "\n",
    "position_crab = SkyCoord('5:34:31.97', '22:0:52.10',\n",
    "                         unit=(u.hour, u.deg), frame='icrs')"
   ]
  },
  {
   "cell_type": "markdown",
   "metadata": {},
   "source": [
    "Where in the first case the unit doesn't have to specified because it is encoded in the string via `'hms'` and `'dms'`."
   ]
  },
  {
   "cell_type": "markdown",
   "metadata": {},
   "source": [
    "To transform the coordinates to a different coordinate system we can use `SkyCoord.transform_to()`:"
   ]
  },
  {
   "cell_type": "code",
   "execution_count": 48,
   "metadata": {},
   "outputs": [],
   "source": [
    "pos_gal = position_crab.transform_to('galactic')"
   ]
  },
  {
   "cell_type": "markdown",
   "metadata": {},
   "source": [
    "For convenience we can also directly use the `.galactic` or `.icrs` attributes:"
   ]
  },
  {
   "cell_type": "code",
   "execution_count": 49,
   "metadata": {},
   "outputs": [
    {
     "data": {
      "text/plain": [
       "<SkyCoord (Galactic): (l, b) in deg\n",
       "    (184.55745788, -5.78435671)>"
      ]
     },
     "execution_count": 49,
     "metadata": {},
     "output_type": "execute_result"
    }
   ],
   "source": [
    "position_crab.galactic"
   ]
  },
  {
   "cell_type": "code",
   "execution_count": 50,
   "metadata": {},
   "outputs": [
    {
     "data": {
      "text/plain": [
       "<SkyCoord (ICRS): (ra, dec) in deg\n",
       "    (83.63308333, 22.0145)>"
      ]
     },
     "execution_count": 50,
     "metadata": {},
     "output_type": "execute_result"
    }
   ],
   "source": [
    "position_crab.icrs"
   ]
  },
  {
   "cell_type": "markdown",
   "metadata": {},
   "source": [
    "A very convenient way to get the coordinates of an individual object is qerying the [Sesame](http://cds.u-strasbg.fr/cgi-bin/Sesame) database with `SkyCoord.from_name()`:"
   ]
  },
  {
   "cell_type": "code",
   "execution_count": 51,
   "metadata": {},
   "outputs": [
    {
     "name": "stdout",
     "output_type": "stream",
     "text": [
      "<SkyCoord (ICRS): (ra, dec) in deg\n",
      "    (83.63308333, 22.0145)>\n"
     ]
    }
   ],
   "source": [
    "position_crab = SkyCoord.from_name('Crab')\n",
    "print(position_crab)"
   ]
  },
  {
   "cell_type": "markdown",
   "metadata": {},
   "source": [
    "To access the `longitude` and `latitude` angles individually: "
   ]
  },
  {
   "cell_type": "code",
   "execution_count": 52,
   "metadata": {},
   "outputs": [
    {
     "data": {
      "text/latex": [
       "$83^\\circ37{}^\\prime59.1{}^{\\prime\\prime}$"
      ],
      "text/plain": [
       "<Longitude 83.63308333 deg>"
      ]
     },
     "execution_count": 52,
     "metadata": {},
     "output_type": "execute_result"
    }
   ],
   "source": [
    "position_crab.data.lon"
   ]
  },
  {
   "cell_type": "code",
   "execution_count": 53,
   "metadata": {},
   "outputs": [
    {
     "data": {
      "text/latex": [
       "$22^\\circ00{}^\\prime52.2{}^{\\prime\\prime}$"
      ],
      "text/plain": [
       "<Latitude 22.0145 deg>"
      ]
     },
     "execution_count": 53,
     "metadata": {},
     "output_type": "execute_result"
    }
   ],
   "source": [
    "position_crab.data.lat"
   ]
  },
  {
   "cell_type": "markdown",
   "metadata": {},
   "source": [
    "### 2.2 Measuring distances between positions in the sky\n",
    "The angular distance between two [SkyCoord](http://docs.astropy.org/en/stable/api/astropy.coordinates.SkyCoord.html) objects, can be found using the [SkyCoord.separation()](http://docs.astropy.org/en/stable/api/astropy.coordinates.SkyCoord.html#astropy.coordinates.SkyCoord.separation) method:"
   ]
  },
  {
   "cell_type": "code",
   "execution_count": 54,
   "metadata": {},
   "outputs": [
    {
     "data": {
      "text/latex": [
       "$172^\\circ38{}^\\prime26.6996{}^{\\prime\\prime}$"
      ],
      "text/plain": [
       "<Angle 172.64074989 deg>"
      ]
     },
     "execution_count": 54,
     "metadata": {},
     "output_type": "execute_result"
    }
   ],
   "source": [
    "#position_saga = SkyCoord.from_name('Sag A*')\n",
    "position_saga = SkyCoord(0 * u.deg, 0 * u.deg, frame='galactic')\n",
    "\n",
    "position_crab.separation(position_saga)"
   ]
  },
  {
   "cell_type": "code",
   "execution_count": 55,
   "metadata": {},
   "outputs": [
    {
     "data": {
      "text/plain": [
       "<SkyCoord (ICRS): (ra, dec) in deg\n",
       "    (83.63308333, 22.0145)>"
      ]
     },
     "execution_count": 55,
     "metadata": {},
     "output_type": "execute_result"
    }
   ],
   "source": [
    "position_crab"
   ]
  },
  {
   "cell_type": "markdown",
   "metadata": {},
   "source": [
    "### 2.3 ALT - AZ coordinates (optional)\n",
    "\n",
    "In various cirumstances, e.g. for planning observations, it can be usefull to transform a sky coordinate into a position in the horizontal coordinate system given a location on earth and a time"
   ]
  },
  {
   "cell_type": "code",
   "execution_count": 56,
   "metadata": {},
   "outputs": [],
   "source": [
    "from astropy.coordinates import EarthLocation, AltAz\n",
    "from astropy.time import Time"
   ]
  },
  {
   "cell_type": "markdown",
   "metadata": {},
   "source": [
    "We define a location using [EarthLocation](http://docs.astropy.org/en/stable/api/astropy.coordinates.EarthLocation.html):"
   ]
  },
  {
   "cell_type": "code",
   "execution_count": 57,
   "metadata": {},
   "outputs": [
    {
     "name": "stdout",
     "output_type": "stream",
     "text": [
      "GeodeticLocation(lon=<Longitude 2.3508 deg>, lat=<Latitude 48.8567 deg>, height=<Quantity 7.2605446e-10 m>)\n"
     ]
    }
   ],
   "source": [
    "paris = EarthLocation(lat=48.8567 * u.deg, lon=2.3508 * u.deg)\n",
    "print(paris.geodetic)"
   ]
  },
  {
   "cell_type": "markdown",
   "metadata": {},
   "source": [
    "And a time using the [Time](http://docs.astropy.org/en/stable/api/astropy.time.Time.html) object:"
   ]
  },
  {
   "cell_type": "code",
   "execution_count": 58,
   "metadata": {},
   "outputs": [
    {
     "name": "stdout",
     "output_type": "stream",
     "text": [
      "2021-02-14 08:43:26.498638\n"
     ]
    }
   ],
   "source": [
    "now = Time.now()\n",
    "print(now)"
   ]
  },
  {
   "cell_type": "markdown",
   "metadata": {},
   "source": [
    "Now we can define a horizontal coordinate system using the [AltAz]([docs.astropy.org/en/stable/api/astropy.coordinates.AltAz.html) class and use it to convert from the sky coordinate:"
   ]
  },
  {
   "cell_type": "code",
   "execution_count": 59,
   "metadata": {},
   "outputs": [
    {
     "name": "stdout",
     "output_type": "stream",
     "text": [
      "<SkyCoord (AltAz: obstime=2021-02-14 08:43:26.498638, location=(4200910.64325784, 172456.78503911, 4780088.65877593) m, pressure=0.0 hPa, temperature=0.0 deg_C, relative_humidity=0.0, obswl=1.0 micron): (az, alt) in deg\n",
      "    (13.49900951, -18.04321286)>\n"
     ]
    }
   ],
   "source": [
    "altaz = AltAz(obstime=now, location=paris)\n",
    "crab_altaz = position_crab.transform_to(altaz)\n",
    "print(crab_altaz)"
   ]
  },
  {
   "cell_type": "markdown",
   "metadata": {},
   "source": [
    "### 2.4 Exercises\n",
    "\n",
    "- (*easy*) Define the sky coordinate for your favorite astronomical object and find the angular distance to the Crab Nebula as well as the Galactic center.\n",
    "- (*expert*) Make a plot of the height above horizon vs.time for the crab position at the location of Annecy. Mark the time range where it is visible. Would the Crab Nebula be visible tonight?"
   ]
  },
  {
   "cell_type": "markdown",
   "metadata": {},
   "source": [
    "### Solutions"
   ]
  },
  {
   "cell_type": "markdown",
   "metadata": {},
   "source": [
    "#### EASY"
   ]
  },
  {
   "cell_type": "code",
   "execution_count": 29,
   "metadata": {
    "ExecuteTime": {
     "end_time": "2021-02-17T07:47:30.542114Z",
     "start_time": "2021-02-17T07:47:30.488093Z"
    }
   },
   "outputs": [],
   "source": [
    "mrk421 = SkyCoord.from_name(\"mrk 421\", frame=\"icrs\")\n",
    "crab = SkyCoord.from_name(\"Crab\", frame=\"icrs\")\n",
    "gc = SkyCoord.from_name(\"Sgr A*\")"
   ]
  },
  {
   "cell_type": "code",
   "execution_count": 30,
   "metadata": {
    "ExecuteTime": {
     "end_time": "2021-02-17T07:47:31.088372Z",
     "start_time": "2021-02-17T07:47:31.076426Z"
    }
   },
   "outputs": [
    {
     "data": {
      "text/latex": [
       "$70^\\circ54{}^\\prime08.7379{}^{\\prime\\prime}$"
      ],
      "text/plain": [
       "<Angle 70.90242718 deg>"
      ]
     },
     "execution_count": 30,
     "metadata": {},
     "output_type": "execute_result"
    }
   ],
   "source": [
    "mrk421.separation(crab)"
   ]
  },
  {
   "cell_type": "code",
   "execution_count": 31,
   "metadata": {
    "ExecuteTime": {
     "end_time": "2021-02-17T07:47:32.065730Z",
     "start_time": "2021-02-17T07:47:32.055262Z"
    }
   },
   "outputs": [
    {
     "data": {
      "text/latex": [
       "$115^\\circ00{}^\\prime52.6613{}^{\\prime\\prime}$"
      ],
      "text/plain": [
       "<Angle 115.01462814 deg>"
      ]
     },
     "execution_count": 31,
     "metadata": {},
     "output_type": "execute_result"
    }
   ],
   "source": [
    "mrk421.separation(gc)"
   ]
  },
  {
   "cell_type": "markdown",
   "metadata": {},
   "source": [
    "#### EXPERT  \n"
   ]
  },
  {
   "cell_type": "code",
   "execution_count": 5,
   "metadata": {
    "ExecuteTime": {
     "end_time": "2021-02-17T13:34:18.715967Z",
     "start_time": "2021-02-17T13:34:17.142698Z"
    }
   },
   "outputs": [],
   "source": [
    "from astropy.coordinates import EarthLocation\n",
    "from astropy.time import Time\n",
    "from astropy.coordinates import AltAz"
   ]
  },
  {
   "cell_type": "code",
   "execution_count": 18,
   "metadata": {
    "ExecuteTime": {
     "end_time": "2021-02-16T23:29:48.842702Z",
     "start_time": "2021-02-16T23:29:48.834721Z"
    }
   },
   "outputs": [
    {
     "data": {
      "text/latex": [
       "$(5327449, -1718665.7, 3051566.9) \\; \\mathrm{m}$"
      ],
      "text/plain": [
       "<EarthLocation (5327448.9957829, -1718665.73869569, 3051566.90295403) m>"
      ]
     },
     "execution_count": 18,
     "metadata": {},
     "output_type": "execute_result"
    }
   ],
   "source": [
    "ORM = EarthLocation.of_site('Roque de los Muchachos')\n",
    "ORM"
   ]
  },
  {
   "cell_type": "code",
   "execution_count": 6,
   "metadata": {
    "ExecuteTime": {
     "end_time": "2021-02-17T13:34:57.702015Z",
     "start_time": "2021-02-17T13:34:56.248417Z"
    }
   },
   "outputs": [],
   "source": [
    "import pandas as pd\n",
    "time = pd.date_range('2021-02-17 09:00:0', '2021-02-17 23:00:0', periods=60)"
   ]
  },
  {
   "cell_type": "code",
   "execution_count": 11,
   "metadata": {
    "ExecuteTime": {
     "end_time": "2021-02-17T13:36:02.187298Z",
     "start_time": "2021-02-17T13:36:02.178129Z"
    }
   },
   "outputs": [],
   "source": [
    "annecy = EarthLocation(lat=6.1600 * u.deg, lon=45.8992 * u.deg, height = 1153)\n",
    "# print(annecy.geodetic)\n",
    "aa = AltAz(location = annecy, obstime=time)"
   ]
  },
  {
   "cell_type": "code",
   "execution_count": 12,
   "metadata": {
    "ExecuteTime": {
     "end_time": "2021-02-17T13:36:04.040105Z",
     "start_time": "2021-02-17T13:36:03.234070Z"
    }
   },
   "outputs": [],
   "source": [
    "crab = SkyCoord.from_name(\"Crab\", frame=\"icrs\")\n",
    "crab_aa = crab.transform_to(aa)"
   ]
  },
  {
   "cell_type": "code",
   "execution_count": 19,
   "metadata": {
    "ExecuteTime": {
     "end_time": "2021-02-17T13:49:41.323076Z",
     "start_time": "2021-02-17T13:49:41.041628Z"
    }
   },
   "outputs": [
    {
     "name": "stderr",
     "output_type": "stream",
     "text": [
      "No handles with labels found to put in legend.\n"
     ]
    },
    {
     "data": {
      "image/png": "[encoded data removed]",
      "text/plain": [
       "<Figure size 576x576 with 1 Axes>"
      ]
     },
     "metadata": {
      "needs_background": "light"
     },
     "output_type": "display_data"
    }
   ],
   "source": [
    "%matplotlib inline\n",
    "from matplotlib.dates import HourLocator, MinuteLocator, SecondLocator, DateFormatter\n",
    "cmap_setting = 'viridis' #viridis, magma, plasma, inferno\n",
    "fig, ax = plt.subplots(nrows=1, ncols=1, figsize=(8,8))\n",
    "# ax = ax.ravel()\n",
    "fig.suptitle(\"Crab at the Annecy location\", fontsize=20)\n",
    "color = ['green' if x>=0 else 'red' for x in crab_aa.alt.value]\n",
    "tmp1 = ax.scatter(time, crab_aa.alt.value, color=color, cmap=cmap_setting)\n",
    "ax.set_xlabel(\"Time\")\n",
    "ax.set_ylabel(\"Altitude[deg]\")\n",
    "ax.xaxis.set_major_locator(MinuteLocator(interval=60))\n",
    "ax.xaxis.set_major_formatter(DateFormatter(\"%H:%M\"))\n",
    "# fig.patch.set_alpha(1.0)\n",
    "fig.legend()\n",
    "# fig.tight_layout()\n",
    "fig.autofmt_xdate()\n",
    "# cbar = fig.colorbar(tmp1, ax=ax, orientation='horizontal', label=\"Altitude [deg]\", cmap=cmap_setting)\n",
    "# fig.savefig(\"Saved_pictures/dCoord_LST_drive_SG_astr.png\")\n",
    "fig.tight_layout()"
   ]
  },
  {
   "cell_type": "markdown",
   "metadata": {},
   "source": [
    "## 3. Tables\n",
    "\n",
    "Astropy provides the [Table](http://docs.astropy.org/en/stable/api/astropy.io.votable.tree.Table.html) class in order to handle data tables.\n",
    "\n",
    "### 3.1 Basics\n",
    "\n",
    "Table objects can be created as shown in the following"
   ]
  },
  {
   "cell_type": "code",
   "execution_count": 73,
   "metadata": {
    "ExecuteTime": {
     "end_time": "2021-02-17T14:31:04.069659Z",
     "start_time": "2021-02-17T14:31:04.065512Z"
    }
   },
   "outputs": [],
   "source": [
    "from astropy.table import Table"
   ]
  },
  {
   "cell_type": "code",
   "execution_count": 74,
   "metadata": {
    "ExecuteTime": {
     "end_time": "2021-02-17T14:31:05.781647Z",
     "start_time": "2021-02-17T14:31:05.777840Z"
    }
   },
   "outputs": [],
   "source": [
    "table = Table()"
   ]
  },
  {
   "cell_type": "markdown",
   "metadata": {},
   "source": [
    "We add columns to the table like we would add entries to a dictionary"
   ]
  },
  {
   "cell_type": "code",
   "execution_count": 22,
   "metadata": {
    "ExecuteTime": {
     "end_time": "2021-02-17T13:57:09.588335Z",
     "start_time": "2021-02-17T13:57:09.570563Z"
    }
   },
   "outputs": [],
   "source": [
    "table['Source_Name'] = ['Crab', 'Sag A*', 'Cas A']\n",
    "table['GLON'] = [184.55754381, 0, 111.74169477] * u.deg\n",
    "table['GLAT'] = [-5.78427369, 0, -2.13544151] * u.deg"
   ]
  },
  {
   "cell_type": "markdown",
   "metadata": {},
   "source": [
    "By executing the following cell, we get a nicely formatted version of the table printed in the notebook:"
   ]
  },
  {
   "cell_type": "code",
   "execution_count": 23,
   "metadata": {
    "ExecuteTime": {
     "end_time": "2021-02-17T13:57:09.610899Z",
     "start_time": "2021-02-17T13:57:09.591214Z"
    }
   },
   "outputs": [
    {
     "data": {
      "text/html": [
       "<i>Table length=3</i>\n",
       "<table id=\"table140474536105232\" class=\"table-striped table-bordered table-condensed\">\n",
       "<thead><tr><th>Source_Name</th><th>GLON</th><th>GLAT</th></tr></thead>\n",
       "<thead><tr><th></th><th>deg</th><th>deg</th></tr></thead>\n",
       "<thead><tr><th>str6</th><th>float64</th><th>float64</th></tr></thead>\n",
       "<tr><td>Crab</td><td>184.55754381</td><td>-5.78427369</td></tr>\n",
       "<tr><td>Sag A*</td><td>0.0</td><td>0.0</td></tr>\n",
       "<tr><td>Cas A</td><td>111.74169477</td><td>-2.13544151</td></tr>\n",
       "</table>"
      ],
      "text/plain": [
       "<Table length=3>\n",
       "Source_Name     GLON         GLAT   \n",
       "                deg          deg    \n",
       "    str6      float64      float64  \n",
       "----------- ------------ -----------\n",
       "       Crab 184.55754381 -5.78427369\n",
       "     Sag A*          0.0         0.0\n",
       "      Cas A 111.74169477 -2.13544151"
      ]
     },
     "execution_count": 23,
     "metadata": {},
     "output_type": "execute_result"
    }
   ],
   "source": [
    "table"
   ]
  },
  {
   "cell_type": "markdown",
   "metadata": {},
   "source": [
    "### 3.2 Accessing rows and columns"
   ]
  },
  {
   "cell_type": "markdown",
   "metadata": {},
   "source": [
    "We have access to the defined columns. To check which ones are availbe you can use `Table.colnames`:"
   ]
  },
  {
   "cell_type": "code",
   "execution_count": 24,
   "metadata": {
    "ExecuteTime": {
     "end_time": "2021-02-17T13:57:09.647490Z",
     "start_time": "2021-02-17T13:57:09.613165Z"
    }
   },
   "outputs": [
    {
     "data": {
      "text/plain": [
       "['Source_Name', 'GLON', 'GLAT']"
      ]
     },
     "execution_count": 24,
     "metadata": {},
     "output_type": "execute_result"
    }
   ],
   "source": [
    "table.colnames"
   ]
  },
  {
   "cell_type": "markdown",
   "metadata": {},
   "source": [
    "And access individual columns just by their name:"
   ]
  },
  {
   "cell_type": "code",
   "execution_count": 25,
   "metadata": {
    "ExecuteTime": {
     "end_time": "2021-02-17T13:57:09.665861Z",
     "start_time": "2021-02-17T13:57:09.649947Z"
    }
   },
   "outputs": [
    {
     "data": {
      "text/html": [
       "&lt;Column name=&apos;GLON&apos; dtype=&apos;float64&apos; unit=&apos;deg&apos; length=3&gt;\n",
       "<table>\n",
       "<tr><td>184.55754381</td></tr>\n",
       "<tr><td>0.0</td></tr>\n",
       "<tr><td>111.74169477</td></tr>\n",
       "</table>"
      ],
      "text/plain": [
       "<Column name='GLON' dtype='float64' unit='deg' length=3>\n",
       "184.55754381\n",
       "         0.0\n",
       "111.74169477"
      ]
     },
     "execution_count": 25,
     "metadata": {},
     "output_type": "execute_result"
    }
   ],
   "source": [
    "table['GLON']"
   ]
  },
  {
   "cell_type": "markdown",
   "metadata": {},
   "source": [
    "And also a subset of columns:"
   ]
  },
  {
   "cell_type": "code",
   "execution_count": 26,
   "metadata": {
    "ExecuteTime": {
     "end_time": "2021-02-17T13:57:09.685852Z",
     "start_time": "2021-02-17T13:57:09.668116Z"
    }
   },
   "outputs": [
    {
     "data": {
      "text/html": [
       "<i>Table length=3</i>\n",
       "<table id=\"table140474535382672\" class=\"table-striped table-bordered table-condensed\">\n",
       "<thead><tr><th>Source_Name</th><th>GLON</th></tr></thead>\n",
       "<thead><tr><th></th><th>deg</th></tr></thead>\n",
       "<thead><tr><th>str6</th><th>float64</th></tr></thead>\n",
       "<tr><td>Crab</td><td>184.55754381</td></tr>\n",
       "<tr><td>Sag A*</td><td>0.0</td></tr>\n",
       "<tr><td>Cas A</td><td>111.74169477</td></tr>\n",
       "</table>"
      ],
      "text/plain": [
       "<Table length=3>\n",
       "Source_Name     GLON    \n",
       "                deg     \n",
       "    str6      float64   \n",
       "----------- ------------\n",
       "       Crab 184.55754381\n",
       "     Sag A*          0.0\n",
       "      Cas A 111.74169477"
      ]
     },
     "execution_count": 26,
     "metadata": {},
     "output_type": "execute_result"
    }
   ],
   "source": [
    "table[['Source_Name', 'GLON']]"
   ]
  },
  {
   "cell_type": "markdown",
   "metadata": {},
   "source": [
    "Often, it is handy to get the column data as [astropy.units.Quantity](http://docs.astropy.org/en/stable/api/astropy.units.Quantity.html#astropy.units.Quantity) using the `.quantity` property:"
   ]
  },
  {
   "cell_type": "code",
   "execution_count": 27,
   "metadata": {
    "ExecuteTime": {
     "end_time": "2021-02-17T13:57:09.702800Z",
     "start_time": "2021-02-17T13:57:09.688214Z"
    }
   },
   "outputs": [
    {
     "data": {
      "text/latex": [
       "$[184.55754,~0,~111.74169] \\; \\mathrm{{}^{\\circ}}$"
      ],
      "text/plain": [
       "<Quantity [184.55754381,   0.        , 111.74169477] deg>"
      ]
     },
     "execution_count": 27,
     "metadata": {},
     "output_type": "execute_result"
    }
   ],
   "source": [
    "table['GLON'].quantity"
   ]
  },
  {
   "cell_type": "markdown",
   "metadata": {},
   "source": [
    "Rows can be accessed using numpy indexing:"
   ]
  },
  {
   "cell_type": "code",
   "execution_count": 28,
   "metadata": {
    "ExecuteTime": {
     "end_time": "2021-02-17T13:57:09.722750Z",
     "start_time": "2021-02-17T13:57:09.705626Z"
    }
   },
   "outputs": [
    {
     "data": {
      "text/html": [
       "<i>Table length=2</i>\n",
       "<table id=\"table140474535404368\" class=\"table-striped table-bordered table-condensed\">\n",
       "<thead><tr><th>Source_Name</th><th>GLON</th><th>GLAT</th></tr></thead>\n",
       "<thead><tr><th></th><th>deg</th><th>deg</th></tr></thead>\n",
       "<thead><tr><th>str6</th><th>float64</th><th>float64</th></tr></thead>\n",
       "<tr><td>Crab</td><td>184.55754381</td><td>-5.78427369</td></tr>\n",
       "<tr><td>Sag A*</td><td>0.0</td><td>0.0</td></tr>\n",
       "</table>"
      ],
      "text/plain": [
       "<Table length=2>\n",
       "Source_Name     GLON         GLAT   \n",
       "                deg          deg    \n",
       "    str6      float64      float64  \n",
       "----------- ------------ -----------\n",
       "       Crab 184.55754381 -5.78427369\n",
       "     Sag A*          0.0         0.0"
      ]
     },
     "execution_count": 28,
     "metadata": {},
     "output_type": "execute_result"
    }
   ],
   "source": [
    "table[0:2]"
   ]
  },
  {
   "cell_type": "markdown",
   "metadata": {},
   "source": [
    "Or by using a boolean numpy array for indexing:"
   ]
  },
  {
   "cell_type": "code",
   "execution_count": 29,
   "metadata": {
    "ExecuteTime": {
     "end_time": "2021-02-17T13:57:09.741558Z",
     "start_time": "2021-02-17T13:57:09.724883Z"
    }
   },
   "outputs": [
    {
     "data": {
      "text/html": [
       "<i>Table length=1</i>\n",
       "<table id=\"table140474535404688\" class=\"table-striped table-bordered table-condensed\">\n",
       "<thead><tr><th>Source_Name</th><th>GLON</th><th>GLAT</th></tr></thead>\n",
       "<thead><tr><th></th><th>deg</th><th>deg</th></tr></thead>\n",
       "<thead><tr><th>str6</th><th>float64</th><th>float64</th></tr></thead>\n",
       "<tr><td>Crab</td><td>184.55754381</td><td>-5.78427369</td></tr>\n",
       "</table>"
      ],
      "text/plain": [
       "<Table length=1>\n",
       "Source_Name     GLON         GLAT   \n",
       "                deg          deg    \n",
       "    str6      float64      float64  \n",
       "----------- ------------ -----------\n",
       "       Crab 184.55754381 -5.78427369"
      ]
     },
     "execution_count": 29,
     "metadata": {},
     "output_type": "execute_result"
    }
   ],
   "source": [
    "selection = table['Source_Name'] == 'Crab'\n",
    "table[selection]"
   ]
  },
  {
   "cell_type": "markdown",
   "metadata": {},
   "source": [
    "There is also a more sophisticated indexing scheme, which is explained [here](http://docs.astropy.org/en/stable/table/indexing.html), but not covered in this tutorial."
   ]
  },
  {
   "cell_type": "markdown",
   "metadata": {},
   "source": [
    "### 3.3 Reading / Writing tables to disk\n",
    "Astropy tables can be serialized into many formats. For an overview see [here](http://docs.astropy.org/en/latest/io/unified.html#built-in-table-readers-writers). To write the table in FITS format we can use:"
   ]
  },
  {
   "cell_type": "code",
   "execution_count": 70,
   "metadata": {},
   "outputs": [],
   "source": [
    "table.write('data/example.fits', overwrite=True, format='fits')"
   ]
  },
  {
   "cell_type": "code",
   "execution_count": 71,
   "metadata": {},
   "outputs": [],
   "source": [
    "table.write('data/example.ecsv', overwrite=True, format='ascii.ecsv')"
   ]
  },
  {
   "cell_type": "code",
   "execution_count": 77,
   "metadata": {
    "ExecuteTime": {
     "end_time": "2021-02-17T14:31:30.846868Z",
     "start_time": "2021-02-17T14:31:30.825836Z"
    }
   },
   "outputs": [
    {
     "data": {
      "text/html": [
       "<i>Table length=3</i>\n",
       "<table id=\"table140479270249232\" class=\"table-striped table-bordered table-condensed\">\n",
       "<thead><tr><th>Source_Name</th><th>GLON</th><th>GLAT</th></tr></thead>\n",
       "<thead><tr><th></th><th>deg</th><th>deg</th></tr></thead>\n",
       "<thead><tr><th>bytes6</th><th>float64</th><th>float64</th></tr></thead>\n",
       "<tr><td>Crab</td><td>184.55754381</td><td>-5.78427369</td></tr>\n",
       "<tr><td>Sag A*</td><td>0.0</td><td>0.0</td></tr>\n",
       "<tr><td>Cas A</td><td>111.74169477</td><td>-2.13544151</td></tr>\n",
       "</table>"
      ],
      "text/plain": [
       "<Table length=3>\n",
       "Source_Name     GLON         GLAT   \n",
       "                deg          deg    \n",
       "   bytes6     float64      float64  \n",
       "----------- ------------ -----------\n",
       "       Crab 184.55754381 -5.78427369\n",
       "     Sag A*          0.0         0.0\n",
       "      Cas A 111.74169477 -2.13544151"
      ]
     },
     "execution_count": 77,
     "metadata": {},
     "output_type": "execute_result"
    }
   ],
   "source": [
    "table = Table.read('data/example.fits')\n",
    "table"
   ]
  },
  {
   "cell_type": "markdown",
   "metadata": {},
   "source": [
    "### 3.4. Miscellaneous\n",
    "\n",
    "These are a few other useful operations when working with Astropy tables.\n",
    "\n",
    "Sort by key:"
   ]
  },
  {
   "cell_type": "code",
   "execution_count": 71,
   "metadata": {
    "ExecuteTime": {
     "end_time": "2021-02-17T14:30:47.454352Z",
     "start_time": "2021-02-17T14:30:47.449629Z"
    }
   },
   "outputs": [],
   "source": [
    "table.sort('GLON')"
   ]
  },
  {
   "cell_type": "code",
   "execution_count": 72,
   "metadata": {
    "ExecuteTime": {
     "end_time": "2021-02-17T14:30:47.764652Z",
     "start_time": "2021-02-17T14:30:47.757274Z"
    }
   },
   "outputs": [
    {
     "data": {
      "text/html": [
       "<i>Table length=3</i>\n",
       "<table id=\"table140479277042256\" class=\"table-striped table-bordered table-condensed\">\n",
       "<thead><tr><th>Source_Name</th><th>GLON</th><th>GLAT</th></tr></thead>\n",
       "<thead><tr><th></th><th>deg</th><th>deg</th></tr></thead>\n",
       "<thead><tr><th>bytes6</th><th>float64</th><th>float64</th></tr></thead>\n",
       "<tr><td>Sag A*</td><td>0.0</td><td>0.0</td></tr>\n",
       "<tr><td>Cas A</td><td>111.74169477</td><td>-2.13544151</td></tr>\n",
       "<tr><td>Crab</td><td>184.55754381</td><td>-5.78427369</td></tr>\n",
       "</table>"
      ],
      "text/plain": [
       "<Table length=3>\n",
       "Source_Name     GLON         GLAT   \n",
       "                deg          deg    \n",
       "   bytes6     float64      float64  \n",
       "----------- ------------ -----------\n",
       "     Sag A*          0.0         0.0\n",
       "      Cas A 111.74169477 -2.13544151\n",
       "       Crab 184.55754381 -5.78427369"
      ]
     },
     "execution_count": 72,
     "metadata": {},
     "output_type": "execute_result"
    }
   ],
   "source": [
    "table"
   ]
  },
  {
   "cell_type": "markdown",
   "metadata": {},
   "source": [
    "Note that `.sort()` is an in place operation on the table, i.e. changes the actual table.\n",
    "\n",
    "To remove a specific row by index:"
   ]
  },
  {
   "cell_type": "code",
   "execution_count": 34,
   "metadata": {
    "ExecuteTime": {
     "end_time": "2021-02-17T13:57:19.817783Z",
     "start_time": "2021-02-17T13:57:19.813503Z"
    }
   },
   "outputs": [],
   "source": [
    "table.remove_row(0)"
   ]
  },
  {
   "cell_type": "markdown",
   "metadata": {},
   "source": [
    "Astropy tables also support row-wise iteration in Python loops:"
   ]
  },
  {
   "cell_type": "code",
   "execution_count": 35,
   "metadata": {
    "ExecuteTime": {
     "end_time": "2021-02-17T13:57:22.431559Z",
     "start_time": "2021-02-17T13:57:22.426189Z"
    }
   },
   "outputs": [
    {
     "name": "stdout",
     "output_type": "stream",
     "text": [
      "Cas A\n",
      "Crab\n"
     ]
    }
   ],
   "source": [
    "for row in table:\n",
    "    print(row['Source_Name'])"
   ]
  },
  {
   "cell_type": "markdown",
   "metadata": {},
   "source": [
    "Another useful feature for quickly inspecting the data contained in the table is the `.show_in_browser()` method:"
   ]
  },
  {
   "cell_type": "code",
   "execution_count": 36,
   "metadata": {
    "ExecuteTime": {
     "end_time": "2021-02-17T13:57:24.055415Z",
     "start_time": "2021-02-17T13:57:23.795684Z"
    }
   },
   "outputs": [],
   "source": [
    "table.show_in_browser(jsviewer=True)"
   ]
  },
  {
   "cell_type": "markdown",
   "metadata": {},
   "source": [
    "### 3.5 Exercises\n",
    "\n",
    "- (*easy*) Add columns with the `RA` and `DEC` coordinates of the objects to the example table.\n",
    "- (*advanced *) Load the Fermi 2FHL catalog table (`'data/fermi_2fhl_catalog.fits'`) and find the brighest source (the brightness value is stored in the `'Flux50'` column). What is the common name of the source (column `'ASSOC'`)?\n",
    "Find all sources within 10 deg from the position of this source.\n",
    "- (*expert*) Make an allsky plot (using an 'Aitoff' projection) of all the sources in the Fermi 2FHL catalog grouped by source class (i.e. choose a different marker color for every source class). The class of the sources is stored in the `'CLASS'` column. There are a few possible ways to identify the groups of source class. One of them is to use [Table.group_by()](http://docs.astropy.org/en/stable/api/astropy.table.Table.html#astropy.table.Table.group_by) followed by a loop over the groups (check Astropy documentation!) another way is to use a regular Python `set` to idenfity the unique entries in the `'CLASS'` column and loop over those. You can use `plt.subplot(projection='aitoff')` to instanciate a matplotlib axes with `'Aitoff'` projection. Note that the `'Aitoff'` projection requires angular positions measured in radians."
   ]
  },
  {
   "cell_type": "markdown",
   "metadata": {},
   "source": [
    "### Solutions"
   ]
  },
  {
   "cell_type": "markdown",
   "metadata": {},
   "source": [
    "#### EASY"
   ]
  },
  {
   "cell_type": "code",
   "execution_count": 78,
   "metadata": {
    "ExecuteTime": {
     "end_time": "2021-02-17T14:32:13.054516Z",
     "start_time": "2021-02-17T14:32:13.005182Z"
    }
   },
   "outputs": [],
   "source": [
    "table[\"RA\"] = [SkyCoord(x[\"GLON\"], x[\"GLAT\"], frame='galactic', unit='deg').transform_to('icrs').ra.value for x in table]\n",
    "table[\"DEC\"] = [SkyCoord(x[\"GLON\"], x[\"GLAT\"], frame=\"galactic\", unit='deg').transform_to('icrs').dec.value for x in table]"
   ]
  },
  {
   "cell_type": "code",
   "execution_count": 79,
   "metadata": {
    "ExecuteTime": {
     "end_time": "2021-02-17T14:32:23.067206Z",
     "start_time": "2021-02-17T14:32:23.058682Z"
    }
   },
   "outputs": [
    {
     "data": {
      "text/html": [
       "<i>Table length=3</i>\n",
       "<table id=\"table140479270249232\" class=\"table-striped table-bordered table-condensed\">\n",
       "<thead><tr><th>Source_Name</th><th>GLON</th><th>GLAT</th><th>RA</th><th>DEC</th></tr></thead>\n",
       "<thead><tr><th></th><th>deg</th><th>deg</th><th></th><th></th></tr></thead>\n",
       "<thead><tr><th>bytes6</th><th>float64</th><th>float64</th><th>float64</th><th>float64</th></tr></thead>\n",
       "<tr><td>Crab</td><td>184.55754381</td><td>-5.78427369</td><td>83.63320833052822</td><td>22.014472226225813</td></tr>\n",
       "<tr><td>Sag A*</td><td>0.0</td><td>0.0</td><td>266.4049882865447</td><td>-28.936177761791473</td></tr>\n",
       "<tr><td>Cas A</td><td>111.74169477</td><td>-2.13544151</td><td>350.8664167089621</td><td>58.81177779991024</td></tr>\n",
       "</table>"
      ],
      "text/plain": [
       "<Table length=3>\n",
       "Source_Name     GLON         GLAT            RA                DEC        \n",
       "                deg          deg                                          \n",
       "   bytes6     float64      float64        float64            float64      \n",
       "----------- ------------ ----------- ----------------- -------------------\n",
       "       Crab 184.55754381 -5.78427369 83.63320833052822  22.014472226225813\n",
       "     Sag A*          0.0         0.0 266.4049882865447 -28.936177761791473\n",
       "      Cas A 111.74169477 -2.13544151 350.8664167089621   58.81177779991024"
      ]
     },
     "execution_count": 79,
     "metadata": {},
     "output_type": "execute_result"
    }
   ],
   "source": [
    "table"
   ]
  },
  {
   "cell_type": "code",
   "execution_count": 80,
   "metadata": {
    "ExecuteTime": {
     "end_time": "2021-02-17T14:33:32.793811Z",
     "start_time": "2021-02-17T14:33:32.781819Z"
    }
   },
   "outputs": [
    {
     "data": {
      "text/plain": [
       "<SkyCoord (ICRS): (ra, dec) in deg\n",
       "    (83.63308333, 22.0145)>"
      ]
     },
     "execution_count": 80,
     "metadata": {},
     "output_type": "execute_result"
    }
   ],
   "source": [
    "#provjera\n",
    "s = SkyCoord.from_name(\"crab\")\n",
    "s"
   ]
  },
  {
   "cell_type": "markdown",
   "metadata": {},
   "source": [
    "#### ADVANCED  \n",
    "Load the Fermi 2FHL catalog table (`'data/fermi_2fhl_catalog.fits'`) and find the brighest source (the brightness value is stored in the `'Flux50'` column). What is the common name of the source (column `'ASSOC'`)?\n",
    "Find all sources within 10 deg from the position of this source."
   ]
  },
  {
   "cell_type": "code",
   "execution_count": 170,
   "metadata": {
    "ExecuteTime": {
     "end_time": "2021-02-17T15:42:14.434527Z",
     "start_time": "2021-02-17T15:41:57.747319Z"
    },
    "scrolled": true
   },
   "outputs": [
    {
     "name": "stderr",
     "output_type": "stream",
     "text": [
      "WARNING: hdu= was not specified but multiple tables are present, reading in first available table (hdu=1) [astropy.io.fits.connect]\n",
      "WARNING: UnitsWarning: 'photon/cm**2/s' contains multiple slashes, which is discouraged by the FITS standard [astropy.units.format.generic]\n",
      "WARNING: UnitsWarning: 'erg/cm**2/s' contains multiple slashes, which is discouraged by the FITS standard [astropy.units.format.generic]\n"
     ]
    },
    {
     "data": {
      "text/html": [
       "<i>Table length=360</i>\n",
       "<table id=\"table140474565454608\" class=\"table-striped table-bordered table-condensed\">\n",
       "<thead><tr><th>Source_Name</th><th>RAJ2000</th><th>DEJ2000</th><th>GLON</th><th>GLAT</th><th>Pos_err_68</th><th>Pos_err_95</th><th>TS</th><th>Spectral_Index</th><th>Unc_Spectral_Index</th><th>Intr_Spectral_Index_D11</th><th>Unc_Intr_Spectral_Index_D11</th><th>Intr_Spectral_Index_G12</th><th>Unc_Intr_Spectral_Index_G12</th><th>Flux50</th><th>Unc_Flux50</th><th>Energy_Flux50</th><th>Unc_Energy_Flux50</th><th>Flux50_171GeV</th><th>Unc_Flux50_171GeV [2]</th><th>Sqrt_TS50_171GeV</th><th>Flux171_585GeV</th><th>Unc_Flux171_585GeV [2]</th><th>Sqrt_TS171_585GeV</th><th>Flux585_2000GeV</th><th>Unc_Flux585_2000GeV [2]</th><th>Sqrt_TS585_2000GeV</th><th>Npred</th><th>HEP_Energy</th><th>HEP_Prob</th><th>ROI</th><th>ASSOC</th><th>ASSOC_PROB_BAY</th><th>ASSOC_PROB_LR</th><th>CLASS</th><th>Redshift</th><th>NuPeak_obs</th><th>3FGL_Name</th><th>1FHL_Name</th><th>TeVCat_Name</th></tr></thead>\n",
       "<thead><tr><th></th><th>deg</th><th>deg</th><th>deg</th><th>deg</th><th>deg</th><th>deg</th><th></th><th></th><th></th><th></th><th></th><th></th><th></th><th>ph / (cm2 s)</th><th>ph / (cm2 s)</th><th>erg / (cm2 s)</th><th>erg / (cm2 s)</th><th>ph / (cm2 s)</th><th>ph / (cm2 s)</th><th></th><th>ph / (cm2 s)</th><th>ph / (cm2 s)</th><th></th><th>ph / (cm2 s)</th><th>ph / (cm2 s)</th><th></th><th></th><th>GeV</th><th></th><th></th><th></th><th></th><th></th><th></th><th></th><th>Hz</th><th></th><th></th><th></th></tr></thead>\n",
       "<thead><tr><th>bytes18</th><th>float32</th><th>float32</th><th>float32</th><th>float32</th><th>float32</th><th>float32</th><th>float32</th><th>float32</th><th>float32</th><th>float32</th><th>float32</th><th>float32</th><th>float32</th><th>float32</th><th>float32</th><th>float32</th><th>float32</th><th>float32</th><th>float32</th><th>float32</th><th>float32</th><th>float32</th><th>float32</th><th>float32</th><th>float32</th><th>float32</th><th>float32</th><th>float32</th><th>float32</th><th>int16</th><th>bytes25</th><th>float32</th><th>float32</th><th>bytes8</th><th>float32</th><th>float32</th><th>bytes18</th><th>bytes18</th><th>bytes18</th></tr></thead>\n",
       "<tr><td>2FHL J0008.1+4709</td><td>2.044</td><td>47.164</td><td>115.339</td><td>-15.069</td><td>0.061</td><td>0.098</td><td>28.6</td><td>6.24</td><td>2.75</td><td>3.96</td><td>3.19</td><td>2.16</td><td>4.21</td><td>1.2300e-11</td><td>6.7100e-12</td><td>1.2100e-12</td><td>6.7100e-13</td><td>3.3634e-12</td><td>-1.5367e-12 .. 2.1609e-12</td><td>5.35</td><td>4.3495e-18</td><td>nan .. 4.7539e-12</td><td>0.00</td><td>8.4487e-18</td><td>nan .. 7.2910e-12</td><td>0.00</td><td>4.00</td><td>68.15</td><td>0.99</td><td>1</td><td>MG4 J000800+4712</td><td>0.9972</td><td>0.8348</td><td>bll</td><td>2.10000</td><td>2.5119e+15</td><td>3FGL J0008.0+4713</td><td>1FHL J0007.7+4709</td><td></td></tr>\n",
       "<tr><td>2FHL J0009.3+5031</td><td>2.343</td><td>50.522</td><td>116.124</td><td>-11.793</td><td>0.045</td><td>0.073</td><td>54.0</td><td>5.08</td><td>1.66</td><td>nan</td><td>nan</td><td>nan</td><td>nan</td><td>1.9100e-11</td><td>7.8200e-12</td><td>2.0300e-12</td><td>8.7900e-13</td><td>8.3628e-12</td><td>-2.9896e-12 .. 3.8951e-12</td><td>7.35</td><td>2.9146e-17</td><td>nan .. 5.1000e-12</td><td>0.00</td><td>3.5087e-16</td><td>nan .. 4.8746e-12</td><td>0.00</td><td>6.40</td><td>72.76</td><td>1.00</td><td>1</td><td>NVSS J000922+503028</td><td>0.9997</td><td>0.7348</td><td>bll</td><td>0.00000</td><td>1.4125e+15</td><td>3FGL J0009.3+5030</td><td>1FHL J0009.2+5032</td><td></td></tr>\n",
       "<tr><td>2FHL J0018.5+2947</td><td>4.635</td><td>29.788</td><td>114.463</td><td>-32.542</td><td>0.037</td><td>0.060</td><td>30.9</td><td>2.58</td><td>0.99</td><td>2.41</td><td>1.04</td><td>2.40</td><td>1.04</td><td>1.0600e-11</td><td>6.1500e-12</td><td>2.0500e-12</td><td>1.7200e-12</td><td>9.6544e-12</td><td>-5.5534e-12 .. 5.5534e-12</td><td>5.77</td><td>1.1790e-15</td><td>nan .. 5.3787e-12</td><td>0.00</td><td>1.6047e-16</td><td>nan .. 6.1201e-12</td><td>0.00</td><td>3.00</td><td>127.32</td><td>1.00</td><td>3</td><td>RBS 0042</td><td>0.9999</td><td>0.9785</td><td>bll</td><td>0.10000</td><td>5.9156e+16</td><td>3FGL J0018.4+2947</td><td>1FHL J0018.6+2946</td><td></td></tr>\n",
       "<tr><td>2FHL J0022.0+0006</td><td>5.500</td><td>0.106</td><td>107.172</td><td>-61.862</td><td>0.051</td><td>0.082</td><td>30.0</td><td>1.86</td><td>0.57</td><td>0.95</td><td>0.72</td><td>0.88</td><td>0.71</td><td>1.9700e-11</td><td>9.5600e-12</td><td>6.8600e-12</td><td>5.2900e-12</td><td>1.6120e-11</td><td>-7.1726e-12 .. 9.9535e-12</td><td>5.38</td><td>3.6392e-12</td><td>-4.3864e-12 .. 4.3864e-12</td><td>1.39</td><td>8.4236e-16</td><td>nan .. 7.3424e-12</td><td>0.00</td><td>4.80</td><td>180.13</td><td>0.86</td><td>2</td><td>5BZGJ0022+0006</td><td>0.9993</td><td>0.9001</td><td>bll-g</td><td>0.30600</td><td>4.3152e+16</td><td></td><td></td><td></td></tr>\n",
       "<tr><td>2FHL J0033.6-1921</td><td>8.411</td><td>-19.358</td><td>94.280</td><td>-81.222</td><td>0.035</td><td>0.056</td><td>148.3</td><td>3.32</td><td>0.69</td><td>2.56</td><td>0.88</td><td>2.33</td><td>0.92</td><td>5.4600e-11</td><td>1.5000e-11</td><td>7.6200e-12</td><td>2.6900e-12</td><td>4.0016e-11</td><td>-1.0162e-11 .. 1.2238e-11</td><td>12.17</td><td>2.1390e-12</td><td>nan .. 8.2581e-12</td><td>0.91</td><td>2.4395e-17</td><td>nan .. 6.8423e-12</td><td>0.00</td><td>13.80</td><td>170.01</td><td>0.99</td><td>2</td><td>KUV 00311-1938</td><td>0.9998</td><td>0.9814</td><td>bll</td><td>0.61000</td><td>8.3176e+15</td><td>3FGL J0033.6-1921</td><td>1FHL J0033.6-1921</td><td>TeV J0033-193</td></tr>\n",
       "<tr><td>2FHL J0035.8+5949</td><td>8.962</td><td>59.831</td><td>120.972</td><td>-2.981</td><td>0.032</td><td>0.051</td><td>402.4</td><td>2.23</td><td>0.21</td><td>nan</td><td>nan</td><td>nan</td><td>nan</td><td>1.2500e-10</td><td>1.9000e-11</td><td>3.1100e-11</td><td>7.2300e-12</td><td>9.4229e-11</td><td>-1.5257e-11 .. 1.7157e-11</td><td>17.31</td><td>2.6699e-11</td><td>-7.6282e-12 .. 9.4508e-12</td><td>10.39</td><td>3.7261e-16</td><td>nan .. 4.6744e-12</td><td>0.00</td><td>46.50</td><td>247.62</td><td>0.96</td><td>4</td><td>1ES 0033+595</td><td>1.0000</td><td>0.9929</td><td>bll</td><td>0.00000</td><td>1.3183e+17</td><td>3FGL J0035.9+5949</td><td>1FHL J0035.9+5950</td><td>TeV J0035+598</td></tr>\n",
       "<tr><td>2FHL J0040.3+4049</td><td>10.095</td><td>40.832</td><td>120.676</td><td>-21.992</td><td>0.036</td><td>0.057</td><td>26.8</td><td>2.12</td><td>0.81</td><td>nan</td><td>nan</td><td>nan</td><td>nan</td><td>1.0500e-11</td><td>6.3000e-12</td><td>2.8400e-12</td><td>2.6700e-12</td><td>7.4158e-12</td><td>-4.0778e-12 .. 6.4518e-12</td><td>4.95</td><td>3.0031e-12</td><td>-2.3178e-12 .. 4.4664e-12</td><td>1.71</td><td>4.7317e-16</td><td>nan .. 5.7981e-12</td><td>0.00</td><td>3.20</td><td>258.77</td><td>0.85</td><td>3</td><td>B3 0037+405</td><td>0.9987</td><td>0.9347</td><td>bcu I</td><td>0.00000</td><td>1.0000e+00</td><td>3FGL J0040.3+4049</td><td>1FHL J0040.3+4049</td><td></td></tr>\n",
       "<tr><td>2FHL J0043.9+3424</td><td>10.976</td><td>34.411</td><td>121.164</td><td>-28.435</td><td>0.059</td><td>0.095</td><td>39.5</td><td>4.57</td><td>1.61</td><td>3.46</td><td>1.85</td><td>2.95</td><td>1.91</td><td>1.8300e-11</td><td>8.2400e-12</td><td>2.0300e-12</td><td>9.9300e-13</td><td>9.6576e-12</td><td>-4.3169e-12 .. 4.3169e-12</td><td>6.31</td><td>8.7586e-17</td><td>nan .. 5.2433e-12</td><td>0.00</td><td>9.4381e-16</td><td>nan .. 5.6879e-12</td><td>0.00</td><td>5.40</td><td>109.97</td><td>0.90</td><td>3</td><td>GB6 J0043+3426</td><td>0.9986</td><td>0.8388</td><td>fsrq</td><td>0.96600</td><td>6.4565e+13</td><td>3FGL J0043.8+3425</td><td>1FHL J0043.7+3425</td><td></td></tr>\n",
       "<tr><td>2FHL J0045.2+2127</td><td>11.316</td><td>21.455</td><td>121.017</td><td>-41.393</td><td>0.038</td><td>0.061</td><td>110.4</td><td>3.07</td><td>0.64</td><td>nan</td><td>nan</td><td>nan</td><td>nan</td><td>4.1400e-11</td><td>1.2600e-11</td><td>6.2900e-12</td><td>2.4500e-12</td><td>3.1153e-11</td><td>-8.9301e-12 .. 1.1010e-11</td><td>10.24</td><td>2.9971e-12</td><td>-3.0305e-12 .. 3.0305e-12</td><td>2.71</td><td>4.6835e-17</td><td>nan .. 6.4231e-12</td><td>0.00</td><td>11.40</td><td>246.75</td><td>0.99</td><td>5</td><td>GB6 J0045+2127</td><td>0.9996</td><td>0.9651</td><td>bll</td><td>0.00000</td><td>1.0023e+16</td><td>3FGL J0045.3+2126</td><td>1FHL J0045.2+2126</td><td></td></tr>\n",
       "<tr><td>...</td><td>...</td><td>...</td><td>...</td><td>...</td><td>...</td><td>...</td><td>...</td><td>...</td><td>...</td><td>...</td><td>...</td><td>...</td><td>...</td><td>...</td><td>...</td><td>...</td><td>...</td><td>...</td><td>...</td><td>...</td><td>...</td><td>...</td><td>...</td><td>...</td><td>...</td><td>...</td><td>...</td><td>...</td><td>...</td><td>...</td><td>...</td><td>...</td><td>...</td><td>...</td><td>...</td><td>...</td><td>...</td><td>...</td><td>...</td></tr>\n",
       "<tr><td>2FHL J2322.5+3436</td><td>350.628</td><td>34.613</td><td>102.876</td><td>-24.772</td><td>0.072</td><td>0.116</td><td>28.8</td><td>2.33</td><td>0.80</td><td>2.13</td><td>0.85</td><td>2.11</td><td>0.85</td><td>1.4200e-11</td><td>7.4600e-12</td><td>3.2400e-12</td><td>2.4800e-12</td><td>1.3706e-11</td><td>-5.9905e-12 .. 8.2733e-12</td><td>5.51</td><td>1.5045e-15</td><td>nan .. 5.2557e-12</td><td>0.00</td><td>3.3440e-16</td><td>nan .. 6.3524e-12</td><td>0.00</td><td>4.10</td><td>166.20</td><td>0.99</td><td>133</td><td>TXS 2320+343</td><td>0.9966</td><td>0.8779</td><td>bll-g</td><td>0.09800</td><td>1.0471e+15</td><td>3FGL J2322.5+3436</td><td>1FHL J2322.5+3436</td><td></td></tr>\n",
       "<tr><td>2FHL J2322.7-4916</td><td>350.698</td><td>-49.271</td><td>334.608</td><td>-62.049</td><td>0.039</td><td>0.063</td><td>36.8</td><td>4.58</td><td>1.69</td><td>nan</td><td>nan</td><td>nan</td><td>nan</td><td>1.7500e-11</td><td>8.3000e-12</td><td>1.9400e-12</td><td>9.9600e-13</td><td>9.1301e-12</td><td>-3.7336e-12 .. 5.0174e-12</td><td>6.05</td><td>6.6576e-17</td><td>nan .. 5.2714e-12</td><td>0.00</td><td>6.3471e-16</td><td>nan .. 5.7724e-12</td><td>0.00</td><td>5.10</td><td>106.33</td><td>0.90</td><td>138</td><td>SUMSS J232254-491629</td><td>0.9994</td><td>0.9377</td><td>bll</td><td>0.00000</td><td>4.4668e+15</td><td>3FGL J2322.9-4917</td><td></td><td></td></tr>\n",
       "<tr><td>2FHL J2323.4+5848</td><td>350.874</td><td>58.808</td><td>111.744</td><td>-2.140</td><td>0.035</td><td>0.056</td><td>183.6</td><td>2.45</td><td>0.30</td><td>nan</td><td>nan</td><td>nan</td><td>nan</td><td>7.8100e-11</td><td>1.5300e-11</td><td>1.6400e-11</td><td>4.6800e-12</td><td>5.9369e-11</td><td>-1.2110e-11 .. 1.3899e-11</td><td>11.62</td><td>1.0376e-11</td><td>-4.3785e-12 .. 6.1440e-12</td><td>5.81</td><td>2.9031e-12</td><td>-2.0242e-12 .. 3.9820e-12</td><td>3.51</td><td>28.80</td><td>662.12</td><td>1.00</td><td>135</td><td>Cas A</td><td>nan</td><td>0.9998</td><td>snr</td><td>nan</td><td>nan</td><td>3FGL J2323.4+5849</td><td>1FHL J2323.3+5849</td><td>TeV J2323+588</td></tr>\n",
       "<tr><td>2FHL J2323.8+4209</td><td>350.972</td><td>42.163</td><td>106.059</td><td>-17.822</td><td>0.046</td><td>0.073</td><td>70.6</td><td>4.21</td><td>1.16</td><td>4.14</td><td>1.15</td><td>4.13</td><td>1.15</td><td>3.0500e-11</td><td>1.0500e-11</td><td>3.5500e-12</td><td>1.3500e-12</td><td>1.6202e-11</td><td>-5.2471e-12 .. 6.6191e-12</td><td>8.12</td><td>2.0002e-12</td><td>-1.4127e-12 .. 2.7793e-12</td><td>2.57</td><td>2.1891e-18</td><td>nan .. 5.5408e-12</td><td>0.00</td><td>9.30</td><td>230.90</td><td>0.92</td><td>133</td><td>1ES 2321+419</td><td>0.9996</td><td>0.9615</td><td>bll</td><td>0.05900</td><td>4.8417e+15</td><td>3FGL J2323.9+4211</td><td>1FHL J2323.8+4210</td><td></td></tr>\n",
       "<tr><td>2FHL J2324.7-4041</td><td>351.195</td><td>-40.693</td><td>350.157</td><td>-67.584</td><td>0.036</td><td>0.058</td><td>80.9</td><td>3.18</td><td>0.83</td><td>2.94</td><td>0.87</td><td>2.90</td><td>0.87</td><td>2.9700e-11</td><td>1.0800e-11</td><td>4.3400e-12</td><td>2.0300e-12</td><td>2.1339e-11</td><td>-7.0994e-12 .. 9.1043e-12</td><td>8.85</td><td>2.7183e-12</td><td>-2.1171e-12 .. 4.1167e-12</td><td>1.66</td><td>3.5472e-17</td><td>nan .. 6.3514e-12</td><td>0.00</td><td>8.00</td><td>118.48</td><td>1.00</td><td>138</td><td>1ES 2322-409</td><td>0.9995</td><td>0.9855</td><td>bll</td><td>0.17359</td><td>8.3176e+15</td><td>3FGL J2324.7-4040</td><td>1FHL J2324.6-4041</td><td></td></tr>\n",
       "<tr><td>2FHL J2329.2+3754</td><td>352.308</td><td>37.916</td><td>105.532</td><td>-22.163</td><td>0.039</td><td>0.062</td><td>39.4</td><td>3.29</td><td>1.19</td><td>2.99</td><td>1.28</td><td>2.92</td><td>1.28</td><td>1.4300e-11</td><td>7.1700e-12</td><td>2.0200e-12</td><td>1.2500e-12</td><td>1.1130e-11</td><td>-4.6962e-12 .. 6.5288e-12</td><td>6.31</td><td>4.4041e-16</td><td>nan .. 5.4774e-12</td><td>0.00</td><td>2.6407e-17</td><td>nan .. 5.9255e-12</td><td>0.00</td><td>4.30</td><td>142.13</td><td>0.98</td><td>133</td><td>NVSS J232914+375414</td><td>0.9998</td><td>0.9564</td><td>bll</td><td>0.26400</td><td>8.9125e+15</td><td>3FGL J2329.2+3754</td><td>1FHL J2329.1+3754</td><td></td></tr>\n",
       "<tr><td>2FHL J2340.8+8014</td><td>355.203</td><td>80.245</td><td>119.838</td><td>17.800</td><td>0.035</td><td>0.056</td><td>69.8</td><td>4.20</td><td>1.28</td><td>4.00</td><td>1.36</td><td>3.94</td><td>1.37</td><td>1.9500e-11</td><td>7.2400e-12</td><td>2.2600e-12</td><td>9.7200e-13</td><td>1.1640e-11</td><td>-3.8118e-12 .. 4.8279e-12</td><td>8.39</td><td>1.2570e-16</td><td>nan .. 3.7181e-12</td><td>0.00</td><td>1.1362e-15</td><td>nan .. 4.0472e-12</td><td>0.00</td><td>7.90</td><td>80.85</td><td>0.86</td><td>125</td><td>1RXS J234051.4+801513</td><td>0.9999</td><td>0.9794</td><td>bll</td><td>0.27400</td><td>3.4277e+15</td><td>3FGL J2340.7+8016</td><td>1FHL J2341.3+8016</td><td></td></tr>\n",
       "<tr><td>2FHL J2343.5+3438</td><td>355.898</td><td>34.648</td><td>107.422</td><td>-26.172</td><td>0.072</td><td>0.115</td><td>27.4</td><td>4.99</td><td>2.36</td><td>4.88</td><td>2.43</td><td>4.79</td><td>2.44</td><td>1.3300e-11</td><td>7.3200e-12</td><td>1.4100e-12</td><td>8.5600e-13</td><td>5.9425e-12</td><td>-2.7322e-12 .. 3.8525e-12</td><td>5.23</td><td>5.0863e-17</td><td>nan .. 8.3632e-12</td><td>0.00</td><td>3.1471e-16</td><td>nan .. 5.6852e-12</td><td>0.00</td><td>3.90</td><td>72.66</td><td>1.00</td><td>133</td><td>1RXS J234332.5+343957</td><td>0.9991</td><td>0.9554</td><td>bll</td><td>0.36600</td><td>1.0292e+15</td><td>3FGL J2343.7+3437</td><td></td><td></td></tr>\n",
       "<tr><td>2FHL J2347.1+5142</td><td>356.750</td><td>51.708</td><td>112.880</td><td>-9.902</td><td>0.034</td><td>0.054</td><td>209.8</td><td>1.85</td><td>0.25</td><td>1.74</td><td>0.26</td><td>1.73</td><td>0.26</td><td>7.4800e-11</td><td>1.5400e-11</td><td>2.6200e-11</td><td>8.5600e-12</td><td>4.7888e-11</td><td>-1.1560e-11 .. 1.3390e-11</td><td>11.28</td><td>2.4289e-11</td><td>-7.6810e-12 .. 9.8778e-12</td><td>8.86</td><td>3.5139e-12</td><td>-3.5528e-12 .. 3.5528e-12</td><td>2.67</td><td>25.20</td><td>652.31</td><td>0.99</td><td>1</td><td>1ES 2344+514</td><td>0.9999</td><td>0.9881</td><td>bll</td><td>0.04400</td><td>7.0795e+15</td><td>3FGL J2347.0+5142</td><td>1FHL J2347.0+5142</td><td>TeV J2347+517</td></tr>\n",
       "<tr><td>2FHL J2352.0-7558</td><td>358.019</td><td>-75.972</td><td>307.623</td><td>-40.611</td><td>0.073</td><td>0.118</td><td>28.5</td><td>3.37</td><td>1.24</td><td>nan</td><td>nan</td><td>nan</td><td>nan</td><td>1.1800e-11</td><td>6.1400e-12</td><td>1.6300e-12</td><td>1.0300e-12</td><td>9.0031e-12</td><td>-3.9133e-12 .. 5.4773e-12</td><td>5.39</td><td>3.9078e-16</td><td>nan .. 4.9528e-12</td><td>0.00</td><td>3.2340e-17</td><td>nan .. 5.1672e-12</td><td>0.00</td><td>3.90</td><td>134.72</td><td>1.00</td><td>137</td><td></td><td>nan</td><td>nan</td><td>unk</td><td>nan</td><td>nan</td><td>3FGL J2351.9-7601</td><td></td><td></td></tr>\n",
       "</table>"
      ],
      "text/plain": [
       "<Table length=360>\n",
       "   Source_Name     RAJ2000    DEJ2000   ...     1FHL_Name      TeVCat_Name \n",
       "                     deg        deg     ...                                \n",
       "     bytes18       float32    float32   ...      bytes18         bytes18   \n",
       "----------------- ---------- ---------- ... ----------------- -------------\n",
       "2FHL J0008.1+4709      2.044     47.164 ... 1FHL J0007.7+4709              \n",
       "2FHL J0009.3+5031      2.343     50.522 ... 1FHL J0009.2+5032              \n",
       "2FHL J0018.5+2947      4.635     29.788 ... 1FHL J0018.6+2946              \n",
       "2FHL J0022.0+0006      5.500      0.106 ...                                \n",
       "2FHL J0033.6-1921      8.411    -19.358 ... 1FHL J0033.6-1921 TeV J0033-193\n",
       "2FHL J0035.8+5949      8.962     59.831 ... 1FHL J0035.9+5950 TeV J0035+598\n",
       "2FHL J0040.3+4049     10.095     40.832 ... 1FHL J0040.3+4049              \n",
       "2FHL J0043.9+3424     10.976     34.411 ... 1FHL J0043.7+3425              \n",
       "2FHL J0045.2+2127     11.316     21.455 ... 1FHL J0045.2+2126              \n",
       "              ...        ...        ... ...               ...           ...\n",
       "2FHL J2322.5+3436    350.628     34.613 ... 1FHL J2322.5+3436              \n",
       "2FHL J2322.7-4916    350.698    -49.271 ...                                \n",
       "2FHL J2323.4+5848    350.874     58.808 ... 1FHL J2323.3+5849 TeV J2323+588\n",
       "2FHL J2323.8+4209    350.972     42.163 ... 1FHL J2323.8+4210              \n",
       "2FHL J2324.7-4041    351.195    -40.693 ... 1FHL J2324.6-4041              \n",
       "2FHL J2329.2+3754    352.308     37.916 ... 1FHL J2329.1+3754              \n",
       "2FHL J2340.8+8014    355.203     80.245 ... 1FHL J2341.3+8016              \n",
       "2FHL J2343.5+3438    355.898     34.648 ...                                \n",
       "2FHL J2347.1+5142    356.750     51.708 ... 1FHL J2347.0+5142 TeV J2347+517\n",
       "2FHL J2352.0-7558    358.019    -75.972 ...                                "
      ]
     },
     "execution_count": 170,
     "metadata": {},
     "output_type": "execute_result"
    }
   ],
   "source": [
    "fermi_catalog = Table.read('data/fermi_2fhl_catalog.fits')\n",
    "fermi_catalog"
   ]
  },
  {
   "cell_type": "code",
   "execution_count": 174,
   "metadata": {
    "ExecuteTime": {
     "end_time": "2021-02-17T15:44:37.838366Z",
     "start_time": "2021-02-17T15:44:37.833955Z"
    }
   },
   "outputs": [],
   "source": [
    "fermi_catalog.add_index([\"Source_Name\", \"ASSOC\"])"
   ]
  },
  {
   "cell_type": "code",
   "execution_count": 172,
   "metadata": {
    "ExecuteTime": {
     "end_time": "2021-02-17T15:42:14.472880Z",
     "start_time": "2021-02-17T15:42:14.444097Z"
    },
    "scrolled": true
   },
   "outputs": [
    {
     "name": "stdout",
     "output_type": "stream",
     "text": [
      "<Table length=360>\n",
      "            name             dtype  shape      unit      format  n_bad\n",
      "--------------------------- ------- ----- ------------- -------- -----\n",
      "                Source_Name bytes18                                  0\n",
      "                    RAJ2000 float32                 deg {:10.3f}     0\n",
      "                    DEJ2000 float32                 deg {:10.3f}     0\n",
      "                       GLON float32                 deg {:10.3f}     0\n",
      "                       GLAT float32                 deg {:10.3f}     0\n",
      "                 Pos_err_68 float32                 deg {:10.3f}     0\n",
      "                 Pos_err_95 float32                 deg {:10.3f}     0\n",
      "                         TS float32                      {:8.1f}     0\n",
      "             Spectral_Index float32                      {:6.2f}     0\n",
      "         Unc_Spectral_Index float32                      {:6.2f}     1\n",
      "    Intr_Spectral_Index_D11 float32                      {:6.2f}   232\n",
      "Unc_Intr_Spectral_Index_D11 float32                      {:6.2f}   233\n",
      "    Intr_Spectral_Index_G12 float32                      {:6.2f}   232\n",
      "Unc_Intr_Spectral_Index_G12 float32                      {:6.2f}   233\n",
      "                     Flux50 float32        ph / (cm2 s) {:10.4e}     0\n",
      "                 Unc_Flux50 float32        ph / (cm2 s) {:10.4e}     0\n",
      "              Energy_Flux50 float32       erg / (cm2 s) {:10.4e}     0\n",
      "          Unc_Energy_Flux50 float32       erg / (cm2 s) {:10.4e}     0\n",
      "              Flux50_171GeV float32        ph / (cm2 s) {:10.4e}     0\n",
      "          Unc_Flux50_171GeV float32  (2,)  ph / (cm2 s) {:10.4e}     1\n",
      "           Sqrt_TS50_171GeV float32                      {:8.2f}     0\n",
      "             Flux171_585GeV float32        ph / (cm2 s) {:10.4e}     0\n",
      "         Unc_Flux171_585GeV float32  (2,)  ph / (cm2 s) {:10.4e}   191\n",
      "          Sqrt_TS171_585GeV float32                      {:8.2f}     0\n",
      "            Flux585_2000GeV float32        ph / (cm2 s) {:10.4e}     0\n",
      "        Unc_Flux585_2000GeV float32  (2,)  ph / (cm2 s) {:10.4e}   307\n",
      "         Sqrt_TS585_2000GeV float32                      {:8.2f}     0\n",
      "                      Npred float32                      {:8.2f}     0\n",
      "                 HEP_Energy float32                 GeV  {:8.2f}     2\n",
      "                   HEP_Prob float32                      {:8.2f}     2\n",
      "                        ROI   int16                        {:8d}     0\n",
      "                      ASSOC bytes25                                  0\n",
      "             ASSOC_PROB_BAY float32                      {:8.4f}   153\n",
      "              ASSOC_PROB_LR float32                      {:8.4f}    79\n",
      "                      CLASS  bytes8                                  0\n",
      "                   Redshift float32                      {:8.5f}   102\n",
      "                 NuPeak_obs float32                  Hz {:10.4e}   101\n",
      "                  3FGL_Name bytes18                                  0\n",
      "                  1FHL_Name bytes18                                  0\n",
      "                TeVCat_Name bytes18                                  0\n"
     ]
    }
   ],
   "source": [
    "fermi_catalog.info()"
   ]
  },
  {
   "cell_type": "code",
   "execution_count": 176,
   "metadata": {
    "ExecuteTime": {
     "end_time": "2021-02-17T15:46:35.015898Z",
     "start_time": "2021-02-17T15:46:34.989983Z"
    }
   },
   "outputs": [
    {
     "data": {
      "text/html": [
       "<i>Table length=1</i>\n",
       "<table id=\"table140474536310096\" class=\"table-striped table-bordered table-condensed\">\n",
       "<thead><tr><th>Source_Name</th><th>RAJ2000</th><th>DEJ2000</th><th>GLON</th><th>GLAT</th><th>Pos_err_68</th><th>Pos_err_95</th><th>TS</th><th>Spectral_Index</th><th>Unc_Spectral_Index</th><th>Intr_Spectral_Index_D11</th><th>Unc_Intr_Spectral_Index_D11</th><th>Intr_Spectral_Index_G12</th><th>Unc_Intr_Spectral_Index_G12</th><th>Flux50</th><th>Unc_Flux50</th><th>Energy_Flux50</th><th>Unc_Energy_Flux50</th><th>Flux50_171GeV</th><th>Unc_Flux50_171GeV [2]</th><th>Sqrt_TS50_171GeV</th><th>Flux171_585GeV</th><th>Unc_Flux171_585GeV [2]</th><th>Sqrt_TS171_585GeV</th><th>Flux585_2000GeV</th><th>Unc_Flux585_2000GeV [2]</th><th>Sqrt_TS585_2000GeV</th><th>Npred</th><th>HEP_Energy</th><th>HEP_Prob</th><th>ROI</th><th>ASSOC</th><th>ASSOC_PROB_BAY</th><th>ASSOC_PROB_LR</th><th>CLASS</th><th>Redshift</th><th>NuPeak_obs</th><th>3FGL_Name</th><th>1FHL_Name</th><th>TeVCat_Name</th></tr></thead>\n",
       "<thead><tr><th></th><th>deg</th><th>deg</th><th>deg</th><th>deg</th><th>deg</th><th>deg</th><th></th><th></th><th></th><th></th><th></th><th></th><th></th><th>ph / (cm2 s)</th><th>ph / (cm2 s)</th><th>erg / (cm2 s)</th><th>erg / (cm2 s)</th><th>ph / (cm2 s)</th><th>ph / (cm2 s)</th><th></th><th>ph / (cm2 s)</th><th>ph / (cm2 s)</th><th></th><th>ph / (cm2 s)</th><th>ph / (cm2 s)</th><th></th><th></th><th>GeV</th><th></th><th></th><th></th><th></th><th></th><th></th><th></th><th>Hz</th><th></th><th></th><th></th></tr></thead>\n",
       "<thead><tr><th>bytes18</th><th>float32</th><th>float32</th><th>float32</th><th>float32</th><th>float32</th><th>float32</th><th>float32</th><th>float32</th><th>float32</th><th>float32</th><th>float32</th><th>float32</th><th>float32</th><th>float32</th><th>float32</th><th>float32</th><th>float32</th><th>float32</th><th>float32</th><th>float32</th><th>float32</th><th>float32</th><th>float32</th><th>float32</th><th>float32</th><th>float32</th><th>float32</th><th>float32</th><th>float32</th><th>int16</th><th>bytes25</th><th>float32</th><th>float32</th><th>bytes8</th><th>float32</th><th>float32</th><th>bytes18</th><th>bytes18</th><th>bytes18</th></tr></thead>\n",
       "<tr><td>2FHL J0534.5+2201</td><td>83.634</td><td>22.021</td><td>184.552</td><td>-5.780</td><td>0.030</td><td>0.049</td><td>5149.7</td><td>2.13</td><td>0.07</td><td>nan</td><td>nan</td><td>nan</td><td>nan</td><td>1.3100e-09</td><td>6.8300e-11</td><td>3.5200e-10</td><td>2.9000e-11</td><td>9.9407e-10</td><td>-5.7595e-11 .. 5.9473e-11</td><td>63.58</td><td>2.4388e-10</td><td>-2.8254e-11 .. 3.0435e-11</td><td>33.18</td><td>5.2754e-11</td><td>-1.3340e-11 .. 1.6048e-11</td><td>14.46</td><td>377.70</td><td>1463.30</td><td>1.00</td><td>19</td><td>Crab</td><td>0.9983</td><td>0.9969</td><td>pwn</td><td>nan</td><td>nan</td><td>3FGL J0534.5+2201i</td><td>1FHL J0534.5+2201</td><td>TeV J0534+220p</td></tr>\n",
       "</table>"
      ],
      "text/plain": [
       "<Table length=1>\n",
       "   Source_Name     RAJ2000    DEJ2000   ...     1FHL_Name      TeVCat_Name  \n",
       "                     deg        deg     ...                                 \n",
       "     bytes18       float32    float32   ...      bytes18         bytes18    \n",
       "----------------- ---------- ---------- ... ----------------- --------------\n",
       "2FHL J0534.5+2201     83.634     22.021 ... 1FHL J0534.5+2201 TeV J0534+220p"
      ]
     },
     "execution_count": 176,
     "metadata": {},
     "output_type": "execute_result"
    }
   ],
   "source": [
    "fermi_catalog[fermi_catalog[\"Flux50\"] == fermi_catalog[\"Flux50\"].max()]"
   ]
  },
  {
   "cell_type": "code",
   "execution_count": 177,
   "metadata": {
    "ExecuteTime": {
     "end_time": "2021-02-17T15:46:42.295749Z",
     "start_time": "2021-02-17T15:46:42.280300Z"
    }
   },
   "outputs": [
    {
     "data": {
      "text/plain": [
       "'2FHL J0534.5+2201'"
      ]
     },
     "execution_count": 177,
     "metadata": {},
     "output_type": "execute_result"
    }
   ],
   "source": [
    "source_name_max = fermi_catalog[fermi_catalog[\"Flux50\"] == fermi_catalog[\"Flux50\"].max()][\"Source_Name\"]\n",
    "source_name_max[0]"
   ]
  },
  {
   "cell_type": "code",
   "execution_count": 178,
   "metadata": {
    "ExecuteTime": {
     "end_time": "2021-02-17T15:46:43.187065Z",
     "start_time": "2021-02-17T15:46:43.170640Z"
    }
   },
   "outputs": [
    {
     "data": {
      "text/plain": [
       "'Crab'"
      ]
     },
     "execution_count": 178,
     "metadata": {},
     "output_type": "execute_result"
    }
   ],
   "source": [
    "assoc_name_max = fermi_catalog[fermi_catalog[\"Flux50\"] == fermi_catalog[\"Flux50\"].max()][\"ASSOC\"]\n",
    "assoc_name_max[0]"
   ]
  },
  {
   "cell_type": "code",
   "execution_count": 179,
   "metadata": {
    "ExecuteTime": {
     "end_time": "2021-02-17T15:46:49.515274Z",
     "start_time": "2021-02-17T15:46:49.500645Z"
    }
   },
   "outputs": [
    {
     "data": {
      "text/html": [
       "<i>Table length=1</i>\n",
       "<table id=\"table140479275103312\" class=\"table-striped table-bordered table-condensed\">\n",
       "<thead><tr><th>Source_Name</th><th>RAJ2000</th><th>DEJ2000</th><th>GLON</th><th>GLAT</th><th>Pos_err_68</th><th>Pos_err_95</th><th>TS</th><th>Spectral_Index</th><th>Unc_Spectral_Index</th><th>Intr_Spectral_Index_D11</th><th>Unc_Intr_Spectral_Index_D11</th><th>Intr_Spectral_Index_G12</th><th>Unc_Intr_Spectral_Index_G12</th><th>Flux50</th><th>Unc_Flux50</th><th>Energy_Flux50</th><th>Unc_Energy_Flux50</th><th>Flux50_171GeV</th><th>Unc_Flux50_171GeV [2]</th><th>Sqrt_TS50_171GeV</th><th>Flux171_585GeV</th><th>Unc_Flux171_585GeV [2]</th><th>Sqrt_TS171_585GeV</th><th>Flux585_2000GeV</th><th>Unc_Flux585_2000GeV [2]</th><th>Sqrt_TS585_2000GeV</th><th>Npred</th><th>HEP_Energy</th><th>HEP_Prob</th><th>ROI</th><th>ASSOC</th><th>ASSOC_PROB_BAY</th><th>ASSOC_PROB_LR</th><th>CLASS</th><th>Redshift</th><th>NuPeak_obs</th><th>3FGL_Name</th><th>1FHL_Name</th><th>TeVCat_Name</th></tr></thead>\n",
       "<thead><tr><th></th><th>deg</th><th>deg</th><th>deg</th><th>deg</th><th>deg</th><th>deg</th><th></th><th></th><th></th><th></th><th></th><th></th><th></th><th>ph / (cm2 s)</th><th>ph / (cm2 s)</th><th>erg / (cm2 s)</th><th>erg / (cm2 s)</th><th>ph / (cm2 s)</th><th>ph / (cm2 s)</th><th></th><th>ph / (cm2 s)</th><th>ph / (cm2 s)</th><th></th><th>ph / (cm2 s)</th><th>ph / (cm2 s)</th><th></th><th></th><th>GeV</th><th></th><th></th><th></th><th></th><th></th><th></th><th></th><th>Hz</th><th></th><th></th><th></th></tr></thead>\n",
       "<thead><tr><th>bytes18</th><th>float32</th><th>float32</th><th>float32</th><th>float32</th><th>float32</th><th>float32</th><th>float32</th><th>float32</th><th>float32</th><th>float32</th><th>float32</th><th>float32</th><th>float32</th><th>float32</th><th>float32</th><th>float32</th><th>float32</th><th>float32</th><th>float32</th><th>float32</th><th>float32</th><th>float32</th><th>float32</th><th>float32</th><th>float32</th><th>float32</th><th>float32</th><th>float32</th><th>float32</th><th>int16</th><th>bytes25</th><th>float32</th><th>float32</th><th>bytes8</th><th>float32</th><th>float32</th><th>bytes18</th><th>bytes18</th><th>bytes18</th></tr></thead>\n",
       "<tr><td>2FHL J0534.5+2201</td><td>83.634</td><td>22.021</td><td>184.552</td><td>-5.780</td><td>0.030</td><td>0.049</td><td>5149.7</td><td>2.13</td><td>0.07</td><td>nan</td><td>nan</td><td>nan</td><td>nan</td><td>1.3100e-09</td><td>6.8300e-11</td><td>3.5200e-10</td><td>2.9000e-11</td><td>9.9407e-10</td><td>-5.7595e-11 .. 5.9473e-11</td><td>63.58</td><td>2.4388e-10</td><td>-2.8254e-11 .. 3.0435e-11</td><td>33.18</td><td>5.2754e-11</td><td>-1.3340e-11 .. 1.6048e-11</td><td>14.46</td><td>377.70</td><td>1463.30</td><td>1.00</td><td>19</td><td>Crab</td><td>0.9983</td><td>0.9969</td><td>pwn</td><td>nan</td><td>nan</td><td>3FGL J0534.5+2201i</td><td>1FHL J0534.5+2201</td><td>TeV J0534+220p</td></tr>\n",
       "</table>"
      ],
      "text/plain": [
       "<Table length=1>\n",
       "   Source_Name     RAJ2000    DEJ2000   ...     1FHL_Name      TeVCat_Name  \n",
       "                     deg        deg     ...                                 \n",
       "     bytes18       float32    float32   ...      bytes18         bytes18    \n",
       "----------------- ---------- ---------- ... ----------------- --------------\n",
       "2FHL J0534.5+2201     83.634     22.021 ... 1FHL J0534.5+2201 TeV J0534+220p"
      ]
     },
     "execution_count": 179,
     "metadata": {},
     "output_type": "execute_result"
    }
   ],
   "source": [
    "fermi_catalog[fermi_catalog[\"Source_Name\"] == source_name_max[0]]"
   ]
  },
  {
   "cell_type": "code",
   "execution_count": 285,
   "metadata": {
    "ExecuteTime": {
     "end_time": "2021-02-17T17:02:54.986524Z",
     "start_time": "2021-02-17T17:02:53.835023Z"
    }
   },
   "outputs": [],
   "source": [
    "temp = [x for x in fermi_catalog if SkyCoord(x[\"RAJ2000\"], x[\"DEJ2000\"], frame = 'icrs', unit='deg').separation(SkyCoord(crab_ra, crab_dec,frame='icrs', unit=\"deg\")) < 10*u.deg]"
   ]
  },
  {
   "cell_type": "code",
   "execution_count": 286,
   "metadata": {
    "ExecuteTime": {
     "end_time": "2021-02-17T17:02:57.112031Z",
     "start_time": "2021-02-17T17:02:57.055262Z"
    }
   },
   "outputs": [
    {
     "data": {
      "text/plain": [
       "[<Row index=80>\n",
       "    Source_Name     RAJ2000    DEJ2000      GLON       GLAT    Pos_err_68 Pos_err_95    TS    Spectral_Index Unc_Spectral_Index Intr_Spectral_Index_D11 Unc_Intr_Spectral_Index_D11 Intr_Spectral_Index_G12 Unc_Intr_Spectral_Index_G12    Flux50     Unc_Flux50  Energy_Flux50 Unc_Energy_Flux50 Flux50_171GeV   Unc_Flux50_171GeV [2]   Sqrt_TS50_171GeV Flux171_585GeV  Unc_Flux171_585GeV [2]  Sqrt_TS171_585GeV Flux585_2000GeV Unc_Flux585_2000GeV [2]  Sqrt_TS585_2000GeV  Npred   HEP_Energy HEP_Prob   ROI           ASSOC        ASSOC_PROB_BAY ASSOC_PROB_LR CLASS  Redshift NuPeak_obs     3FGL_Name         1FHL_Name     TeVCat_Name\n",
       "                      deg        deg        deg        deg        deg        deg                                                                                                                                                        ph / (cm2 s) ph / (cm2 s) erg / (cm2 s)   erg / (cm2 s)    ph / (cm2 s)        ph / (cm2 s)                         ph / (cm2 s)        ph / (cm2 s)                           ph / (cm2 s)        ph / (cm2 s)                                      GeV                                                                                            Hz                                                    \n",
       "      bytes18       float32    float32    float32    float32    float32    float32   float32     float32          float32               float32                   float32                   float32                   float32             float32      float32       float32         float32         float32             float32              float32         float32             float32               float32          float32             float32               float32       float32   float32   float32   int16         bytes25          float32        float32    bytes8 float32   float32        bytes18           bytes18        bytes18  \n",
       " ----------------- ---------- ---------- ---------- ---------- ---------- ---------- -------- -------------- ------------------ ----------------------- --------------------------- ----------------------- --------------------------- ------------ ------------ ------------- ----------------- ------------- ------------------------- ---------------- -------------- ------------------------ ----------------- --------------- ------------------------ ------------------ -------- ---------- -------- -------- ------------------- -------------- ------------- ------ -------- ---------- ----------------- ----------------- -----------\n",
       " 2FHL J0515.5+1530     78.888     15.503    187.622    -13.094      0.065      0.104     42.0           6.41               2.27                     nan                         nan                     nan                         nan   2.4200e-11   9.7300e-12    2.3800e-12        9.8500e-13    6.1487e-12 -2.1737e-12 .. 2.8043e-12             6.49     4.5839e-13        nan .. 7.6937e-12              0.61      1.0190e-17        nan .. 6.7986e-12               0.00     6.80      68.77     0.99       17 NVSS J051547+152716         0.9940           nan    bll      nan 6.6681e+13 3FGL J0515.8+1526 1FHL J0515.9+1528            ,\n",
       " <Row index=81>\n",
       "    Source_Name     RAJ2000    DEJ2000      GLON       GLAT    Pos_err_68 Pos_err_95    TS    Spectral_Index Unc_Spectral_Index Intr_Spectral_Index_D11 Unc_Intr_Spectral_Index_D11 Intr_Spectral_Index_G12 Unc_Intr_Spectral_Index_G12    Flux50     Unc_Flux50  Energy_Flux50 Unc_Energy_Flux50 Flux50_171GeV   Unc_Flux50_171GeV [2]   Sqrt_TS50_171GeV Flux171_585GeV   Unc_Flux171_585GeV [2]  Sqrt_TS171_585GeV Flux585_2000GeV Unc_Flux585_2000GeV [2]  Sqrt_TS585_2000GeV  Npred   HEP_Energy HEP_Prob   ROI       ASSOC     ASSOC_PROB_BAY ASSOC_PROB_LR CLASS  Redshift NuPeak_obs     3FGL_Name         1FHL_Name      TeVCat_Name \n",
       "                      deg        deg        deg        deg        deg        deg                                                                                                                                                        ph / (cm2 s) ph / (cm2 s) erg / (cm2 s)   erg / (cm2 s)    ph / (cm2 s)        ph / (cm2 s)                         ph / (cm2 s)         ph / (cm2 s)                           ph / (cm2 s)        ph / (cm2 s)                                      GeV                                                                                     Hz                                                      \n",
       "      bytes18       float32    float32    float32    float32    float32    float32   float32     float32          float32               float32                   float32                   float32                   float32             float32      float32       float32         float32         float32             float32              float32         float32              float32               float32          float32             float32               float32       float32   float32   float32   int16     bytes25       float32        float32    bytes8 float32   float32        bytes18           bytes18         bytes18   \n",
       " ----------------- ---------- ---------- ---------- ---------- ---------- ---------- -------- -------------- ------------------ ----------------------- --------------------------- ----------------------- --------------------------- ------------ ------------ ------------- ----------------- ------------- ------------------------- ---------------- -------------- ------------------------- ----------------- --------------- ------------------------ ------------------ -------- ---------- -------- -------- ------------ -------------- ------------- ------ -------- ---------- ----------------- ----------------- -------------\n",
       " 2FHL J0521.7+2112     80.438     21.209    183.607     -8.714      0.031      0.050    562.6           2.92               0.27                    2.78                        0.28                    2.76                        0.28   2.0400e-10   2.7500e-11    3.2900e-11        5.8600e-12    1.6515e-10 -2.1797e-11 .. 2.3864e-11            23.20     8.3150e-12 -4.2235e-12 .. 6.1628e-12              5.35      7.5567e-17        nan .. 5.9877e-12               0.00    58.90     316.79     0.86       17 TXS 0518+211         1.0000        0.9867    bll  0.10800 2.1627e+14 3FGL J0521.7+2113 1FHL J0521.7+2113 TeV J0521+211,\n",
       " <Row index=84>\n",
       "    Source_Name     RAJ2000    DEJ2000      GLON       GLAT    Pos_err_68 Pos_err_95    TS    Spectral_Index Unc_Spectral_Index Intr_Spectral_Index_D11 Unc_Intr_Spectral_Index_D11 Intr_Spectral_Index_G12 Unc_Intr_Spectral_Index_G12    Flux50     Unc_Flux50  Energy_Flux50 Unc_Energy_Flux50 Flux50_171GeV   Unc_Flux50_171GeV [2]   Sqrt_TS50_171GeV Flux171_585GeV  Unc_Flux171_585GeV [2]  Sqrt_TS171_585GeV Flux585_2000GeV Unc_Flux585_2000GeV [2]  Sqrt_TS585_2000GeV  Npred   HEP_Energy HEP_Prob   ROI     ASSOC  ASSOC_PROB_BAY ASSOC_PROB_LR CLASS  Redshift NuPeak_obs     3FGL_Name      1FHL_Name TeVCat_Name\n",
       "                      deg        deg        deg        deg        deg        deg                                                                                                                                                        ph / (cm2 s) ph / (cm2 s) erg / (cm2 s)   erg / (cm2 s)    ph / (cm2 s)        ph / (cm2 s)                         ph / (cm2 s)        ph / (cm2 s)                           ph / (cm2 s)        ph / (cm2 s)                                      GeV                                                                                Hz                                             \n",
       "      bytes18       float32    float32    float32    float32    float32    float32   float32     float32          float32               float32                   float32                   float32                   float32             float32      float32       float32         float32         float32             float32              float32         float32             float32               float32          float32             float32               float32       float32   float32   float32   int16   bytes25    float32        float32    bytes8 float32   float32        bytes18        bytes18    bytes18  \n",
       " ----------------- ---------- ---------- ---------- ---------- ---------- ---------- -------- -------------- ------------------ ----------------------- --------------------------- ----------------------- --------------------------- ------------ ------------ ------------- ----------------- ------------- ------------------------- ---------------- -------------- ------------------------ ----------------- --------------- ------------------------ ------------------ -------- ---------- -------- -------- ------- -------------- ------------- ------ -------- ---------- ------------------ --------- -----------\n",
       " 2FHL J0534.1+2753     83.525     27.886    179.544     -2.704      0.049      0.079     29.1           3.18               1.10                     nan                         nan                     nan                         nan   1.6400e-11   8.0200e-12    2.4000e-12        1.4400e-12    1.2975e-11 -5.3815e-12 .. 7.3262e-12             5.44     5.1763e-16        nan .. 6.2549e-12              0.00      1.8205e-16        nan .. 5.8903e-12               0.00     4.90     135.43     0.99       17    S147            nan        0.8939    snr  0.00000        nan 3FGL J0540.3+2756e                      ,\n",
       " <Row index=85>\n",
       "    Source_Name     RAJ2000    DEJ2000      GLON       GLAT    Pos_err_68 Pos_err_95    TS    Spectral_Index Unc_Spectral_Index Intr_Spectral_Index_D11 Unc_Intr_Spectral_Index_D11 Intr_Spectral_Index_G12 Unc_Intr_Spectral_Index_G12    Flux50     Unc_Flux50  Energy_Flux50 Unc_Energy_Flux50 Flux50_171GeV   Unc_Flux50_171GeV [2]   Sqrt_TS50_171GeV Flux171_585GeV   Unc_Flux171_585GeV [2]  Sqrt_TS171_585GeV Flux585_2000GeV  Unc_Flux585_2000GeV [2]  Sqrt_TS585_2000GeV  Npred   HEP_Energy HEP_Prob   ROI     ASSOC  ASSOC_PROB_BAY ASSOC_PROB_LR CLASS  Redshift NuPeak_obs     3FGL_Name          1FHL_Name      TeVCat_Name  \n",
       "                      deg        deg        deg        deg        deg        deg                                                                                                                                                        ph / (cm2 s) ph / (cm2 s) erg / (cm2 s)   erg / (cm2 s)    ph / (cm2 s)        ph / (cm2 s)                         ph / (cm2 s)         ph / (cm2 s)                           ph / (cm2 s)         ph / (cm2 s)                                      GeV                                                                                Hz                                                        \n",
       "      bytes18       float32    float32    float32    float32    float32    float32   float32     float32          float32               float32                   float32                   float32                   float32             float32      float32       float32         float32         float32             float32              float32         float32              float32               float32          float32              float32               float32       float32   float32   float32   int16   bytes25    float32        float32    bytes8 float32   float32        bytes18            bytes18         bytes18    \n",
       " ----------------- ---------- ---------- ---------- ---------- ---------- ---------- -------- -------------- ------------------ ----------------------- --------------------------- ----------------------- --------------------------- ------------ ------------ ------------- ----------------- ------------- ------------------------- ---------------- -------------- ------------------------- ----------------- --------------- ------------------------- ------------------ -------- ---------- -------- -------- ------- -------------- ------------- ------ -------- ---------- ------------------ ----------------- --------------\n",
       " 2FHL J0534.5+2201     83.634     22.021    184.552     -5.780      0.030      0.049   5149.7           2.13               0.07                     nan                         nan                     nan                         nan   1.3100e-09   6.8300e-11    3.5200e-10        2.9000e-11    9.9407e-10 -5.7595e-11 .. 5.9473e-11            63.58     2.4388e-10 -2.8254e-11 .. 3.0435e-11             33.18      5.2754e-11 -1.3340e-11 .. 1.6048e-11              14.46   377.70    1463.30     1.00       19    Crab         0.9983        0.9969    pwn      nan        nan 3FGL J0534.5+2201i 1FHL J0534.5+2201 TeV J0534+220p,\n",
       " <Row index=97>\n",
       "    Source_Name      RAJ2000    DEJ2000      GLON       GLAT    Pos_err_68 Pos_err_95    TS    Spectral_Index Unc_Spectral_Index Intr_Spectral_Index_D11 Unc_Intr_Spectral_Index_D11 Intr_Spectral_Index_G12 Unc_Intr_Spectral_Index_G12    Flux50     Unc_Flux50  Energy_Flux50 Unc_Energy_Flux50 Flux50_171GeV   Unc_Flux50_171GeV [2]   Sqrt_TS50_171GeV Flux171_585GeV   Unc_Flux171_585GeV [2]  Sqrt_TS171_585GeV Flux585_2000GeV  Unc_Flux585_2000GeV [2]  Sqrt_TS585_2000GeV  Npred   HEP_Energy HEP_Prob   ROI     ASSOC  ASSOC_PROB_BAY ASSOC_PROB_LR CLASS  Redshift NuPeak_obs     3FGL_Name          1FHL_Name       TeVCat_Name \n",
       "                       deg        deg        deg        deg        deg        deg                                                                                                                                                        ph / (cm2 s) ph / (cm2 s) erg / (cm2 s)   erg / (cm2 s)    ph / (cm2 s)        ph / (cm2 s)                         ph / (cm2 s)         ph / (cm2 s)                           ph / (cm2 s)         ph / (cm2 s)                                      GeV                                                                                Hz                                                        \n",
       "      bytes18        float32    float32    float32    float32    float32    float32   float32     float32          float32               float32                   float32                   float32                   float32             float32      float32       float32         float32         float32             float32              float32         float32              float32               float32          float32              float32               float32       float32   float32   float32   int16   bytes25    float32        float32    bytes8 float32   float32        bytes18            bytes18          bytes18   \n",
       " ------------------ ---------- ---------- ---------- ---------- ---------- ---------- -------- -------------- ------------------ ----------------------- --------------------------- ----------------------- --------------------------- ------------ ------------ ------------- ----------------- ------------- ------------------------- ---------------- -------------- ------------------------- ----------------- --------------- ------------------------- ------------------ -------- ---------- -------- -------- ------- -------------- ------------- ------ -------- ---------- ------------------ ------------------ -------------\n",
       " 2FHL J0617.2+2234e     94.310     22.580    189.048      3.033      0.000      0.000    398.6           2.66               0.21                     nan                         nan                     nan                         nan   2.7000e-10   3.2100e-11    4.9700e-11        8.3900e-12    2.1090e-10 -2.5807e-11 .. 2.7968e-11            18.80     2.4934e-11 -8.2973e-12 .. 1.0530e-11              6.62      7.1373e-12 -3.9838e-12 .. 6.3763e-12               3.70    78.20     699.50     0.98       23  IC 443            nan           nan    snr      nan        nan 3FGL J0617.2+2234e 1FHL J0617.2+2234e TeV J0616+225]"
      ]
     },
     "execution_count": 286,
     "metadata": {},
     "output_type": "execute_result"
    }
   ],
   "source": [
    "temp"
   ]
  },
  {
   "cell_type": "markdown",
   "metadata": {},
   "source": [
    "#### Pandas  \n",
    "#### ADVANCED  \n",
    "Load the Fermi 2FHL catalog table (`'data/fermi_2fhl_catalog.fits'`) and find the brighest source (the brightness value is stored in the `'Flux50'` column). What is the common name of the source (column `'ASSOC'`)?\n",
    "Find all sources within 10 deg from the position of this source."
   ]
  },
  {
   "cell_type": "code",
   "execution_count": 233,
   "metadata": {
    "ExecuteTime": {
     "end_time": "2021-02-17T16:12:34.980303Z",
     "start_time": "2021-02-17T16:12:34.799159Z"
    },
    "scrolled": true
   },
   "outputs": [
    {
     "name": "stdout",
     "output_type": "stream",
     "text": [
      "<class 'pandas.core.frame.DataFrame'>\n",
      "RangeIndex: 360 entries, 0 to 359\n",
      "Data columns (total 37 columns):\n",
      " #   Column                       Non-Null Count  Dtype  \n",
      "---  ------                       --------------  -----  \n",
      " 0   Source_Name                  360 non-null    object \n",
      " 1   RAJ2000                      360 non-null    float32\n",
      " 2   DEJ2000                      360 non-null    float32\n",
      " 3   GLON                         360 non-null    float32\n",
      " 4   GLAT                         360 non-null    float32\n",
      " 5   Pos_err_68                   360 non-null    float32\n",
      " 6   Pos_err_95                   360 non-null    float32\n",
      " 7   TS                           360 non-null    float32\n",
      " 8   Spectral_Index               360 non-null    float32\n",
      " 9   Unc_Spectral_Index           359 non-null    float32\n",
      " 10  Intr_Spectral_Index_D11      128 non-null    float32\n",
      " 11  Unc_Intr_Spectral_Index_D11  127 non-null    float32\n",
      " 12  Intr_Spectral_Index_G12      128 non-null    float32\n",
      " 13  Unc_Intr_Spectral_Index_G12  127 non-null    float32\n",
      " 14  Flux50                       360 non-null    float32\n",
      " 15  Unc_Flux50                   360 non-null    float32\n",
      " 16  Energy_Flux50                360 non-null    float32\n",
      " 17  Unc_Energy_Flux50            360 non-null    float32\n",
      " 18  Flux50_171GeV                360 non-null    float32\n",
      " 19  Sqrt_TS50_171GeV             360 non-null    float32\n",
      " 20  Flux171_585GeV               360 non-null    float32\n",
      " 21  Sqrt_TS171_585GeV            360 non-null    float32\n",
      " 22  Flux585_2000GeV              360 non-null    float32\n",
      " 23  Sqrt_TS585_2000GeV           360 non-null    float32\n",
      " 24  Npred                        360 non-null    float32\n",
      " 25  HEP_Energy                   358 non-null    float32\n",
      " 26  HEP_Prob                     358 non-null    float32\n",
      " 27  ROI                          360 non-null    int16  \n",
      " 28  ASSOC                        360 non-null    object \n",
      " 29  ASSOC_PROB_BAY               207 non-null    float32\n",
      " 30  ASSOC_PROB_LR                281 non-null    float32\n",
      " 31  CLASS                        360 non-null    object \n",
      " 32  Redshift                     258 non-null    float32\n",
      " 33  NuPeak_obs                   259 non-null    float32\n",
      " 34  3FGL_Name                    360 non-null    object \n",
      " 35  1FHL_Name                    360 non-null    object \n",
      " 36  TeVCat_Name                  360 non-null    object \n",
      "dtypes: float32(30), int16(1), object(6)\n",
      "memory usage: 59.9+ KB\n"
     ]
    }
   ],
   "source": [
    "names = [name for name in fermi_catalog.colnames if len(fermi_catalog[name].shape) <= 1]\n",
    "df = fermi_catalog[names].to_pandas()\n",
    "df.info()"
   ]
  },
  {
   "cell_type": "code",
   "execution_count": 234,
   "metadata": {
    "ExecuteTime": {
     "end_time": "2021-02-17T16:12:39.619554Z",
     "start_time": "2021-02-17T16:12:39.570848Z"
    }
   },
   "outputs": [
    {
     "data": {
      "text/html": [
       "<div>\n",
       "<style scoped>\n",
       "    .dataframe tbody tr th:only-of-type {\n",
       "        vertical-align: middle;\n",
       "    }\n",
       "\n",
       "    .dataframe tbody tr th {\n",
       "        vertical-align: top;\n",
       "    }\n",
       "\n",
       "    .dataframe thead th {\n",
       "        text-align: right;\n",
       "    }\n",
       "</style>\n",
       "<table border=\"1\" class=\"dataframe\">\n",
       "  <thead>\n",
       "    <tr style=\"text-align: right;\">\n",
       "      <th></th>\n",
       "      <th>Source_Name</th>\n",
       "      <th>RAJ2000</th>\n",
       "      <th>DEJ2000</th>\n",
       "      <th>GLON</th>\n",
       "      <th>GLAT</th>\n",
       "      <th>Pos_err_68</th>\n",
       "      <th>Pos_err_95</th>\n",
       "      <th>TS</th>\n",
       "      <th>Spectral_Index</th>\n",
       "      <th>Unc_Spectral_Index</th>\n",
       "      <th>...</th>\n",
       "      <th>ROI</th>\n",
       "      <th>ASSOC</th>\n",
       "      <th>ASSOC_PROB_BAY</th>\n",
       "      <th>ASSOC_PROB_LR</th>\n",
       "      <th>CLASS</th>\n",
       "      <th>Redshift</th>\n",
       "      <th>NuPeak_obs</th>\n",
       "      <th>3FGL_Name</th>\n",
       "      <th>1FHL_Name</th>\n",
       "      <th>TeVCat_Name</th>\n",
       "    </tr>\n",
       "  </thead>\n",
       "  <tbody>\n",
       "    <tr>\n",
       "      <th>0</th>\n",
       "      <td>b'2FHL J0008.1+4709'</td>\n",
       "      <td>2.0437</td>\n",
       "      <td>47.164200</td>\n",
       "      <td>115.339355</td>\n",
       "      <td>-15.068757</td>\n",
       "      <td>0.061114</td>\n",
       "      <td>0.098394</td>\n",
       "      <td>28.639999</td>\n",
       "      <td>6.24</td>\n",
       "      <td>2.75</td>\n",
       "      <td>...</td>\n",
       "      <td>1</td>\n",
       "      <td>b'MG4 J000800+4712'</td>\n",
       "      <td>0.997220</td>\n",
       "      <td>0.834827</td>\n",
       "      <td>b'bll'</td>\n",
       "      <td>2.100</td>\n",
       "      <td>2.511884e+15</td>\n",
       "      <td>b'3FGL J0008.0+4713'</td>\n",
       "      <td>b'1FHL J0007.7+4709'</td>\n",
       "      <td>b''</td>\n",
       "    </tr>\n",
       "    <tr>\n",
       "      <th>1</th>\n",
       "      <td>b'2FHL J0009.3+5031'</td>\n",
       "      <td>2.3435</td>\n",
       "      <td>50.521702</td>\n",
       "      <td>116.124107</td>\n",
       "      <td>-11.793202</td>\n",
       "      <td>0.045439</td>\n",
       "      <td>0.073157</td>\n",
       "      <td>53.970001</td>\n",
       "      <td>5.08</td>\n",
       "      <td>1.66</td>\n",
       "      <td>...</td>\n",
       "      <td>1</td>\n",
       "      <td>b'NVSS J000922+503028'</td>\n",
       "      <td>0.999724</td>\n",
       "      <td>0.734808</td>\n",
       "      <td>b'bll'</td>\n",
       "      <td>0.000</td>\n",
       "      <td>1.412536e+15</td>\n",
       "      <td>b'3FGL J0009.3+5030'</td>\n",
       "      <td>b'1FHL J0009.2+5032'</td>\n",
       "      <td>b''</td>\n",
       "    </tr>\n",
       "    <tr>\n",
       "      <th>2</th>\n",
       "      <td>b'2FHL J0018.5+2947'</td>\n",
       "      <td>4.6355</td>\n",
       "      <td>29.787901</td>\n",
       "      <td>114.463493</td>\n",
       "      <td>-32.542351</td>\n",
       "      <td>0.037094</td>\n",
       "      <td>0.059721</td>\n",
       "      <td>30.889999</td>\n",
       "      <td>2.58</td>\n",
       "      <td>0.99</td>\n",
       "      <td>...</td>\n",
       "      <td>3</td>\n",
       "      <td>b'RBS 0042'</td>\n",
       "      <td>0.999868</td>\n",
       "      <td>0.978522</td>\n",
       "      <td>b'bll'</td>\n",
       "      <td>0.100</td>\n",
       "      <td>5.915607e+16</td>\n",
       "      <td>b'3FGL J0018.4+2947'</td>\n",
       "      <td>b'1FHL J0018.6+2946'</td>\n",
       "      <td>b''</td>\n",
       "    </tr>\n",
       "    <tr>\n",
       "      <th>3</th>\n",
       "      <td>b'2FHL J0022.0+0006'</td>\n",
       "      <td>5.5001</td>\n",
       "      <td>0.105900</td>\n",
       "      <td>107.171715</td>\n",
       "      <td>-61.861752</td>\n",
       "      <td>0.051185</td>\n",
       "      <td>0.082408</td>\n",
       "      <td>29.959999</td>\n",
       "      <td>1.86</td>\n",
       "      <td>0.57</td>\n",
       "      <td>...</td>\n",
       "      <td>2</td>\n",
       "      <td>b'5BZGJ0022+0006'</td>\n",
       "      <td>0.999280</td>\n",
       "      <td>0.900089</td>\n",
       "      <td>b'bll-g'</td>\n",
       "      <td>0.306</td>\n",
       "      <td>4.315193e+16</td>\n",
       "      <td>b''</td>\n",
       "      <td>b''</td>\n",
       "      <td>b''</td>\n",
       "    </tr>\n",
       "    <tr>\n",
       "      <th>4</th>\n",
       "      <td>b'2FHL J0033.6-1921'</td>\n",
       "      <td>8.4115</td>\n",
       "      <td>-19.357500</td>\n",
       "      <td>94.280022</td>\n",
       "      <td>-81.222366</td>\n",
       "      <td>0.034838</td>\n",
       "      <td>0.056090</td>\n",
       "      <td>148.309998</td>\n",
       "      <td>3.32</td>\n",
       "      <td>0.69</td>\n",
       "      <td>...</td>\n",
       "      <td>2</td>\n",
       "      <td>b'KUV 00311-1938'</td>\n",
       "      <td>0.999759</td>\n",
       "      <td>0.981424</td>\n",
       "      <td>b'bll'</td>\n",
       "      <td>0.610</td>\n",
       "      <td>8.317639e+15</td>\n",
       "      <td>b'3FGL J0033.6-1921'</td>\n",
       "      <td>b'1FHL J0033.6-1921'</td>\n",
       "      <td>b'TeV J0033-193'</td>\n",
       "    </tr>\n",
       "  </tbody>\n",
       "</table>\n",
       "<p>5 rows × 37 columns</p>\n",
       "</div>"
      ],
      "text/plain": [
       "            Source_Name  RAJ2000    DEJ2000        GLON       GLAT  \\\n",
       "0  b'2FHL J0008.1+4709'   2.0437  47.164200  115.339355 -15.068757   \n",
       "1  b'2FHL J0009.3+5031'   2.3435  50.521702  116.124107 -11.793202   \n",
       "2  b'2FHL J0018.5+2947'   4.6355  29.787901  114.463493 -32.542351   \n",
       "3  b'2FHL J0022.0+0006'   5.5001   0.105900  107.171715 -61.861752   \n",
       "4  b'2FHL J0033.6-1921'   8.4115 -19.357500   94.280022 -81.222366   \n",
       "\n",
       "   Pos_err_68  Pos_err_95          TS  Spectral_Index  Unc_Spectral_Index  \\\n",
       "0    0.061114    0.098394   28.639999            6.24                2.75   \n",
       "1    0.045439    0.073157   53.970001            5.08                1.66   \n",
       "2    0.037094    0.059721   30.889999            2.58                0.99   \n",
       "3    0.051185    0.082408   29.959999            1.86                0.57   \n",
       "4    0.034838    0.056090  148.309998            3.32                0.69   \n",
       "\n",
       "   ...  ROI                   ASSOC  ASSOC_PROB_BAY  ASSOC_PROB_LR     CLASS  \\\n",
       "0  ...    1     b'MG4 J000800+4712'        0.997220       0.834827    b'bll'   \n",
       "1  ...    1  b'NVSS J000922+503028'        0.999724       0.734808    b'bll'   \n",
       "2  ...    3             b'RBS 0042'        0.999868       0.978522    b'bll'   \n",
       "3  ...    2       b'5BZGJ0022+0006'        0.999280       0.900089  b'bll-g'   \n",
       "4  ...    2       b'KUV 00311-1938'        0.999759       0.981424    b'bll'   \n",
       "\n",
       "   Redshift    NuPeak_obs             3FGL_Name             1FHL_Name  \\\n",
       "0     2.100  2.511884e+15  b'3FGL J0008.0+4713'  b'1FHL J0007.7+4709'   \n",
       "1     0.000  1.412536e+15  b'3FGL J0009.3+5030'  b'1FHL J0009.2+5032'   \n",
       "2     0.100  5.915607e+16  b'3FGL J0018.4+2947'  b'1FHL J0018.6+2946'   \n",
       "3     0.306  4.315193e+16                   b''                   b''   \n",
       "4     0.610  8.317639e+15  b'3FGL J0033.6-1921'  b'1FHL J0033.6-1921'   \n",
       "\n",
       "        TeVCat_Name  \n",
       "0               b''  \n",
       "1               b''  \n",
       "2               b''  \n",
       "3               b''  \n",
       "4  b'TeV J0033-193'  \n",
       "\n",
       "[5 rows x 37 columns]"
      ]
     },
     "execution_count": 234,
     "metadata": {},
     "output_type": "execute_result"
    }
   ],
   "source": [
    "df.head()"
   ]
  },
  {
   "cell_type": "code",
   "execution_count": 235,
   "metadata": {
    "ExecuteTime": {
     "end_time": "2021-02-17T16:12:45.463562Z",
     "start_time": "2021-02-17T16:12:45.425102Z"
    }
   },
   "outputs": [
    {
     "data": {
      "text/html": [
       "<div>\n",
       "<style scoped>\n",
       "    .dataframe tbody tr th:only-of-type {\n",
       "        vertical-align: middle;\n",
       "    }\n",
       "\n",
       "    .dataframe tbody tr th {\n",
       "        vertical-align: top;\n",
       "    }\n",
       "\n",
       "    .dataframe thead th {\n",
       "        text-align: right;\n",
       "    }\n",
       "</style>\n",
       "<table border=\"1\" class=\"dataframe\">\n",
       "  <thead>\n",
       "    <tr style=\"text-align: right;\">\n",
       "      <th></th>\n",
       "      <th>Source_Name</th>\n",
       "      <th>RAJ2000</th>\n",
       "      <th>DEJ2000</th>\n",
       "      <th>GLON</th>\n",
       "      <th>GLAT</th>\n",
       "      <th>Pos_err_68</th>\n",
       "      <th>Pos_err_95</th>\n",
       "      <th>TS</th>\n",
       "      <th>Spectral_Index</th>\n",
       "      <th>Unc_Spectral_Index</th>\n",
       "      <th>...</th>\n",
       "      <th>ROI</th>\n",
       "      <th>ASSOC</th>\n",
       "      <th>ASSOC_PROB_BAY</th>\n",
       "      <th>ASSOC_PROB_LR</th>\n",
       "      <th>CLASS</th>\n",
       "      <th>Redshift</th>\n",
       "      <th>NuPeak_obs</th>\n",
       "      <th>3FGL_Name</th>\n",
       "      <th>1FHL_Name</th>\n",
       "      <th>TeVCat_Name</th>\n",
       "    </tr>\n",
       "  </thead>\n",
       "  <tbody>\n",
       "    <tr>\n",
       "      <th>85</th>\n",
       "      <td>b'2FHL J0534.5+2201'</td>\n",
       "      <td>83.634102</td>\n",
       "      <td>22.0215</td>\n",
       "      <td>184.552017</td>\n",
       "      <td>-5.779817</td>\n",
       "      <td>0.030251</td>\n",
       "      <td>0.048704</td>\n",
       "      <td>5149.740234</td>\n",
       "      <td>2.13</td>\n",
       "      <td>0.07</td>\n",
       "      <td>...</td>\n",
       "      <td>19</td>\n",
       "      <td>b'Crab'</td>\n",
       "      <td>0.998329</td>\n",
       "      <td>0.996944</td>\n",
       "      <td>b'pwn'</td>\n",
       "      <td>NaN</td>\n",
       "      <td>NaN</td>\n",
       "      <td>b'3FGL J0534.5+2201i'</td>\n",
       "      <td>b'1FHL J0534.5+2201'</td>\n",
       "      <td>b'TeV J0534+220p'</td>\n",
       "    </tr>\n",
       "  </tbody>\n",
       "</table>\n",
       "<p>1 rows × 37 columns</p>\n",
       "</div>"
      ],
      "text/plain": [
       "             Source_Name    RAJ2000  DEJ2000        GLON      GLAT  \\\n",
       "85  b'2FHL J0534.5+2201'  83.634102  22.0215  184.552017 -5.779817   \n",
       "\n",
       "    Pos_err_68  Pos_err_95           TS  Spectral_Index  Unc_Spectral_Index  \\\n",
       "85    0.030251    0.048704  5149.740234            2.13                0.07   \n",
       "\n",
       "    ...  ROI    ASSOC  ASSOC_PROB_BAY  ASSOC_PROB_LR   CLASS  Redshift  \\\n",
       "85  ...   19  b'Crab'        0.998329       0.996944  b'pwn'       NaN   \n",
       "\n",
       "    NuPeak_obs              3FGL_Name             1FHL_Name        TeVCat_Name  \n",
       "85         NaN  b'3FGL J0534.5+2201i'  b'1FHL J0534.5+2201'  b'TeV J0534+220p'  \n",
       "\n",
       "[1 rows x 37 columns]"
      ]
     },
     "execution_count": 235,
     "metadata": {},
     "output_type": "execute_result"
    }
   ],
   "source": [
    "row = df[df[\"Flux50\"] == df[\"Flux50\"].max()]\n",
    "row"
   ]
  },
  {
   "cell_type": "code",
   "execution_count": 218,
   "metadata": {
    "ExecuteTime": {
     "end_time": "2021-02-17T16:06:04.909669Z",
     "start_time": "2021-02-17T16:06:04.905489Z"
    }
   },
   "outputs": [
    {
     "data": {
      "text/plain": [
       "b'2FHL J0534.5+2201'"
      ]
     },
     "execution_count": 218,
     "metadata": {},
     "output_type": "execute_result"
    }
   ],
   "source": [
    "source_name_max = row[\"Source_Name\"].values[0]\n",
    "source_name_max"
   ]
  },
  {
   "cell_type": "code",
   "execution_count": 219,
   "metadata": {
    "ExecuteTime": {
     "end_time": "2021-02-17T16:07:20.344221Z",
     "start_time": "2021-02-17T16:07:20.337128Z"
    }
   },
   "outputs": [
    {
     "data": {
      "text/plain": [
       "b'Crab'"
      ]
     },
     "execution_count": 219,
     "metadata": {},
     "output_type": "execute_result"
    }
   ],
   "source": [
    "assoc_name_max = row[\"ASSOC\"].values[0]\n",
    "assoc_name_max"
   ]
  },
  {
   "cell_type": "code",
   "execution_count": 255,
   "metadata": {
    "ExecuteTime": {
     "end_time": "2021-02-17T16:24:14.474358Z",
     "start_time": "2021-02-17T16:24:14.466897Z"
    }
   },
   "outputs": [
    {
     "data": {
      "text/plain": [
       "83.6341"
      ]
     },
     "execution_count": 255,
     "metadata": {},
     "output_type": "execute_result"
    }
   ],
   "source": [
    "df[df[\"ASSOC\"] == b\"Crab\"][\"RAJ2000\"].values[0]"
   ]
  },
  {
   "cell_type": "code",
   "execution_count": 256,
   "metadata": {
    "ExecuteTime": {
     "end_time": "2021-02-17T16:27:32.201124Z",
     "start_time": "2021-02-17T16:27:32.175603Z"
    }
   },
   "outputs": [],
   "source": [
    "crab_ra = df[df[\"ASSOC\"] == b\"Crab\"][\"RAJ2000\"].values[0]\n",
    "crab_dec = df[df[\"ASSOC\"] == b\"Crab\"][\"DEJ2000\"].values[0]"
   ]
  },
  {
   "cell_type": "code",
   "execution_count": 260,
   "metadata": {
    "ExecuteTime": {
     "end_time": "2021-02-17T16:28:21.092476Z",
     "start_time": "2021-02-17T16:28:21.087052Z"
    }
   },
   "outputs": [
    {
     "data": {
      "text/plain": [
       "<SkyCoord (ICRS): (ra, dec) in deg\n",
       "    (83.63410187, 22.02149963)>"
      ]
     },
     "execution_count": 260,
     "metadata": {},
     "output_type": "execute_result"
    }
   ],
   "source": [
    "temp = SkyCoord(ra=crab_ra, dec=crab_dec, unit=\"deg\")\n",
    "temp"
   ]
  },
  {
   "cell_type": "code",
   "execution_count": 264,
   "metadata": {
    "ExecuteTime": {
     "end_time": "2021-02-17T16:35:35.476465Z",
     "start_time": "2021-02-17T16:35:35.470596Z"
    }
   },
   "outputs": [
    {
     "ename": "SyntaxError",
     "evalue": "invalid syntax (<ipython-input-264-f34487a3a79f>, line 3)",
     "output_type": "error",
     "traceback": [
      "\u001b[0;36m  File \u001b[0;32m\"<ipython-input-264-f34487a3a79f>\"\u001b[0;36m, line \u001b[0;32m3\u001b[0m\n\u001b[0;31m    [if SkyCoord(x[\"RAJ2000\"], x[\"DEJ2000\"], frame = 'icrs', unit='deg').separation(SkyCoord(crab_ra, crab_dec, unit=\"deg\")) < 10*u.deg for x in df ]\u001b[0m\n\u001b[0m      ^\u001b[0m\n\u001b[0;31mSyntaxError\u001b[0m\u001b[0;31m:\u001b[0m invalid syntax\n"
     ]
    }
   ],
   "source": [
    "# table[\"RA\"] = [SkyCoord(x[\"GLON\"], x[\"GLAT\"], frame='galactic', unit='deg').transform_to('icrs').ra.value for x in table]\n",
    "    \n",
    "[if SkyCoord(x[\"RAJ2000\"], x[\"DEJ2000\"], frame = 'icrs', unit='deg').separation(SkyCoord(crab_ra, crab_dec, unit=\"deg\")) < 10*u.deg for x in df ]"
   ]
  },
  {
   "cell_type": "code",
   "execution_count": 278,
   "metadata": {
    "ExecuteTime": {
     "end_time": "2021-02-17T16:51:22.073475Z",
     "start_time": "2021-02-17T16:51:22.039486Z"
    }
   },
   "outputs": [
    {
     "ename": "TypeError",
     "evalue": "byte indices must be integers or slices, not str",
     "output_type": "error",
     "traceback": [
      "\u001b[0;31m---------------------------------------------------------------------------\u001b[0m",
      "\u001b[0;31mTypeError\u001b[0m                                 Traceback (most recent call last)",
      "\u001b[0;32m<ipython-input-278-5030a1842d9d>\u001b[0m in \u001b[0;36m<module>\u001b[0;34m\u001b[0m\n\u001b[0;32m----> 1\u001b[0;31m \u001b[0;34m[\u001b[0m\u001b[0mx\u001b[0m \u001b[0;32mfor\u001b[0m \u001b[0mx\u001b[0m \u001b[0;32min\u001b[0m \u001b[0mdf\u001b[0m\u001b[0;34m[\u001b[0m\u001b[0;34m\"Source_Name\"\u001b[0m\u001b[0;34m]\u001b[0m \u001b[0;32mif\u001b[0m \u001b[0mSkyCoord\u001b[0m\u001b[0;34m(\u001b[0m\u001b[0mx\u001b[0m\u001b[0;34m[\u001b[0m\u001b[0;34m\"RAJ2000\"\u001b[0m\u001b[0;34m]\u001b[0m\u001b[0;34m,\u001b[0m \u001b[0mx\u001b[0m\u001b[0;34m[\u001b[0m\u001b[0;34m\"DEJ2000\"\u001b[0m\u001b[0;34m]\u001b[0m\u001b[0;34m,\u001b[0m \u001b[0mframe\u001b[0m \u001b[0;34m=\u001b[0m \u001b[0;34m'icrs'\u001b[0m\u001b[0;34m,\u001b[0m \u001b[0munit\u001b[0m\u001b[0;34m=\u001b[0m\u001b[0;34m'deg'\u001b[0m\u001b[0;34m)\u001b[0m\u001b[0;34m.\u001b[0m\u001b[0mseparation\u001b[0m\u001b[0;34m(\u001b[0m\u001b[0mSkyCoord\u001b[0m\u001b[0;34m(\u001b[0m\u001b[0mcrab_ra\u001b[0m\u001b[0;34m,\u001b[0m \u001b[0mcrab_dec\u001b[0m\u001b[0;34m,\u001b[0m\u001b[0mframe\u001b[0m\u001b[0;34m=\u001b[0m\u001b[0;34m'icrs'\u001b[0m\u001b[0;34m,\u001b[0m \u001b[0munit\u001b[0m\u001b[0;34m=\u001b[0m\u001b[0;34m\"deg\"\u001b[0m\u001b[0;34m)\u001b[0m\u001b[0;34m)\u001b[0m \u001b[0;34m<\u001b[0m \u001b[0;36m10\u001b[0m\u001b[0;34m*\u001b[0m\u001b[0mu\u001b[0m\u001b[0;34m.\u001b[0m\u001b[0mdeg\u001b[0m\u001b[0;34m]\u001b[0m\u001b[0;34m\u001b[0m\u001b[0;34m\u001b[0m\u001b[0m\n\u001b[0m",
      "\u001b[0;32m<ipython-input-278-5030a1842d9d>\u001b[0m in \u001b[0;36m<listcomp>\u001b[0;34m(.0)\u001b[0m\n\u001b[0;32m----> 1\u001b[0;31m \u001b[0;34m[\u001b[0m\u001b[0mx\u001b[0m \u001b[0;32mfor\u001b[0m \u001b[0mx\u001b[0m \u001b[0;32min\u001b[0m \u001b[0mdf\u001b[0m\u001b[0;34m[\u001b[0m\u001b[0;34m\"Source_Name\"\u001b[0m\u001b[0;34m]\u001b[0m \u001b[0;32mif\u001b[0m \u001b[0mSkyCoord\u001b[0m\u001b[0;34m(\u001b[0m\u001b[0mx\u001b[0m\u001b[0;34m[\u001b[0m\u001b[0;34m\"RAJ2000\"\u001b[0m\u001b[0;34m]\u001b[0m\u001b[0;34m,\u001b[0m \u001b[0mx\u001b[0m\u001b[0;34m[\u001b[0m\u001b[0;34m\"DEJ2000\"\u001b[0m\u001b[0;34m]\u001b[0m\u001b[0;34m,\u001b[0m \u001b[0mframe\u001b[0m \u001b[0;34m=\u001b[0m \u001b[0;34m'icrs'\u001b[0m\u001b[0;34m,\u001b[0m \u001b[0munit\u001b[0m\u001b[0;34m=\u001b[0m\u001b[0;34m'deg'\u001b[0m\u001b[0;34m)\u001b[0m\u001b[0;34m.\u001b[0m\u001b[0mseparation\u001b[0m\u001b[0;34m(\u001b[0m\u001b[0mSkyCoord\u001b[0m\u001b[0;34m(\u001b[0m\u001b[0mcrab_ra\u001b[0m\u001b[0;34m,\u001b[0m \u001b[0mcrab_dec\u001b[0m\u001b[0;34m,\u001b[0m\u001b[0mframe\u001b[0m\u001b[0;34m=\u001b[0m\u001b[0;34m'icrs'\u001b[0m\u001b[0;34m,\u001b[0m \u001b[0munit\u001b[0m\u001b[0;34m=\u001b[0m\u001b[0;34m\"deg\"\u001b[0m\u001b[0;34m)\u001b[0m\u001b[0;34m)\u001b[0m \u001b[0;34m<\u001b[0m \u001b[0;36m10\u001b[0m\u001b[0;34m*\u001b[0m\u001b[0mu\u001b[0m\u001b[0;34m.\u001b[0m\u001b[0mdeg\u001b[0m\u001b[0;34m]\u001b[0m\u001b[0;34m\u001b[0m\u001b[0;34m\u001b[0m\u001b[0m\n\u001b[0m",
      "\u001b[0;31mTypeError\u001b[0m: byte indices must be integers or slices, not str"
     ]
    }
   ],
   "source": [
    "[x for x in df if SkyCoord(x[\"RAJ2000\"], x[\"DEJ2000\"], frame = 'icrs', unit='deg').separation(SkyCoord(crab_ra, crab_dec,frame='icrs', unit=\"deg\")) < 10*u.deg]"
   ]
  },
  {
   "cell_type": "code",
   "execution_count": 281,
   "metadata": {
    "ExecuteTime": {
     "end_time": "2021-02-17T16:54:07.788988Z",
     "start_time": "2021-02-17T16:54:07.718813Z"
    }
   },
   "outputs": [
    {
     "data": {
      "text/plain": [
       "0        2.043700\n",
       "1        2.343500\n",
       "2        4.635500\n",
       "3        5.500100\n",
       "4        8.411500\n",
       "          ...    \n",
       "355    352.308014\n",
       "356    355.203003\n",
       "357    355.898010\n",
       "358    356.750000\n",
       "359    358.019012\n",
       "Name: RAJ2000, Length: 360, dtype: float32"
      ]
     },
     "execution_count": 281,
     "metadata": {},
     "output_type": "execute_result"
    }
   ],
   "source": [
    "df.loc[:,\"RAJ2000\"]"
   ]
  },
  {
   "cell_type": "code",
   "execution_count": 283,
   "metadata": {
    "ExecuteTime": {
     "end_time": "2021-02-17T16:58:10.693632Z",
     "start_time": "2021-02-17T16:58:10.612184Z"
    }
   },
   "outputs": [
    {
     "ename": "ValueError",
     "evalue": "The truth value of an array with more than one element is ambiguous. Use a.any() or a.all()",
     "output_type": "error",
     "traceback": [
      "\u001b[0;31m---------------------------------------------------------------------------\u001b[0m",
      "\u001b[0;31mValueError\u001b[0m                                Traceback (most recent call last)",
      "\u001b[0;32m<ipython-input-283-75bd8d1f59b7>\u001b[0m in \u001b[0;36m<module>\u001b[0;34m\u001b[0m\n\u001b[0;32m----> 1\u001b[0;31m \u001b[0mdf\u001b[0m\u001b[0;34m[\u001b[0m\u001b[0;34m\"nova\"\u001b[0m\u001b[0;34m]\u001b[0m \u001b[0;34m=\u001b[0m \u001b[0;36m1\u001b[0m \u001b[0;32mif\u001b[0m \u001b[0mSkyCoord\u001b[0m\u001b[0;34m(\u001b[0m\u001b[0mdf\u001b[0m\u001b[0;34m.\u001b[0m\u001b[0mloc\u001b[0m\u001b[0;34m[\u001b[0m\u001b[0;34m:\u001b[0m\u001b[0;34m,\u001b[0m\u001b[0;34m\"RAJ2000\"\u001b[0m\u001b[0;34m]\u001b[0m\u001b[0;34m,\u001b[0m \u001b[0mdf\u001b[0m\u001b[0;34m.\u001b[0m\u001b[0mloc\u001b[0m\u001b[0;34m[\u001b[0m\u001b[0;34m:\u001b[0m\u001b[0;34m,\u001b[0m\u001b[0;34m\"DEJ2000\"\u001b[0m\u001b[0;34m]\u001b[0m\u001b[0;34m,\u001b[0m \u001b[0munit\u001b[0m \u001b[0;34m=\u001b[0m \u001b[0;34m\"deg\"\u001b[0m\u001b[0;34m)\u001b[0m\u001b[0;34m.\u001b[0m\u001b[0mseparation\u001b[0m\u001b[0;34m(\u001b[0m\u001b[0mSkyCoord\u001b[0m\u001b[0;34m(\u001b[0m\u001b[0mcrab_ra\u001b[0m\u001b[0;34m,\u001b[0m \u001b[0mcrab_dec\u001b[0m\u001b[0;34m,\u001b[0m \u001b[0munit\u001b[0m\u001b[0;34m=\u001b[0m\u001b[0;34m\"deg\"\u001b[0m\u001b[0;34m)\u001b[0m\u001b[0;34m)\u001b[0m \u001b[0;34m>\u001b[0m \u001b[0;36m10\u001b[0m\u001b[0;34m*\u001b[0m\u001b[0mu\u001b[0m\u001b[0;34m.\u001b[0m\u001b[0mdeg\u001b[0m \u001b[0;32melse\u001b[0m \u001b[0;36m0\u001b[0m\u001b[0;34m\u001b[0m\u001b[0;34m\u001b[0m\u001b[0m\n\u001b[0m",
      "\u001b[0;31mValueError\u001b[0m: The truth value of an array with more than one element is ambiguous. Use a.any() or a.all()"
     ]
    }
   ],
   "source": [
    "df[\"nova\"] = 1 if SkyCoord(df.loc[:,\"RAJ2000\"], df.loc[:,\"DEJ2000\"], unit = \"deg\").separation(SkyCoord(crab_ra, crab_dec, unit=\"deg\")) > 10*u.deg else 0 "
   ]
  },
  {
   "cell_type": "code",
   "execution_count": 279,
   "metadata": {
    "ExecuteTime": {
     "end_time": "2021-02-17T16:51:41.533184Z",
     "start_time": "2021-02-17T16:51:41.516992Z"
    }
   },
   "outputs": [
    {
     "data": {
      "text/plain": [
       "[b'2FHL J0008.1+4709',\n",
       " b'2FHL J0009.3+5031',\n",
       " b'2FHL J0018.5+2947',\n",
       " b'2FHL J0022.0+0006',\n",
       " b'2FHL J0033.6-1921',\n",
       " b'2FHL J0035.8+5949',\n",
       " b'2FHL J0040.3+4049',\n",
       " b'2FHL J0043.9+3424',\n",
       " b'2FHL J0045.2+2127',\n",
       " b'2FHL J0048.0+5449',\n",
       " b'2FHL J0051.2-6242',\n",
       " b'2FHL J0054.8-2455',\n",
       " b'2FHL J0110.1+6806',\n",
       " b'2FHL J0114.4+1323',\n",
       " b'2FHL J0114.9-3359',\n",
       " b'2FHL J0115.8+2519',\n",
       " b'2FHL J0120.5-2702',\n",
       " b'2FHL J0123.7-2308',\n",
       " b'2FHL J0131.0+6120',\n",
       " b'2FHL J0136.5+3906',\n",
       " b'2FHL J0138.2+5811',\n",
       " b'2FHL J0141.3-0927',\n",
       " b'2FHL J0143.8-5847',\n",
       " b'2FHL J0148.1+5201',\n",
       " b'2FHL J0152.8+0146',\n",
       " b'2FHL J0153.5+7113',\n",
       " b'2FHL J0157.0-5301',\n",
       " b'2FHL J0205.4+6450',\n",
       " b'2FHL J0209.3-5228',\n",
       " b'2FHL J0211.2+1050',\n",
       " b'2FHL J0213.9-6949',\n",
       " b'2FHL J0214.9+5149',\n",
       " b'2FHL J0214.9+7555',\n",
       " b'2FHL J0221.1+3556',\n",
       " b'2FHL J0222.6+4301',\n",
       " b'2FHL J0231.0-5755',\n",
       " b'2FHL J0237.6-3605',\n",
       " b'2FHL J0238.4-3116',\n",
       " b'2FHL J0238.8+1631',\n",
       " b'2FHL J0240.5+6113',\n",
       " b'2FHL J0241.5+6544',\n",
       " b'2FHL J0244.9-5820',\n",
       " b'2FHL J0245.6+6605',\n",
       " b'2FHL J0303.3-2407',\n",
       " b'2FHL J0304.5-0054',\n",
       " b'2FHL J0307.4+4917',\n",
       " b'2FHL J0310.4-5019',\n",
       " b'2FHL J0313.0+3614',\n",
       " b'2FHL J0316.1+0905',\n",
       " b'2FHL J0316.6+4120',\n",
       " b'2FHL J0318.0-4414',\n",
       " b'2FHL J0319.7+1849',\n",
       " b'2FHL J0319.8+4131',\n",
       " b'2FHL J0322.0+2338',\n",
       " b'2FHL J0326.0-1644',\n",
       " b'2FHL J0326.3+0227',\n",
       " b'2FHL J0331.3-6157',\n",
       " b'2FHL J0333.7+2916',\n",
       " b'2FHL J0334.1-3729',\n",
       " b'2FHL J0349.3-1158',\n",
       " b'2FHL J0352.7-6831',\n",
       " b'2FHL J0353.6+8258',\n",
       " b'2FHL J0416.9+0105',\n",
       " b'2FHL J0422.9+1947',\n",
       " b'2FHL J0423.9+4148',\n",
       " b'2FHL J0425.1+6317',\n",
       " b'2FHL J0428.7-3755',\n",
       " b'2FHL J0431.2+5553e',\n",
       " b'2FHL J0431.2+5342',\n",
       " b'2FHL J0433.6+2907',\n",
       " b'2FHL J0434.7+0919',\n",
       " b'2FHL J0440.3-2458',\n",
       " b'2FHL J0442.6+6141',\n",
       " b'2FHL J0449.4-4349',\n",
       " b'2FHL J0456.9-2323',\n",
       " b'2FHL J0500.4+5239',\n",
       " b'2FHL J0506.1+6114',\n",
       " b'2FHL J0506.9-5434',\n",
       " b'2FHL J0507.9+6737',\n",
       " b'2FHL J0509.5+0541',\n",
       " b'2FHL J0515.5+1530',\n",
       " b'2FHL J0521.7+2112',\n",
       " b'2FHL J0525.8-6012',\n",
       " b'2FHL J0526.6-6825e',\n",
       " b'2FHL J0534.1+2753',\n",
       " b'2FHL J0534.5+2201',\n",
       " b'2FHL J0536.4-3342',\n",
       " b'2FHL J0537.4-6908',\n",
       " b'2FHL J0538.6-4406',\n",
       " b'2FHL J0540.5+5822',\n",
       " b'2FHL J0543.9-5533',\n",
       " b'2FHL J0550.7-3212',\n",
       " b'2FHL J0600.2+1243',\n",
       " b'2FHL J0601.0+3837',\n",
       " b'2FHL J0601.9+5317',\n",
       " b'2FHL J0604.3-4817',\n",
       " b'2FHL J0607.3+4738',\n",
       " b'2FHL J0617.2+2234e',\n",
       " b'2FHL J0617.3+5700',\n",
       " b'2FHL J0620.6+2644',\n",
       " b'2FHL J0622.4-2604',\n",
       " b'2FHL J0622.9+3325',\n",
       " b'2FHL J0626.9-3528',\n",
       " b'2FHL J0630.2-2013',\n",
       " b'2FHL J0631.0-2406',\n",
       " b'2FHL J0639.9-1252',\n",
       " b'2FHL J0648.5+4438',\n",
       " b'2FHL J0648.6+1516',\n",
       " b'2FHL J0649.6-3139',\n",
       " b'2FHL J0650.5+2056',\n",
       " b'2FHL J0650.7+2502',\n",
       " b'2FHL J0700.6-6609',\n",
       " b'2FHL J0705.9+0245',\n",
       " b'2FHL J0706.5+3744',\n",
       " b'2FHL J0709.3-1526',\n",
       " b'2FHL J0710.5+5908',\n",
       " b'2FHL J0718.5-4321',\n",
       " b'2FHL J0721.9+7121',\n",
       " b'2FHL J0730.9-6600',\n",
       " b'2FHL J0738.6+1741',\n",
       " b'2FHL J0744.2+7435',\n",
       " b'2FHL J0746.4-4757',\n",
       " b'2FHL J0756.8+0955',\n",
       " b'2FHL J0803.3-0336',\n",
       " b'2FHL J0805.8+7534',\n",
       " b'2FHL J0809.5+3458',\n",
       " b'2FHL J0809.7+5218',\n",
       " b'2FHL J0810.6-7529',\n",
       " b'2FHL J0811.6+0146',\n",
       " b'2FHL J0811.9+0238',\n",
       " b'2FHL J0814.8+6424',\n",
       " b'2FHL J0816.3-1311',\n",
       " b'2FHL J0816.4+5739',\n",
       " b'2FHL J0819.9-2805',\n",
       " b'2FHL J0822.6-4250e',\n",
       " b'2FHL J0825.9-2230',\n",
       " b'2FHL J0826.1-4500',\n",
       " b'2FHL J0833.1-4511e',\n",
       " b'2FHL J0835.3-4511',\n",
       " b'2FHL J0845.7-5550',\n",
       " b'2FHL J0846.8-2333',\n",
       " b'2FHL J0847.2+1133',\n",
       " b'2FHL J0850.0+4856',\n",
       " b'2FHL J0852.8-4631e',\n",
       " b'2FHL J0853.1-3657',\n",
       " b'2FHL J0858.0-3130',\n",
       " b'2FHL J0905.7+1359',\n",
       " b'2FHL J0906.8+3530',\n",
       " b'2FHL J0910.4+3327',\n",
       " b'2FHL J0913.1-2058',\n",
       " b'2FHL J0915.9+2931',\n",
       " b'2FHL J0950.2+4553',\n",
       " b'2FHL J0952.2+7503',\n",
       " b'2FHL J0952.9-0841',\n",
       " b'2FHL J0957.6+5523',\n",
       " b'2FHL J0958.3+6535',\n",
       " b'2FHL J1010.2-3119',\n",
       " b'2FHL J1015.0+4926',\n",
       " b'2FHL J1022.0-5750',\n",
       " b'2FHL J1022.7-0112',\n",
       " b'2FHL J1026.9-8541',\n",
       " b'2FHL J1027.0-1749',\n",
       " b'2FHL J1031.2+7441',\n",
       " b'2FHL J1031.4+5052',\n",
       " b'2FHL J1037.6+5710',\n",
       " b'2FHL J1045.2-5942',\n",
       " b'2FHL J1053.5+4930',\n",
       " b'2FHL J1058.5+5625',\n",
       " b'2FHL J1104.0-2331',\n",
       " b'2FHL J1104.4+3812',\n",
       " b'2FHL J1112.1-6101e',\n",
       " b'2FHL J1116.9+2014',\n",
       " b'2FHL J1120.8+4212',\n",
       " b'2FHL J1125.6-3555',\n",
       " b'2FHL J1130.4-7801',\n",
       " b'2FHL J1130.8-3137',\n",
       " b'2FHL J1136.5-2721',\n",
       " b'2FHL J1136.5+7009',\n",
       " b'2FHL J1136.8+6737',\n",
       " b'2FHL J1137.9-1710',\n",
       " b'2FHL J1145.0+1935',\n",
       " b'2FHL J1147.0-1437',\n",
       " b'2FHL J1150.5+4153',\n",
       " b'2FHL J1155.5-3417',\n",
       " b'2FHL J1217.9+3006',\n",
       " b'2FHL J1221.3+3009',\n",
       " b'2FHL J1224.4+2435',\n",
       " b'2FHL J1224.7+2124',\n",
       " b'2FHL J1230.8+1225',\n",
       " b'2FHL J1231.7+2848',\n",
       " b'2FHL J1233.8-0145',\n",
       " b'2FHL J1243.2+3627',\n",
       " b'2FHL J1248.1+5820',\n",
       " b'2FHL J1253.2+5301',\n",
       " b'2FHL J1256.2-0548',\n",
       " b'2FHL J1303.4-6312e',\n",
       " b'2FHL J1304.5-4353',\n",
       " b'2FHL J1307.6-4259',\n",
       " b'2FHL J1309.5+4305',\n",
       " b'2FHL J1312.6+4828',\n",
       " b'2FHL J1315.0-4238',\n",
       " b'2FHL J1325.6-4301',\n",
       " b'2FHL J1328.6-4728',\n",
       " b'2FHL J1353.5-6640',\n",
       " b'2FHL J1355.1-6420e',\n",
       " b'2FHL J1404.9+6555',\n",
       " b'2FHL J1406.2-2507',\n",
       " b'2FHL J1418.0+2543',\n",
       " b'2FHL J1418.3-0235',\n",
       " b'2FHL J1418.6+7731',\n",
       " b'2FHL J1419.3-6047e',\n",
       " b'2FHL J1421.4-4447',\n",
       " b'2FHL J1427.0+2348',\n",
       " b'2FHL J1427.3-4204',\n",
       " b'2FHL J1427.7-3215',\n",
       " b'2FHL J1428.5+4239',\n",
       " b'2FHL J1437.0+5639',\n",
       " b'2FHL J1440.7-3847',\n",
       " b'2FHL J1442.9+1159',\n",
       " b'2FHL J1443.2-6221e',\n",
       " b'2FHL J1443.9-3909',\n",
       " b'2FHL J1445.1-0329',\n",
       " b'2FHL J1447.0-2658',\n",
       " b'2FHL J1448.1+3607',\n",
       " b'2FHL J1503.7-1539',\n",
       " b'2FHL J1505.1-5808',\n",
       " b'2FHL J1506.8+0813',\n",
       " b'2FHL J1507.4-6213',\n",
       " b'2FHL J1512.7-0906',\n",
       " b'2FHL J1514.0-5915e',\n",
       " b'2FHL J1516.1+3702',\n",
       " b'2FHL J1517.7-2421',\n",
       " b'2FHL J1517.7+6526',\n",
       " b'2FHL J1517.9-2732',\n",
       " b'2FHL J1540.5+8155',\n",
       " b'2FHL J1542.9+6129',\n",
       " b'2FHL J1545.0-6641',\n",
       " b'2FHL J1548.7-2249',\n",
       " b'2FHL J1549.8-0659',\n",
       " b'2FHL J1552.3-5610',\n",
       " b'2FHL J1555.7+1111',\n",
       " b'2FHL J1559.2-6433',\n",
       " b'2FHL J1603.9-4903',\n",
       " b'2FHL J1610.5-6650',\n",
       " b'2FHL J1615.3-5146e',\n",
       " b'2FHL J1616.2-5054e',\n",
       " b'2FHL J1630.0+7644',\n",
       " b'2FHL J1633.5-4746e',\n",
       " b'2FHL J1635.4-1414',\n",
       " b'2FHL J1637.8-3448',\n",
       " b'2FHL J1640.6-4632',\n",
       " b'2FHL J1651.8+7218',\n",
       " b'2FHL J1653.9+3945',\n",
       " b'2FHL J1703.4-4145',\n",
       " b'2FHL J1704.7-0528',\n",
       " b'2FHL J1712.6-2622',\n",
       " b'2FHL J1713.5-3945e',\n",
       " b'2FHL J1713.9-2027',\n",
       " b'2FHL J1714.1-4012',\n",
       " b'2FHL J1725.1+1154',\n",
       " b'2FHL J1728.2+5013',\n",
       " b'2FHL J1733.8-4733',\n",
       " b'2FHL J1736.1+2033',\n",
       " b'2FHL J1741.2-4021',\n",
       " b'2FHL J1743.9+1933',\n",
       " b'2FHL J1744.9-1722',\n",
       " b'2FHL J1745.1-3035',\n",
       " b'2FHL J1745.4-0752',\n",
       " b'2FHL J1745.7-2900',\n",
       " b'2FHL J1748.5-0853',\n",
       " b'2FHL J1748.7+7004',\n",
       " b'2FHL J1754.2+3211',\n",
       " b'2FHL J1756.4+5522',\n",
       " b'2FHL J1801.2+7828',\n",
       " b'2FHL J1801.3-2326e',\n",
       " b'2FHL J1801.7-2358',\n",
       " b'2FHL J1805.6-2136e',\n",
       " b'2FHL J1811.3+0342',\n",
       " b'2FHL J1823.6-3454',\n",
       " b'2FHL J1824.5-1350e',\n",
       " b'2FHL J1826.3-1450',\n",
       " b'2FHL J1829.0-2417',\n",
       " b'2FHL J1834.5-0846e',\n",
       " b'2FHL J1834.6-0701',\n",
       " b'2FHL J1836.5-0655e',\n",
       " b'2FHL J1837.4-0717',\n",
       " b'2FHL J1838.9+4802',\n",
       " b'2FHL J1839.5-0705',\n",
       " b'2FHL J1840.9-0532e',\n",
       " b'2FHL J1842.3-5840',\n",
       " b'2FHL J1849.2-1646',\n",
       " b'2FHL J1856.8+0256',\n",
       " b'2FHL J1903.2+5540',\n",
       " b'2FHL J1904.9+3627',\n",
       " b'2FHL J1911.0+0905',\n",
       " b'2FHL J1912.9-4456',\n",
       " b'2FHL J1917.7-1921',\n",
       " b'2FHL J1917.9+0331',\n",
       " b'2FHL J1921.9-1607',\n",
       " b'2FHL J1922.4-7450',\n",
       " b'2FHL J1923.2+1408e',\n",
       " b'2FHL J1926.9+6155',\n",
       " b'2FHL J1931.1+0937',\n",
       " b'2FHL J1933.3+0725',\n",
       " b'2FHL J1936.9-4721',\n",
       " b'2FHL J1942.8+1033',\n",
       " b'2FHL J1944.1+2117',\n",
       " b'2FHL J1944.3-4521',\n",
       " b'2FHL J1944.9-2144',\n",
       " b'2FHL J1949.5+0907',\n",
       " b'2FHL J1954.9-5641',\n",
       " b'2FHL J1958.3-3011',\n",
       " b'2FHL J1959.6-4725',\n",
       " b'2FHL J2000.1+6508',\n",
       " b'2FHL J2000.9-1749',\n",
       " b'2FHL J2001.2+4352',\n",
       " b'2FHL J2009.4-4849',\n",
       " b'2FHL J2016.2+3713',\n",
       " b'2FHL J2016.5-0904',\n",
       " b'2FHL J2021.0+4031e',\n",
       " b'2FHL J2028.6+4110e',\n",
       " b'2FHL J2040.9-7119',\n",
       " b'2FHL J2056.7+4939',\n",
       " b'2FHL J2058.6-1832',\n",
       " b'2FHL J2103.8-6233',\n",
       " b'2FHL J2112.5-8617',\n",
       " b'2FHL J2112.8+0819',\n",
       " b'2FHL J2116.1+3339',\n",
       " b'2FHL J2124.0+3931',\n",
       " b'2FHL J2131.4-0914',\n",
       " b'2FHL J2146.6-1343',\n",
       " b'2FHL J2150.3-1411',\n",
       " b'2FHL J2153.1-0041',\n",
       " b'2FHL J2158.8-3013',\n",
       " b'2FHL J2202.7+4216',\n",
       " b'2FHL J2209.8-0451',\n",
       " b'2FHL J2221.4-5226',\n",
       " b'2FHL J2236.4-1433',\n",
       " b'2FHL J2243.7-1233',\n",
       " b'2FHL J2243.8+2019',\n",
       " b'2FHL J2245.8+1543',\n",
       " b'2FHL J2246.5-5207',\n",
       " b'2FHL J2247.9+4413',\n",
       " b'2FHL J2249.9+3826',\n",
       " b'2FHL J2254.0+1613',\n",
       " b'2FHL J2304.7+3706',\n",
       " b'2FHL J2314.0+1445',\n",
       " b'2FHL J2317.8+2838',\n",
       " b'2FHL J2321.1+5910',\n",
       " b'2FHL J2321.6-1616',\n",
       " b'2FHL J2322.5+3436',\n",
       " b'2FHL J2322.7-4916',\n",
       " b'2FHL J2323.4+5848',\n",
       " b'2FHL J2323.8+4209',\n",
       " b'2FHL J2324.7-4041',\n",
       " b'2FHL J2329.2+3754',\n",
       " b'2FHL J2340.8+8014',\n",
       " b'2FHL J2343.5+3438',\n",
       " b'2FHL J2347.1+5142',\n",
       " b'2FHL J2352.0-7558']"
      ]
     },
     "execution_count": 279,
     "metadata": {},
     "output_type": "execute_result"
    }
   ],
   "source": [
    "[x for x in df[\"Source_Name\"]]"
   ]
  },
  {
   "cell_type": "code",
   "execution_count": null,
   "metadata": {},
   "outputs": [],
   "source": []
  }
 ],
 "metadata": {
  "kernelspec": {
   "display_name": "Python 3",
   "language": "python",
   "name": "python3"
  },
  "language_info": {
   "codemirror_mode": {
    "name": "ipython",
    "version": 3
   },
   "file_extension": ".py",
   "mimetype": "text/x-python",
   "name": "python",
   "nbconvert_exporter": "python",
   "pygments_lexer": "ipython3",
   "version": "3.7.9"
  },
  "toc": {
   "base_numbering": 1,
   "nav_menu": {},
   "number_sections": true,
   "sideBar": true,
   "skip_h1_title": false,
   "title_cell": "Table of Contents",
   "title_sidebar": "Contents",
   "toc_cell": false,
   "toc_position": {},
   "toc_section_display": true,
   "toc_window_display": false
  }
 },
 "nbformat": 4,
 "nbformat_minor": 2
}
