{
 "cells": [
  {
   "cell_type": "markdown",
   "metadata": {},
   "source": [
    "# ON/OFF theta2 and alpha plot\n",
    "\n",
    "This notebook produces both the theta2 plot and the alpha plot of a set of DL2 files.\n",
    "\n",
    "It extracts automatically also the time duration, given a set of DL2 files merged run-wise.\n",
    "\n",
    "Input:\n",
    "- merged DL2 run files (run-wise)\n",
    "- merged ON and merged all DL2 files\n",
    "- run numbers\n",
    "- selection cuts\n"
   ]
  },
  {
   "cell_type": "code",
   "execution_count": 65,
   "metadata": {},
   "outputs": [],
   "source": [
    "__authors__ =  'Ruben Lopez, Luca Foffano' #  ruben.lopezcoto@pd.infn.it, luca.foffano@unige.ch\n",
    "__version__ = '3.08.2020'\n",
    "\n",
    "\n",
    "# it provides theta2 plot and estimation of run duration\n",
    "\n",
    "import warnings\n",
    "warnings.filterwarnings(\"ignore\",category=DeprecationWarning)\n",
    "warnings.filterwarnings(\"ignore\",category=FutureWarning)\n",
    "warnings.filterwarnings(\"ignore\",category=RuntimeWarning)\n",
    "\n",
    "import time\n",
    "import pandas as pd\n",
    "import matplotlib.pyplot as plt\n",
    "import numpy as np\n",
    "from lstchain.reco.utils import reco_source_position_sky, radec_to_camera\n",
    "\n",
    "from lstchain.tests.test_lstchain import dl2_file, dl2_params_lstcam_key\n",
    "from astropy.coordinates import SkyCoord\n",
    "import astropy.units as u\n",
    "from gammapy.stats import WStatCountsStatistic\n",
    "\n",
    "\n",
    "plt.rcParams['figure.figsize'] = (12, 12)\n",
    "plt.rcParams['font.size'] = 20\n",
    "\n",
    "######################################################################################\n",
    "\n",
    "# SELECTION CUTS\n",
    "\n",
    "intensity_cut = 200\n",
    "leakage_cut = 0.2\n",
    "wl_cut = 0.01  \n",
    "gammaness_cut = 0.8\n",
    "n_pixels_cut = 1800    # 1800\n",
    "r_cut = 1\n",
    "\n",
    "theta2_cut =  0.1\n",
    "\n",
    "alpha_cut = 8.  \n",
    "\n",
    "\n",
    "\n",
    "# INPUT FILES\n",
    "\n",
    "runs_on = [1874, 1875, 1876,  1878, 1879, 1880] \n",
    "runs_off = [1877, 1881] \n",
    "\n",
    "#  path to the DL2 merged files - per run - e.g. merged-dl2-run1880.h5\n",
    "path_runs = '../data/crab_on_off/'\n",
    "\n",
    "\n",
    "# ON and OFF data files (each one obtained merging all ON or OFF files)\n",
    "\n",
    "on_data_file = '../data/crab_on_off/crab_on/dl2_Run01874_merged.h5'\n",
    "\n",
    "off_data_file = '../data/crab_on_off/crab_off/dl2_Run01881_merged.h5' \n",
    "\n",
    "\n",
    "# reads files - takes some minutes\n",
    "\n",
    "on_data = pd.read_hdf(on_data_file, key=dl2_params_lstcam_key)\n",
    "off_data = pd.read_hdf(off_data_file, key=dl2_params_lstcam_key)"
   ]
  },
  {
   "cell_type": "code",
   "execution_count": 66,
   "metadata": {},
   "outputs": [
    {
     "name": "stdout",
     "output_type": "stream",
     "text": [
      "Evaluating run duration...\n",
      "\n",
      "duration: 20.1 min\n",
      "ON data total duration: 1203.6 s  =  20.1 min\n",
      "\n",
      "duration: 20.3 min\n",
      "OFF data total duration: 1218.3 s  =  20.3 min\n",
      "\n"
     ]
    }
   ],
   "source": [
    "# run duration estimation\n",
    "\n",
    "print(\"Evaluating run duration...\\n\")\n",
    "\n",
    "on_obstime_start = pd.to_datetime(on_data['dragon_time'][0], unit='s')\n",
    "on_obstime_end = pd.to_datetime(on_data['dragon_time'][len(on_data)-1], unit='s')\n",
    "print(\"duration: {:.1f} min\".format((on_obstime_end - on_obstime_start).total_seconds()/60)  )\n",
    "total_obs_duration_on = (on_obstime_end - on_obstime_start).total_seconds()\n",
    "\n",
    "print(\"ON data total duration: {:.1f} s  =  {:.1f} min\\n\".format(total_obs_duration_on, \n",
    "                                                                 total_obs_duration_on/60))\n",
    "\n",
    "\n",
    "#####################################\n",
    "\n",
    "off_obstime_start = pd.to_datetime(off_data['dragon_time'][0], unit='s')\n",
    "off_obstime_end = pd.to_datetime(off_data['dragon_time'][len(off_data)-1], unit='s')\n",
    "print(\"duration: {:.1f} min\".format((off_obstime_end - off_obstime_start).total_seconds()/60)  )\n",
    "total_obs_duration_off = (off_obstime_end - off_obstime_start).total_seconds()\n",
    "\n",
    "\n",
    "print(\"OFF data total duration: {:.1f} s  =  {:.1f} min\\n\".format(total_obs_duration_off, \n",
    "                                                                 total_obs_duration_off/60))\n",
    "\n"
   ]
  },
  {
   "cell_type": "code",
   "execution_count": 67,
   "metadata": {},
   "outputs": [
    {
     "name": "stdout",
     "output_type": "stream",
     "text": [
      "Total number of ON events 8215768\n",
      "Number of ON events after cuts 3431\n"
     ]
    }
   ],
   "source": [
    "#####################################################################\n",
    "\n",
    "# ON computation\n",
    "\n",
    "source_position = [0,0]    # assuming source located in the m_tocamera center\n",
    "\n",
    "m_to_deg = np.rad2deg(np.arctan(1./28))  # conversion from deg / m\n",
    "\n",
    "Tot_Non = np.shape(on_data)[0]\n",
    "print(\"Total number of ON events\", Tot_Non)\n",
    "\n",
    "selection_cuts_on_data = np.array([\n",
    "                    (on_data['leakage_intensity_width_2'] < leakage_cut) \n",
    "                    & (on_data['intensity'] > intensity_cut) \n",
    "                    & (on_data['n_pixels'] < n_pixels_cut)\n",
    "                    & (on_data['wl'] > wl_cut) \n",
    "                    & (on_data['gammaness'] > gammaness_cut)\n",
    "                    & (on_data['r'] < r_cut) \n",
    "                    ])[0]\n",
    "\n",
    "print('Number of ON events after cuts', np.sum(selection_cuts_on_data))\n",
    "\n",
    "reco_src_x = on_data['reco_src_x'][selection_cuts_on_data]\n",
    "reco_src_y = on_data['reco_src_y'][selection_cuts_on_data]\n",
    "\n",
    "on_data['theta2'] = m_to_deg**2 * ((source_position[0] - reco_src_x)**2 + (source_position[1] - reco_src_y)**2)\n",
    "theta2 = np.array(on_data['theta2'])"
   ]
  },
  {
   "cell_type": "code",
   "execution_count": 68,
   "metadata": {},
   "outputs": [
    {
     "name": "stdout",
     "output_type": "stream",
     "text": [
      "Total number of OFF events 9116083\n",
      "Number of OFF events after cuts 2571\n"
     ]
    }
   ],
   "source": [
    "\n",
    "#####################################################################################\n",
    "\n",
    "# OFF computation\n",
    "\n",
    "selection_cuts_off_data = np.array([\n",
    "                    (off_data['leakage_intensity_width_2'] < leakage_cut) \n",
    "                    & (off_data['intensity'] > intensity_cut) \n",
    "                    & (off_data['n_pixels'] < n_pixels_cut)\n",
    "                    & (off_data['wl'] > wl_cut) \n",
    "                    & (off_data['gammaness'] > gammaness_cut)  \n",
    "                    & (off_data['r'] < r_cut)\n",
    "                    ])[0]\n",
    "\n",
    "\n",
    "Tot_Noff = np.shape(off_data)[0]\n",
    "print(\"Total number of OFF events\", Tot_Noff)\n",
    "print('Number of OFF events after cuts', np.sum(selection_cuts_off_data))\n",
    "\n",
    "reco_src_x_off = off_data['reco_src_x'][selection_cuts_off_data]\n",
    "reco_src_y_off = off_data['reco_src_y'][selection_cuts_off_data]\n",
    "\n",
    "off_data['theta2'] = m_to_deg**2 * ((reco_src_x_off)**2 + (reco_src_y_off)**2) \n",
    "\n",
    "theta2_off = np.array(off_data['theta2'])\n"
   ]
  },
  {
   "cell_type": "code",
   "execution_count": 69,
   "metadata": {},
   "outputs": [
    {
     "name": "stdout",
     "output_type": "stream",
     "text": [
      "Normalization: 1.21\n",
      "Non, Noff, Nex = 288, 66, 208\n",
      "Significance Li&Ma: 10.19\n"
     ]
    }
   ],
   "source": [
    "\n",
    "# normalization theta2\n",
    "norm_range_th2_min = 0.5\n",
    "norm_range_th2_max = 2.\n",
    "\n",
    "\n",
    "Non_norm = np.sum((theta2 > norm_range_th2_min) & (theta2 < norm_range_th2_max))\n",
    "Noff_norm = np.sum((theta2_off > norm_range_th2_min) & (theta2_off < norm_range_th2_max))\n",
    "\n",
    "Norm_theta2 = Non_norm / Noff_norm\n",
    "\n",
    "print(\"Normalization: {:.2f}\".format(Norm_theta2))\n",
    "\n",
    "Non = np.sum(theta2 < theta2_cut)\n",
    "Noff = np.sum(theta2_off < theta2_cut)\n",
    "Nex = Non - Noff * Norm_theta2\n",
    "\n",
    "print(\"Non, Noff, Nex = {:.0f}, {:.0f}, {:.0f}\".format(Non, Noff,Nex))\n",
    "\n",
    "S = Nex / np.sqrt(Noff)\n",
    "stat = WStatCountsStatistic(Non, Noff, Norm_alpha)\n",
    "lima_significance = stat.sqrt_ts.item()\n",
    "\n",
    "#print(\"\\nSignificance: {:.2f}\".format(S))\n",
    "print(\"Significance Li&Ma: {:.2f}\".format(lima_significance))"
   ]
  },
  {
   "cell_type": "code",
   "execution_count": 70,
   "metadata": {},
   "outputs": [
    {
     "name": "stderr",
     "output_type": "stream",
     "text": [
      "/Users/rlopezcoto/opt/anaconda3/envs/lst/lib/python3.7/site-packages/ipykernel_launcher.py:17: MatplotlibDeprecationWarning: The 's' parameter of annotate() has been renamed 'text' since Matplotlib 3.3; support for the old name will be dropped two minor releases later.\n"
     ]
    },
    {
     "data": {
      "text/plain": [
       "<matplotlib.legend.Legend at 0x7fbc215a8310>"
      ]
     },
     "execution_count": 70,
     "metadata": {},
     "output_type": "execute_result"
    },
    {
     "data": {
      "image/png": "[encoded data removed]",
      "text/plain": [
       "<Figure size 864x576 with 1 Axes>"
      ]
     },
     "metadata": {
      "needs_background": "light"
     },
     "output_type": "display_data"
    }
   ],
   "source": [
    "# theta2 plot\n",
    "\n",
    "nbins = 100\n",
    "range_max = 2   # deg2\n",
    "\n",
    "\n",
    "########################################################\n",
    "fig, ax = plt.subplots(1, 1, figsize=(12, 8))\n",
    "\n",
    "h_on = ax.hist(theta2,  label = 'ON data', bins=nbins, alpha=0.2, color = 'blue', range=[0,range_max])   #  color = 'C3',\n",
    "h_off = ax.hist(theta2_off, weights = Norm_theta2 * np.ones(len(theta2_off)), range=[0,range_max],\n",
    "                 histtype='step', label = 'OFF data', bins=nbins, alpha=0.5, color = 'k')\n",
    "\n",
    "ax.annotate(s=f'Significance Li&Ma = {lima_significance:.2f}' \\\n",
    "            f'$\\sigma$\\nRate = {Nex/total_obs_duration_on * 60:.1f}' \\\n",
    "            f'$\\gamma$/min  \\nObstime = {total_obs_duration_on:.1f} s\\nNon = {Non}    Noff = {Noff}   Norm_theta2 = {Norm_theta2:.2f}', \n",
    "           xy=(np.max(h_on[1]/4), np.max(h_on[0]/6*5)), size = 20, color = 'r')\n",
    "\n",
    "ax.vlines(x = theta2_cut, ymin = 0, ymax = np.max(h_on[0]*1.2), linestyle='--', linewidth = 2, color = 'black', alpha = 0.2)\n",
    "\n",
    "\n",
    "ax.set_xlabel(r'$\\theta^2$ [deg$^2$]')\n",
    "ax.set_ylabel(r'Number of events')\n",
    "ax.set_ylim(0,np.max(h_on[0]*1.2))\n",
    "ax.legend()"
   ]
  },
  {
   "cell_type": "code",
   "execution_count": null,
   "metadata": {},
   "outputs": [],
   "source": []
  }
 ],
 "metadata": {
  "kernelspec": {
   "display_name": "Python 3",
   "language": "python",
   "name": "python3"
  },
  "language_info": {
   "codemirror_mode": {
    "name": "ipython",
    "version": 3
   },
   "file_extension": ".py",
   "mimetype": "text/x-python",
   "name": "python",
   "nbconvert_exporter": "python",
   "pygments_lexer": "ipython3",
   "version": "3.7.8"
  }
 },
 "nbformat": 4,
 "nbformat_minor": 2
}
