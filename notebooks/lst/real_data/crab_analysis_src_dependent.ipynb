{
 "cells": [
  {
   "cell_type": "markdown",
   "metadata": {},
   "source": [
    "# ON/OFF theta2 and alpha plot\n",
    "\n",
    "This notebook produces both the theta2 plot and the alpha plot of a set of DL2 files.\n",
    "\n",
    "It extracts automatically also the time duration, given a set of DL2 files merged run-wise.\n",
    "\n",
    "Input:\n",
    "- merged DL2 run files (run-wise)\n",
    "- merged ON and merged all DL2 files\n",
    "- run numbers\n",
    "- selection cuts\n"
   ]
  },
  {
   "cell_type": "code",
   "execution_count": 10,
   "metadata": {},
   "outputs": [],
   "source": [
    "__authors__ =  'Ruben Lopez, Luca Foffano' #  ruben.lopezcoto@pd.infn.it, luca.foffano@unige.ch\n",
    "__version__ = '3.08.2020'\n",
    "\n",
    "\n",
    "import warnings\n",
    "warnings.filterwarnings(\"ignore\",category=DeprecationWarning)\n",
    "warnings.filterwarnings(\"ignore\",category=FutureWarning)\n",
    "warnings.filterwarnings(\"ignore\",category=RuntimeWarning)\n",
    "\n",
    "import time\n",
    "import pandas as pd\n",
    "import matplotlib.pyplot as plt\n",
    "import numpy as np\n",
    "from lstchain.reco.utils import reco_source_position_sky, radec_to_camera\n",
    "\n",
    "from lstchain.tests.test_lstchain import dl2_file, dl2_params_lstcam_key\n",
    "from astropy.coordinates import SkyCoord\n",
    "import astropy.units as u\n",
    "from gammapy.stats import WStatCountsStatistic\n",
    "\n",
    "\n",
    "\n",
    "plt.rcParams['figure.figsize'] = (12, 12)\n",
    "plt.rcParams['font.size'] = 20\n",
    "\n",
    "######################################################################################\n",
    "\n",
    "# SELECTION CUTS\n",
    "\n",
    "intensity_cut = 200\n",
    "leakage_cut = 0.2\n",
    "wl_cut = 0.01  \n",
    "gammaness_cut = 0.9\n",
    "n_pixels_cut = 1800    # 1800\n",
    "r_cut = 1\n",
    "\n",
    "theta2_cut =  0.1\n",
    "\n",
    "alpha_cut = 8.  \n",
    "\n",
    "\n",
    "# ON and OFF data files (each one obtained merging all ON or OFF files)\n",
    "\n",
    "on_data_file = '../data/crab_on_off/crab_on_src_dep/dl2_Run01874_merged.h5'\n",
    "\n",
    "off_data_file = '../data/crab_on_off/crab_off_src_dep/dl2_Run01881_merged.h5' \n",
    "\n",
    "# reads files - takes some minutes\n",
    "on_data = pd.read_hdf(on_data_file, key=dl2_params_lstcam_key)\n",
    "off_data = pd.read_hdf(off_data_file, key=dl2_params_lstcam_key)"
   ]
  },
  {
   "cell_type": "code",
   "execution_count": 11,
   "metadata": {},
   "outputs": [
    {
     "name": "stdout",
     "output_type": "stream",
     "text": [
      "Evaluating run duration...\n",
      "\n",
      "duration: 20.1 min\n",
      "ON data total duration: 1203.6 s  =  20.1 min\n",
      "\n",
      "duration: 20.3 min\n",
      "OFF data total duration: 1218.3 s  =  20.3 min\n",
      "\n"
     ]
    }
   ],
   "source": [
    "# run duration estimation\n",
    "\n",
    "print(\"Evaluating run duration...\\n\")\n",
    "\n",
    "on_obstime_start = pd.to_datetime(on_data['dragon_time'][0], unit='s')\n",
    "on_obstime_end = pd.to_datetime(on_data['dragon_time'][len(on_data)-1], unit='s')\n",
    "print(\"duration: {:.1f} min\".format((on_obstime_end - on_obstime_start).total_seconds()/60)  )\n",
    "total_obs_duration_on = (on_obstime_end - on_obstime_start).total_seconds()\n",
    "\n",
    "print(\"ON data total duration: {:.1f} s  =  {:.1f} min\\n\".format(total_obs_duration_on, \n",
    "                                                                 total_obs_duration_on/60))\n",
    "\n",
    "\n",
    "#####################################\n",
    "\n",
    "off_obstime_start = pd.to_datetime(off_data['dragon_time'][0], unit='s')\n",
    "off_obstime_end = pd.to_datetime(off_data['dragon_time'][len(off_data)-1], unit='s')\n",
    "print(\"duration: {:.1f} min\".format((off_obstime_end - off_obstime_start).total_seconds()/60)  )\n",
    "total_obs_duration_off = (off_obstime_end - off_obstime_start).total_seconds()\n",
    "\n",
    "\n",
    "print(\"OFF data total duration: {:.1f} s  =  {:.1f} min\\n\".format(total_obs_duration_off, \n",
    "                                                                 total_obs_duration_off/60))\n",
    "\n"
   ]
  },
  {
   "cell_type": "markdown",
   "metadata": {},
   "source": [
    "# Alpha analysis\n",
    "\n",
    "In this section, we compute the alpha plot "
   ]
  },
  {
   "cell_type": "code",
   "execution_count": 12,
   "metadata": {},
   "outputs": [],
   "source": [
    "# ON selection\n",
    "\n",
    "selection_cuts_on_data = np.array([\n",
    "                    (on_data['leakage_intensity_width_2'] < leakage_cut) \n",
    "                    & (on_data['intensity'] > intensity_cut) \n",
    "                    & (on_data['n_pixels'] < n_pixels_cut)\n",
    "                    & (on_data['wl'] > wl_cut) \n",
    "                    & (on_data['gammaness'] > gammaness_cut)\n",
    "                    & (on_data['r'] < r_cut) \n",
    "                    ])[0]\n",
    "\n",
    "alpha_on = on_data.alpha[selection_cuts_on_data]\n",
    "\n",
    "# OFF selection\n",
    "\n",
    "selection_cuts_off_data = np.array([\n",
    "                    (off_data['leakage_intensity_width_2'] < leakage_cut) \n",
    "                    & (off_data['intensity'] > intensity_cut) \n",
    "                    & (off_data['n_pixels'] < n_pixels_cut)\n",
    "                    & (off_data['wl'] > wl_cut) \n",
    "                    & (off_data['gammaness'] > gammaness_cut)  \n",
    "                    & (off_data['r'] < r_cut)\n",
    "                    ])[0]\n",
    "\n",
    "alpha_off = off_data.alpha[selection_cuts_off_data]\n"
   ]
  },
  {
   "cell_type": "code",
   "execution_count": 16,
   "metadata": {},
   "outputs": [
    {
     "name": "stdout",
     "output_type": "stream",
     "text": [
      "Normalization alpha 1.09\n",
      "Non, Noff, Nex = 1089, 484, 560\n",
      "\n",
      "Significance: 23.26 sigma\n",
      "\n",
      "Significance Li&Ma: 13.70 sigma\n"
     ]
    }
   ],
   "source": [
    "# normalization\n",
    "norm_range_alpha_min = 20.\n",
    "norm_range_alpha_max = 80.\n",
    "\n",
    "Non_norm = np.sum((alpha_on > norm_range_alpha_min) & (alpha_on < norm_range_alpha_max))\n",
    "Noff_norm = np.sum((alpha_off > norm_range_alpha_min) & (alpha_off < norm_range_alpha_max))\n",
    "\n",
    "Norm_alpha = Non_norm / Noff_norm\n",
    "\n",
    "Non = np.sum(alpha_on < alpha_cut)\n",
    "Noff = np.sum(alpha_off < alpha_cut)\n",
    "Nex = Non - Noff * Norm_alpha\n",
    "S = Nex / (np.sqrt(Noff) * Norm_alpha)\n",
    "\n",
    "print(\"Normalization alpha {:.2f}\".format(Norm_alpha))\n",
    "\n",
    "print(\"Non, Noff, Nex = {:.0f}, {:.0f}, {:.0f}\".format(Non, Noff, Nex))\n",
    "\n",
    "stat = WStatCountsStatistic(Non, Noff, Norm_alpha)\n",
    "lima_significance = stat.sqrt_ts.item()\n",
    "\n",
    "print(\"\\nSignificance: {:.2f} sigma\".format(S))\n",
    "print(\"\\nSignificance Li&Ma: {:.2f} sigma\".format(lima_significance))"
   ]
  },
  {
   "cell_type": "code",
   "execution_count": 17,
   "metadata": {
    "scrolled": false
   },
   "outputs": [
    {
     "name": "stderr",
     "output_type": "stream",
     "text": [
      "/Users/rlopezcoto/opt/anaconda3/envs/lst/lib/python3.7/site-packages/ipykernel_launcher.py:13: MatplotlibDeprecationWarning: The 's' parameter of annotate() has been renamed 'text' since Matplotlib 3.3; support for the old name will be dropped two minor releases later.\n",
      "  del sys.path[0]\n"
     ]
    },
    {
     "data": {
      "text/plain": [
       "<matplotlib.legend.Legend at 0x7febb0c2cf90>"
      ]
     },
     "execution_count": 17,
     "metadata": {},
     "output_type": "execute_result"
    },
    {
     "data": {
      "image/png": "[encoded data removed]",
      "text/plain": [
       "<Figure size 864x576 with 1 Axes>"
      ]
     },
     "metadata": {
      "needs_background": "light"
     },
     "output_type": "display_data"
    }
   ],
   "source": [
    "# alpha plot\n",
    "\n",
    "nbins = 45\n",
    "\n",
    "fig, ax = plt.subplots(1, 1, figsize=(12, 8))\n",
    "h_on = ax.hist(alpha_on, label = 'ON data', bins=nbins, alpha=0.2, color = 'C3')\n",
    "h2 = ax.hist(alpha_off, weights = Norm_alpha * np.ones(len(alpha_off)),\n",
    "            histtype='step', label = 'OFF data', bins=nbins, alpha=0.5, color = 'k')\n",
    "\n",
    "ax.annotate(s=f'Significance Li&Ma = {lima_significance:.2f}' \\\n",
    "            f' $\\sigma$\\nRate = {Nex/total_obs_duration_on * 60:.1f}' \\\n",
    "            f'$\\gamma$/min  \\nObstime = {total_obs_duration_on:.1f} s\\nNon = {Non}    Noff = {Noff}   Norm_alpha = {Norm_alpha:.2f}', \n",
    "           xy=(np.max(h_on[1]/5), np.max(h_on[0]/6*5)), size = 20, color = 'r')\n",
    "\n",
    "ax.vlines(x = alpha_cut, ymin = 0, ymax = np.max(h_on[0]*1.2), linestyle='--', linewidth = 2, color = 'black', alpha = 0.2)\n",
    "\n",
    "ax.set_ylabel(r'Number of events')\n",
    "ax.set_ylim(0,np.max(h_on[0]*1.2))\n",
    "\n",
    "ax.set_xlabel(r'$\\alpha$ [deg]')\n",
    "ax.legend()"
   ]
  },
  {
   "cell_type": "code",
   "execution_count": null,
   "metadata": {},
   "outputs": [],
   "source": []
  },
  {
   "cell_type": "code",
   "execution_count": null,
   "metadata": {},
   "outputs": [],
   "source": []
  }
 ],
 "metadata": {
  "kernelspec": {
   "display_name": "Python 3",
   "language": "python",
   "name": "python3"
  },
  "language_info": {
   "codemirror_mode": {
    "name": "ipython",
    "version": 3
   },
   "file_extension": ".py",
   "mimetype": "text/x-python",
   "name": "python",
   "nbconvert_exporter": "python",
   "pygments_lexer": "ipython3",
   "version": "3.7.8"
  }
 },
 "nbformat": 4,
 "nbformat_minor": 2
}
