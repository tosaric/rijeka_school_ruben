{
 "cells": [
  {
   "cell_type": "code",
   "execution_count": null,
   "metadata": {},
   "outputs": [],
   "source": [
    "import numpy as np\n",
    "from ctapipe.io import event_source\n",
    "from ctapipe.io import EventSeeker\n",
    "import matplotlib.pyplot as plt\n",
    "import numpy as np\n",
    "from ctapipe.instrument import CameraGeometry\n",
    "from ctapipe.visualization import CameraDisplay\n",
    "\n",
    "%matplotlib inline\n",
    "plt.rcParams['figure.figsize'] = (16, 9)\n",
    "plt.rcParams['font.size'] = 20\n"
   ]
  },
  {
   "cell_type": "code",
   "execution_count": null,
   "metadata": {},
   "outputs": [],
   "source": [
    "def format_axes(ax):\n",
    "    ax.set_xlabel(\"\")\n",
    "    ax.set_ylabel(\"\")\n",
    "    ax.tick_params(\n",
    "    axis='x',       # changes apply to the x-axis\n",
    "    which='both',      # both major and minor ticks are affected\n",
    "    bottom=False,      # ticks along the bottom edge are off\n",
    "    top=False,         # ticks along the top edge are off\n",
    "    labelbottom=False) # labels along the bottom edge are off\n",
    "    ax.tick_params(\n",
    "    axis='y',       # changes apply to the x-axis\n",
    "    which='both',      # both major and minor ticks are affected\n",
    "    left=False,      # ticks along the bottom edge are off\n",
    "    right=False,         # ticks along the top edge are off\n",
    "    labelleft=False) # labels along the bottom edge are off\n",
    "    \n",
    "    return ax"
   ]
  },
  {
   "cell_type": "code",
   "execution_count": null,
   "metadata": {},
   "outputs": [],
   "source": [
    "source = event_source(input_url=\"../../data/real_data/LST-1.1.Run01627.0001.fits.fz\",\n",
    "                      max_events=100)\n",
    "subarray = source.subarray\n",
    "tel_id = 1\n",
    "geom = subarray.tels[tel_id].camera.geometry"
   ]
  },
  {
   "cell_type": "code",
   "execution_count": null,
   "metadata": {},
   "outputs": [],
   "source": [
    "for i, ev in enumerate(source):\n",
    "    n_pixels = geom.n_pixels\n",
    "\n",
    "    std_signal = np.zeros(n_pixels)\n",
    "    for pixel in range(0, n_pixels):\n",
    "        std_signal[pixel] = np.max(ev.r0.tel[tel_id].waveform[0, pixel, 2:38])\n",
    "\n",
    "    if((np.size(std_signal[std_signal>1000.]) < 15) or (np.size(std_signal[std_signal>1000.]) > 1800)):\n",
    "        continue  \n",
    "    print(f\"Event {ev.lst.tel[0].evt.event_id}, Max: {np.max(std_signal)} counts\")\n",
    "\n",
    "\n",
    "    fig, ax = plt.subplots(figsize=(10,10))\n",
    "    disp0 = CameraDisplay(geom, ax=ax)\n",
    "    disp0.cmap = 'viridis'\n",
    "    disp0.image = std_signal\n",
    "    disp0.add_colorbar(ax=ax)\n",
    "\n",
    "    # Establish max and min\n",
    "    max_color = np.max(std_signal)\n",
    "    min_color = np.min(std_signal)\n",
    "\n",
    "    disp0.set_limits_minmax(min_color, max_color)\n",
    "    ax.set_title(f\"Event {ev.lst.tel[tel_id].evt.event_id}\")\n",
    "    format_axes(ax)\n",
    "#     fig.savefig(\"Images_LST/Event_%i.png\"%(ev.lst.tel[0].evt.event_id))\n",
    "\n",
    "    plt.show()"
   ]
  },
  {
   "cell_type": "code",
   "execution_count": null,
   "metadata": {},
   "outputs": [],
   "source": [
    "# If you want to make a movie with all the slices\n",
    "\n",
    "max_color = np.max(std_signal)\n",
    "min_color = np.min(std_signal)\n",
    "\n",
    "!mkdir -p image_test\n",
    "\n",
    "\n",
    "for cell in range(1,39):\n",
    "    print(\"cell\",cell)\n",
    "    fig, ax = plt.subplots(figsize=(10,10))\n",
    "    disp0 = CameraDisplay(geom, ax=ax)\n",
    "    disp0.cmap = 'viridis'\n",
    "    disp0.add_colorbar(ax=ax)\n",
    "    disp0.image = ev.r0.tel[tel_id].waveform[0,:,cell]\n",
    "    disp0.set_limits_minmax(min_color, max_color)\n",
    "    format_axes(ax)\n",
    "    ax.set_title(f\"Event {ev.lst.tel[tel_id].evt.event_id}, Time {cell} ns\")\n",
    "    fig.savefig(\"image_test/Event_{:02d}_cell{:02d}.png\".format(ev.lst.tel[tel_id].evt.event_id,cell))\n",
    "    #plt.show()"
   ]
  },
  {
   "cell_type": "code",
   "execution_count": null,
   "metadata": {},
   "outputs": [],
   "source": [
    "# make a gif movie\n",
    "!convert image_test/'Event_{ev.lst.tel[tel_id].evt.event_id}*png' image_test/'Event_{ev.lst.tel[tel_id].evt.event_id}.gif'"
   ]
  }
 ],
 "metadata": {
  "kernelspec": {
   "display_name": "Python 3",
   "language": "python",
   "name": "python3"
  },
  "language_info": {
   "codemirror_mode": {
    "name": "ipython",
    "version": 3
   },
   "file_extension": ".py",
   "mimetype": "text/x-python",
   "name": "python",
   "nbconvert_exporter": "python",
   "pygments_lexer": "ipython3",
   "version": "3.7.9"
  }
 },
 "nbformat": 4,
 "nbformat_minor": 4
}
