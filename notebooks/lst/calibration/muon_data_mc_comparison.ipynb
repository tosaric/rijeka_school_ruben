{
 "cells": [
  {
   "cell_type": "code",
   "execution_count": null,
   "metadata": {},
   "outputs": [],
   "source": [
    "from astropy.io import fits\n",
    "import numpy as np\n",
    "import matplotlib.pyplot as plt\n",
    "import seaborn as sns\n",
    "import os\n",
    "from astropy.table import Table, vstack\n",
    "import glob"
   ]
  },
  {
   "cell_type": "code",
   "execution_count": null,
   "metadata": {},
   "outputs": [],
   "source": [
    "plt.rcParams['figure.figsize'] = (12, 8)\n",
    "plt.rcParams['font.size'] = 20"
   ]
  },
  {
   "cell_type": "markdown",
   "metadata": {},
   "source": [
    "# Data analysis"
   ]
  },
  {
   "cell_type": "markdown",
   "metadata": {},
   "source": [
    "# MC - Data comparison"
   ]
  },
  {
   "cell_type": "code",
   "execution_count": null,
   "metadata": {},
   "outputs": [],
   "source": [
    "def format_axes(ax,option):\n",
    "    \n",
    "    if(option=='width'):\n",
    "        ax.set_xlabel('Muon radius [deg]')\n",
    "        ax.set_ylabel('Muon ring width [deg]')\n",
    "        ax.grid(linestyle=\"dashed\")\n",
    "        #ax.set_ylim(0.042,0.07)\n",
    "        ax.legend()\n",
    "    if(option=='size'):\n",
    "        ax2.grid(linestyle=\"dashed\")\n",
    "        ax2.legend(ncol=2)\n",
    "        ax2.set_xlabel('Muon radius [deg]')\n",
    "        ax2.set_ylabel('Muon Size [pe]')\n",
    "        ax2.set_ylim(1000,3500)"
   ]
  },
  {
   "cell_type": "code",
   "execution_count": null,
   "metadata": {},
   "outputs": [],
   "source": [
    "OPT_EFF=[0.6, 0.7, 0.8, 0.89]\n",
    "colors = ['C0', 'C1', 'C2', 'C3', 'C4']\n"
   ]
  },
  {
   "cell_type": "code",
   "execution_count": null,
   "metadata": {},
   "outputs": [],
   "source": [
    "# size (intensity) outside the ring, to get rid of hadronic showers\n",
    "size_outside = 500 # phe"
   ]
  },
  {
   "cell_type": "markdown",
   "metadata": {},
   "source": [
    "## Analyze real muon data from 20200115"
   ]
  },
  {
   "cell_type": "code",
   "execution_count": null,
   "metadata": {},
   "outputs": [],
   "source": [
    "\n",
    "from astropy.table import Table, vstack\n",
    "import glob\n",
    "\n",
    "\n",
    "listdir = glob.glob('../../data/muons/real/muons_LST-1.Run01796*')\n",
    "# Muons analyzed using GlobalPeakWindowSum\n",
    "\n",
    "dat = Table.read('./{}'.format(listdir[0]), format='fits')\n",
    "for i in range(1,len(listdir)):\n",
    "    dat2 = Table.read('./{}'.format(listdir[i]), format='fits')\n",
    "    dat = vstack([dat, dat2])\n",
    "\n",
    "df = dat.to_pandas()\n",
    "df_good_data = df[df['good_ring']]"
   ]
  },
  {
   "cell_type": "markdown",
   "metadata": {},
   "source": [
    "Now we load the MC and plot everything together"
   ]
  },
  {
   "cell_type": "code",
   "execution_count": null,
   "metadata": {},
   "outputs": [],
   "source": [
    "fig,ax = plt.subplots()\n",
    "fig2,ax2 = plt.subplots()\n",
    "\n",
    "for (opt_eff, col) in zip(OPT_EFF, colors):\n",
    "    listdir=glob.glob(f'../../data/muons/mc/Scale{opt_eff}/muon_run*')\n",
    "    dat = Table.read('{}'.format(listdir[0]), format='fits')\n",
    "    for i in range(1,len(listdir)):\n",
    "        dat2 = Table.read('{}'.format(listdir[i]), format='fits')\n",
    "        dat = vstack([dat, dat2])\n",
    "    df = dat.to_pandas()\n",
    "    df_good = df[df['good_ring']]\n",
    "    \n",
    "    \n",
    "    sns.regplot(x = df_good['ring_radius'][(df_good['ring_completeness'] > 0.9) \n",
    "                                           & (df_good['size_outside'] < size_outside)\n",
    "                                           & (df_good['ring_width'] < 0.3)], \n",
    "            y = df_good['ring_width'][(df_good['ring_completeness'] > 0.9) \n",
    "                                     & (df_good['size_outside'] < size_outside)\n",
    "                                     & (df_good['ring_width'] < 0.3)], x_bins=10, \n",
    "                ax=ax, color=col, label='Opt. eff. %.0f %%' %(opt_eff*100))\n",
    "    sns.regplot(x = df_good['ring_radius'][(df_good['ring_completeness'] > 0.9) \n",
    "                                           & (df_good['size_outside'] < size_outside)\n",
    "                                           & (df_good['ring_width'] < 0.3)], \n",
    "            y = df_good['ring_size'][(df_good['ring_completeness'] > 0.9) \n",
    "                                     & (df_good['size_outside'] < size_outside)\n",
    "                                     & (df_good['ring_width'] < 0.3)], x_bins=10, \n",
    "                ax=ax2, color=col, label='Opt. eff. %.0f %%' %(opt_eff*100))\n",
    "\n",
    "\n",
    "sns.regplot(x = df_good_data['ring_radius'][(df_good_data['ring_completeness'] > 0.9) & (df_good_data['size_outside'] < size_outside)], \n",
    "            y = df_good_data['ring_width'][(df_good_data['ring_completeness'] > 0.9) & (df_good_data['size_outside'] < size_outside)], \n",
    "            x_bins=10, ax=ax, color = 'k', label = 'Real Data')\n",
    "sns.regplot(x = df_good_data['ring_radius'][(df_good_data['ring_completeness'] > 0.9) & (df_good_data['size_outside'] < size_outside)], \n",
    "            y = df_good_data['ring_size'][(df_good_data['ring_completeness'] > 0.9) & (df_good_data['size_outside'] < size_outside)], \n",
    "            x_bins=10, ax=ax2, color = 'k', label = 'Real Data')\n",
    "\n",
    "format_axes(ax,'width')        \n",
    "format_axes(ax2,'size') "
   ]
  }
 ],
 "metadata": {
  "kernelspec": {
   "display_name": "Python 3",
   "language": "python",
   "name": "python3"
  },
  "language_info": {
   "codemirror_mode": {
    "name": "ipython",
    "version": 3
   },
   "file_extension": ".py",
   "mimetype": "text/x-python",
   "name": "python",
   "nbconvert_exporter": "python",
   "pygments_lexer": "ipython3",
   "version": "3.7.9"
  }
 },
 "nbformat": 4,
 "nbformat_minor": 2
}
