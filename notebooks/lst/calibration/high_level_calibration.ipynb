{
 "cells": [
  {
   "cell_type": "markdown",
   "metadata": {},
   "source": [
    "## r0 to r1 calibrator\n"
   ]
  },
  {
   "cell_type": "code",
   "execution_count": 1,
   "metadata": {},
   "outputs": [
    {
     "name": "stderr",
     "output_type": "stream",
     "text": [
      "/Users/rlopezcoto/opt/anaconda3/envs/lst-dev/lib/python3.7/site-packages/ctapipe/tools/stage1.py:11: TqdmExperimentalWarning: Using `tqdm.autonotebook.tqdm` in notebook mode. Use `tqdm.tqdm` instead to force console mode (e.g. in jupyter console)\n",
      "  from tqdm.autonotebook import tqdm\n"
     ]
    }
   ],
   "source": [
    "\n",
    "%load_ext autoreload\n",
    "%autoreload 2\n",
    "\n",
    "from ctapipe.io import event_source\n",
    "import sys\n",
    " \n",
    "from matplotlib import pyplot as plt\n",
    "import numpy as np\n",
    "%matplotlib inline\n",
    "import sys\n",
    "from scipy.stats import norm\n",
    "from traitlets.config.loader import Config \n",
    "from ctapipe import utils\n",
    "from ctapipe_io_lst import LSTEventSource\n",
    "\n",
    "\n",
    "# ctapipe modules\n",
    "from ctapipe.visualization import CameraDisplay\n",
    "from ctapipe.image.extractor import *\n",
    "from ctapipe.containers import PedestalContainer\n",
    "from ctapipe.io.hdf5tableio import HDF5TableWriter, HDF5TableReader\n",
    "from lstchain.calib.camera.r0 import LSTR0Corrections\n",
    "from lstchain.calib.camera.calibrator import LSTCameraCalibrator\n",
    "\n",
    "\n",
    "tel_id=1 # this is the tel_id for LST-1\n"
   ]
  },
  {
   "cell_type": "code",
   "execution_count": 5,
   "metadata": {},
   "outputs": [
    {
     "name": "stderr",
     "output_type": "stream",
     "text": [
      "Table '/tel_1/calibration' has column 'time_range' that is not in container WaveformCalibrationContainer. It will be skipped\n",
      "Table '/tel_1/calibration' is missing column 'time_min' that is in container WaveformCalibrationContainer. It will be skipped.\n",
      "Table '/tel_1/calibration' is missing column 'time_max' that is in container WaveformCalibrationContainer. It will be skipped.\n",
      "Table '/tel_1/pedestal' has column 'sample_time_range' that is not in container PedestalContainer. It will be skipped\n",
      "Table '/tel_1/pedestal' is missing column 'sample_time_min' that is in container PedestalContainer. It will be skipped.\n",
      "Table '/tel_1/pedestal' is missing column 'sample_time_max' that is in container PedestalContainer. It will be skipped.\n",
      "Table '/tel_1/flatfield' has column 'sample_time_range' that is not in container FlatFieldContainer. It will be skipped\n",
      "Table '/tel_1/flatfield' is missing column 'sample_time_min' that is in container FlatFieldContainer. It will be skipped.\n",
      "Table '/tel_1/flatfield' is missing column 'sample_time_max' that is in container FlatFieldContainer. It will be skipped.\n"
     ]
    },
    {
     "name": "stdout",
     "output_type": "stream",
     "text": [
      "EXTRACTOR <ctapipe.image.extractor.LocalPeakWindowSum object at 0x7fd229dc42d0>\n",
      "\n",
      " Read 13250 total events  in files\n",
      "\n",
      "['/Users/rlopezcoto/Desktop/2021_02_School/intro-iact-analysis/notebooks/data/real_data/LST-1.1.Run01627.0001.fits.fz'] \n"
     ]
    }
   ],
   "source": [
    "r0_r1_calibrator = LSTR0Corrections(\n",
    "    pedestal_path=\"../../data/calibration/drs4_pedestal.Run1623.0000.fits\",\n",
    "    r1_sample_start=2,r1_sample_end=38, tel_id=tel_id)\n",
    "\n",
    "# r1 to dl1 calibrator\n",
    "inp=\"../../data/calibration/calibration.Run1625.0000.hdf5\"\n",
    "time_calib = \"../../data/calibration/time_calibration.Run1625.0000.hdf5\"\n",
    "charge_config = Config({\n",
    "    \"LocalPeakWindowSum\": {\n",
    "        \"window_shift\": 4,\n",
    "        \"window_width\": 8 \n",
    "    }\n",
    "})\n",
    "\n",
    "\n",
    "reader = LSTEventSource(input_url=\"../../data/real_data/LST-1.1.Run01627.0001.fits.fz\",\n",
    "                        max_events=1000)\n",
    "subarray = reader.subarray\n",
    "\n",
    "r1_dl1_calibrator = LSTCameraCalibrator(calibration_path = inp,\n",
    "                               time_calibration_path = time_calib,\n",
    "                               gain_threshold = 3000,\n",
    "                               image_extractor=\"LocalPeakWindowSum\",\n",
    "                               config=charge_config,\n",
    "                               subarray = subarray\n",
    "                                )\n",
    "\n",
    "# shower events\n",
    "\n",
    "print(f\"\\n Read {len(reader.multi_file)} total events  in files\\n\")\n",
    "print(f\"{reader.file_list} \")"
   ]
  },
  {
   "cell_type": "code",
   "execution_count": 6,
   "metadata": {},
   "outputs": [],
   "source": [
    "# function to plot charge and time\n",
    "\n",
    "def plot_charge_time():\n",
    "    \n",
    "    dim = event.dl1.tel[tel_id].image.ndim\n",
    "    #dim = event.dl1.tel[tel_id].image.ndim\n",
    "    if dim == 1:\n",
    "        fig = plt.figure(figsize=(16, 8))\n",
    "        pad = 120\n",
    "        mask= np.where((event.lst.tel[tel_id].evt.pixel_status >> 2 & 1>0))\n",
    "    else:\n",
    "        fig = plt.figure(figsize=(16, 16))\n",
    "        pad = 220\n",
    "        mask =[]\n",
    "\n",
    "\n",
    "    for chan in np.arange(dim):\n",
    "        if dim == 1:\n",
    "            image = event.dl1.tel[tel_id].image\n",
    "        else:   \n",
    "            image = event.dl1.tel[tel_id].image[chan]\n",
    "\n",
    "        pad+=1\n",
    "        ax = plt.subplot(pad)\n",
    "        plt.tight_layout()\n",
    "        disp = CameraDisplay(subarray.tels[tel_id].camera.geometry)\n",
    "        disp.image = image  \n",
    "        disp.cmap = plt.cm.coolwarm\n",
    "        disp.set_limits_minmax(0,200)\n",
    "        disp.axes.text(1.8, 0, f'charge (pe)', rotation=90)\n",
    "        disp.add_colorbar()\n",
    "        plt.tight_layout()\n",
    "        print(f\"charge : mean {image.mean()} +- {image.std()}\")\n",
    "        disp.highlight_pixels(mask,linewidth=2)\n",
    "\n",
    "        pad+=1  \n",
    "        if dim == 1:\n",
    "            image = event.dl1.tel[tel_id].peak_time \n",
    "        else:   \n",
    "            image = event.dl1.tel[tel_id].peak_time[chan]\n",
    "\n",
    "        ax = plt.subplot(pad)  \n",
    "        plt.tight_layout()\n",
    "        disp = CameraDisplay(subarray.tels[tel_id].camera.geometry)\n",
    "        disp.image = image \n",
    "        disp.highlight_pixels(mask,linewidth=2)\n",
    "        disp.set_limits_minmax(-10,10)\n",
    "        disp.cmap = plt.cm.coolwarm\n",
    "        disp.axes.text(1.8, 0, f' time (ns)', rotation=90)\n",
    "        disp.add_colorbar()\n",
    "        plt.tight_layout()\n",
    "        print(f\"time: mean {image.mean()} +- {image.std()}\")\n"
   ]
  },
  {
   "cell_type": "code",
   "execution_count": 7,
   "metadata": {},
   "outputs": [
    {
     "name": "stderr",
     "output_type": "stream",
     "text": [
      "Table '/tel_1/calibration' has column 'time_range' that is not in container WaveformCalibrationContainer. It will be skipped\n",
      "Table '/tel_1/calibration' is missing column 'time_min' that is in container WaveformCalibrationContainer. It will be skipped.\n",
      "Table '/tel_1/calibration' is missing column 'time_max' that is in container WaveformCalibrationContainer. It will be skipped.\n",
      "Table '/tel_1/pedestal' has column 'sample_time_range' that is not in container PedestalContainer. It will be skipped\n",
      "Table '/tel_1/pedestal' is missing column 'sample_time_min' that is in container PedestalContainer. It will be skipped.\n",
      "Table '/tel_1/pedestal' is missing column 'sample_time_max' that is in container PedestalContainer. It will be skipped.\n",
      "Table '/tel_1/flatfield' has column 'sample_time_range' that is not in container FlatFieldContainer. It will be skipped\n",
      "Table '/tel_1/flatfield' is missing column 'sample_time_min' that is in container FlatFieldContainer. It will be skipped.\n",
      "Table '/tel_1/flatfield' is missing column 'sample_time_max' that is in container FlatFieldContainer. It will be skipped.\n"
     ]
    },
    {
     "name": "stdout",
     "output_type": "stream",
     "text": [
      "EXTRACTOR <ctapipe.image.extractor.LocalPeakWindowSum object at 0x7fd247014550>\n"
     ]
    },
    {
     "ename": "AttributeError",
     "evalue": "'numpy.ndarray' object has no attribute 'value'",
     "output_type": "error",
     "traceback": [
      "\u001b[0;31m---------------------------------------------------------------------------\u001b[0m",
      "\u001b[0;31mAttributeError\u001b[0m                            Traceback (most recent call last)",
      "\u001b[0;32m<ipython-input-7-c99fc3033172>\u001b[0m in \u001b[0;36m<module>\u001b[0;34m\u001b[0m\n\u001b[1;32m     19\u001b[0m     \u001b[0;32mif\u001b[0m \u001b[0mevent\u001b[0m\u001b[0;34m.\u001b[0m\u001b[0mr0\u001b[0m\u001b[0;34m.\u001b[0m\u001b[0mtel\u001b[0m\u001b[0;34m[\u001b[0m\u001b[0mtel_id\u001b[0m\u001b[0;34m]\u001b[0m\u001b[0;34m.\u001b[0m\u001b[0mtrigger_type\u001b[0m \u001b[0;34m!=\u001b[0m \u001b[0;36m32\u001b[0m\u001b[0;34m:\u001b[0m\u001b[0;34m\u001b[0m\u001b[0;34m\u001b[0m\u001b[0m\n\u001b[1;32m     20\u001b[0m         \u001b[0;31m# calibrate r1 --> dl1\u001b[0m\u001b[0;34m\u001b[0m\u001b[0;34m\u001b[0m\u001b[0;34m\u001b[0m\u001b[0m\n\u001b[0;32m---> 21\u001b[0;31m         \u001b[0mr1_dl1_calibrator\u001b[0m\u001b[0;34m(\u001b[0m\u001b[0mevent\u001b[0m\u001b[0;34m)\u001b[0m\u001b[0;34m\u001b[0m\u001b[0;34m\u001b[0m\u001b[0m\n\u001b[0m\u001b[1;32m     22\u001b[0m         \u001b[0mimage\u001b[0m \u001b[0;34m=\u001b[0m \u001b[0mevent\u001b[0m\u001b[0;34m.\u001b[0m\u001b[0mdl1\u001b[0m\u001b[0;34m.\u001b[0m\u001b[0mtel\u001b[0m\u001b[0;34m[\u001b[0m\u001b[0mtel_id\u001b[0m\u001b[0;34m]\u001b[0m\u001b[0;34m.\u001b[0m\u001b[0mimage\u001b[0m\u001b[0;34m\u001b[0m\u001b[0;34m\u001b[0m\u001b[0m\n\u001b[1;32m     23\u001b[0m \u001b[0;34m\u001b[0m\u001b[0m\n",
      "\u001b[0;32m~/opt/anaconda3/envs/lst-dev/lib/python3.7/site-packages/ctapipe/calib/camera/calibrator.py\u001b[0m in \u001b[0;36m__call__\u001b[0;34m(self, event)\u001b[0m\n\u001b[1;32m    154\u001b[0m         \u001b[0;32mfor\u001b[0m \u001b[0mtelid\u001b[0m \u001b[0;32min\u001b[0m \u001b[0mtel\u001b[0m\u001b[0;34m.\u001b[0m\u001b[0mkeys\u001b[0m\u001b[0;34m(\u001b[0m\u001b[0;34m)\u001b[0m\u001b[0;34m:\u001b[0m\u001b[0;34m\u001b[0m\u001b[0;34m\u001b[0m\u001b[0m\n\u001b[1;32m    155\u001b[0m             \u001b[0mself\u001b[0m\u001b[0;34m.\u001b[0m\u001b[0m_calibrate_dl0\u001b[0m\u001b[0;34m(\u001b[0m\u001b[0mevent\u001b[0m\u001b[0;34m,\u001b[0m \u001b[0mtelid\u001b[0m\u001b[0;34m)\u001b[0m\u001b[0;34m\u001b[0m\u001b[0;34m\u001b[0m\u001b[0m\n\u001b[0;32m--> 156\u001b[0;31m             \u001b[0mself\u001b[0m\u001b[0;34m.\u001b[0m\u001b[0m_calibrate_dl1\u001b[0m\u001b[0;34m(\u001b[0m\u001b[0mevent\u001b[0m\u001b[0;34m,\u001b[0m \u001b[0mtelid\u001b[0m\u001b[0;34m)\u001b[0m\u001b[0;34m\u001b[0m\u001b[0;34m\u001b[0m\u001b[0m\n\u001b[0m",
      "\u001b[0;32m~/Desktop/2021_02_School/cta-lstchain/lstchain/calib/camera/calibrator.py\u001b[0m in \u001b[0;36m_calibrate_dl1\u001b[0;34m(self, event, telid)\u001b[0m\n\u001b[1;32m    211\u001b[0m \u001b[0;34m\u001b[0m\u001b[0m\n\u001b[1;32m    212\u001b[0m         \u001b[0;31m# add flat-fielding time correction\u001b[0m\u001b[0;34m\u001b[0m\u001b[0;34m\u001b[0m\u001b[0;34m\u001b[0m\u001b[0m\n\u001b[0;32m--> 213\u001b[0;31m         \u001b[0mpeak_time_ff_corrected\u001b[0m \u001b[0;34m=\u001b[0m \u001b[0mpeak_time\u001b[0m \u001b[0;34m+\u001b[0m \u001b[0mself\u001b[0m\u001b[0;34m.\u001b[0m\u001b[0mmon_data\u001b[0m\u001b[0;34m.\u001b[0m\u001b[0mtel\u001b[0m\u001b[0;34m[\u001b[0m\u001b[0mtelid\u001b[0m\u001b[0;34m]\u001b[0m\u001b[0;34m.\u001b[0m\u001b[0mcalibration\u001b[0m\u001b[0;34m.\u001b[0m\u001b[0mtime_correction\u001b[0m\u001b[0;34m.\u001b[0m\u001b[0mvalue\u001b[0m\u001b[0;34m\u001b[0m\u001b[0;34m\u001b[0m\u001b[0m\n\u001b[0m\u001b[1;32m    214\u001b[0m \u001b[0;34m\u001b[0m\u001b[0m\n\u001b[1;32m    215\u001b[0m         \u001b[0;31m# perform the gain selection if the threshold is defined\u001b[0m\u001b[0;34m\u001b[0m\u001b[0;34m\u001b[0m\u001b[0;34m\u001b[0m\u001b[0m\n",
      "\u001b[0;31mAttributeError\u001b[0m: 'numpy.ndarray' object has no attribute 'value'"
     ]
    }
   ],
   "source": [
    "# loop on events\n",
    "r1_dl1_calibrator = LSTCameraCalibrator(calibration_path = inp,\n",
    "                               time_calibration_path = time_calib,\n",
    "                               gain_threshold = None,\n",
    "                               image_extractor=\"LocalPeakWindowSum\",\n",
    "                               config=charge_config,\n",
    "                               subarray=subarray \n",
    "                                    )\n",
    "\n",
    "for i, event in enumerate(reader):\n",
    "    \n",
    "    if event.index.event_id%500 == 0:\n",
    "        print(event.index.event_id)\n",
    "              \n",
    "    # calibrate r0 --> r1        \n",
    "    r0_r1_calibrator.calibrate(event)\n",
    "   \n",
    "    # if triggerd event\n",
    "    if event.r0.tel[tel_id].trigger_type != 32:                   \n",
    "        # calibrate r1 --> dl1\n",
    "        r1_dl1_calibrator(event)\n",
    "        image = event.dl1.tel[tel_id].image\n",
    "        \n",
    "        # select image with bright event and stop\n",
    "        if np.max(image>200):             \n",
    "            print(f\"max pe {np.max(image)}\")\n",
    "            break\n",
    "            \n",
    "            \n",
    "print(f\"read event id: {event.index.event_id}, trigger {event.r0.tel[tel_id].trigger_type}\")\n",
    "\n",
    "# plot selected event\n",
    "plot_charge_time()"
   ]
  },
  {
   "cell_type": "markdown",
   "metadata": {},
   "source": [
    "## with gain selection"
   ]
  },
  {
   "cell_type": "code",
   "execution_count": null,
   "metadata": {},
   "outputs": [],
   "source": [
    "# loop on events\n",
    "r1_dl1_calibrator = LSTCameraCalibrator(calibration_path = inp,\n",
    "                               time_calibration_path = time_calib,\n",
    "                               gain_threshold = 3000,\n",
    "                               image_extractor=\"LocalPeakWindowSum\",\n",
    "                               config=charge_config,\n",
    "                               subarray=subarray                                        \n",
    "                                       )\n",
    "\n",
    "for i, event in enumerate(reader):\n",
    "    \n",
    "    if event.index.event_id%500 == 0:\n",
    "        print(event.index.event_id)\n",
    "              \n",
    "    # calibrate r0 --> r1        \n",
    "    r0_r1_calibrator.calibrate(event)\n",
    "   \n",
    "    # if triggerd event\n",
    "    if event.r0.tel[tel_id].trigger_type != 32:                   \n",
    "        \n",
    "        # calibrate r1 --> dl1\n",
    "        r1_dl1_calibrator(event)\n",
    "        image = event.dl1.tel[tel_id].image\n",
    "        # bit 2 == LG \n",
    "        mask = event.lst.tel[tel_id].evt.pixel_status >> 2 & 1\n",
    "        # select image with bright event and stop\n",
    "        if(np.max(image>200) and np.max(mask)>0):             \n",
    "            print(f\"max pe {np.max(image)}\")\n",
    "            break\n",
    "            \n",
    "            \n",
    "print(f\"read event id: {event.index.event_id}, trigger {event.r0.tel[tel_id].trigger_type}\")\n",
    "\n",
    "# plot selected event\n",
    "plot_charge_time()"
   ]
  },
  {
   "cell_type": "code",
   "execution_count": 8,
   "metadata": {},
   "outputs": [
    {
     "ename": "TypeError",
     "evalue": "'>' not supported between instances of 'NoneType' and 'int'",
     "output_type": "error",
     "traceback": [
      "\u001b[0;31m---------------------------------------------------------------------------\u001b[0m",
      "\u001b[0;31mTypeError\u001b[0m                                 Traceback (most recent call last)",
      "\u001b[0;32m<ipython-input-8-8e6e311db1bf>\u001b[0m in \u001b[0;36m<module>\u001b[0;34m\u001b[0m\n\u001b[1;32m      1\u001b[0m \u001b[0mchannel\u001b[0m\u001b[0;34m=\u001b[0m\u001b[0;34m[\u001b[0m\u001b[0;34m'HG'\u001b[0m\u001b[0;34m,\u001b[0m\u001b[0;34m'LG'\u001b[0m\u001b[0;34m]\u001b[0m\u001b[0;34m\u001b[0m\u001b[0;34m\u001b[0m\u001b[0m\n\u001b[1;32m      2\u001b[0m \u001b[0;34m\u001b[0m\u001b[0m\n\u001b[0;32m----> 3\u001b[0;31m \u001b[0ma\u001b[0m\u001b[0;34m=\u001b[0m\u001b[0mnp\u001b[0m\u001b[0;34m.\u001b[0m\u001b[0mwhere\u001b[0m\u001b[0;34m(\u001b[0m\u001b[0mevent\u001b[0m\u001b[0;34m.\u001b[0m\u001b[0mdl1\u001b[0m\u001b[0;34m.\u001b[0m\u001b[0mtel\u001b[0m\u001b[0;34m[\u001b[0m\u001b[0;36m1\u001b[0m\u001b[0;34m]\u001b[0m\u001b[0;34m.\u001b[0m\u001b[0mimage\u001b[0m\u001b[0;34m>\u001b[0m\u001b[0;36m100\u001b[0m\u001b[0;34m)\u001b[0m\u001b[0;34m\u001b[0m\u001b[0;34m\u001b[0m\u001b[0m\n\u001b[0m\u001b[1;32m      4\u001b[0m \u001b[0mpix\u001b[0m\u001b[0;34m=\u001b[0m\u001b[0ma\u001b[0m\u001b[0;34m[\u001b[0m\u001b[0;36m0\u001b[0m\u001b[0;34m]\u001b[0m\u001b[0;34m[\u001b[0m\u001b[0;36m0\u001b[0m\u001b[0;34m]\u001b[0m\u001b[0;34m\u001b[0m\u001b[0;34m\u001b[0m\u001b[0m\n\u001b[1;32m      5\u001b[0m \u001b[0;34m\u001b[0m\u001b[0m\n",
      "\u001b[0;31mTypeError\u001b[0m: '>' not supported between instances of 'NoneType' and 'int'"
     ]
    }
   ],
   "source": [
    "channel=['HG','LG']\n",
    "\n",
    "a=np.where(event.dl1.tel[1].image>100)\n",
    "pix=a[0][0]\n",
    "\n",
    "fig = plt.figure(300,figsize=(12, 12))\n",
    "label=\"after calibration\"\n",
    "label1=\"before calibration\"\n",
    "chan=0\n",
    "plt.subplot(2, 2, 1)\n",
    "plt.title(f\"pixel {pix}, channel {channel[chan]}\")\n",
    "plt.plot(event.r1.tel[1].waveform[chan,pix], label=label1)\n",
    "plt.legend()\n",
    "plt.subplot(2, 2, 3)\n",
    "plt.title(f\"pixel {pix}, channel {channel[chan]}\")\n",
    "plt.plot(event.dl0.tel[1].waveform[chan,pix], label=label)   \n",
    "plt.title(f\"pixel {pix}, channel {channel[chan]}\")\n",
    "plt.legend()\n",
    "chan=1\n",
    "plt.subplot(2, 2, 2)\n",
    "plt.title(f\"pixel {pix}, channel {channel[chan]}\")\n",
    "plt.plot(event.r1.tel[1].waveform[chan,pix], label=label1)\n",
    "plt.legend()\n",
    "plt.subplot(2, 2, 4)\n",
    "plt.plot(event.dl0.tel[1].waveform[chan,pix], label=label)\n",
    "plt.title(f\"pixel {pix}, channel {channel[chan]}\")\n",
    "plt.legend()\n"
   ]
  },
  {
   "cell_type": "code",
   "execution_count": null,
   "metadata": {},
   "outputs": [],
   "source": []
  }
 ],
 "metadata": {
  "kernelspec": {
   "display_name": "Python 3",
   "language": "python",
   "name": "python3"
  },
  "language_info": {
   "codemirror_mode": {
    "name": "ipython",
    "version": 3
   },
   "file_extension": ".py",
   "mimetype": "text/x-python",
   "name": "python",
   "nbconvert_exporter": "python",
   "pygments_lexer": "ipython3",
   "version": "3.7.9"
  }
 },
 "nbformat": 4,
 "nbformat_minor": 4
}
